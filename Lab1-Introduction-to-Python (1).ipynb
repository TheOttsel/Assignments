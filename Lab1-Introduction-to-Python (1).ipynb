{
 "cells": [
  {
   "cell_type": "markdown",
   "id": "be2c052c-1aa9-4b7e-9050-f9b26834b4a5",
   "metadata": {},
   "source": [
    "## Introduction to Python\n",
    "## JN1"
   ]
  },
  {
   "cell_type": "markdown",
   "id": "2cbd0386-c1b2-4892-9299-06b07289458f",
   "metadata": {},
   "source": [
    "## Basic Jupyter"
   ]
  },
  {
   "cell_type": "code",
   "execution_count": 1,
   "id": "48a82456-8c58-4c11-b2a8-6f0a661629ae",
   "metadata": {},
   "outputs": [
    {
     "name": "stdout",
     "output_type": "stream",
     "text": [
      "Welcome to GISC405\n"
     ]
    }
   ],
   "source": [
    "#code line\n",
    "print\n",
    "print('Welcome to GISC405')"
   ]
  },
  {
   "cell_type": "code",
   "execution_count": 2,
   "id": "c9c485dd-52bc-4cfb-8a09-8df03c1e70c3",
   "metadata": {
    "tags": []
   },
   "outputs": [
    {
     "data": {
      "text/plain": [
       "\u001b[0;31mDocstring:\u001b[0m\n",
       "print(value, ..., sep=' ', end='\\n', file=sys.stdout, flush=False)\n",
       "\n",
       "Prints the values to a stream, or to sys.stdout by default.\n",
       "Optional keyword arguments:\n",
       "file:  a file-like object (stream); defaults to the current sys.stdout.\n",
       "sep:   string inserted between values, default a space.\n",
       "end:   string appended after the last value, default a newline.\n",
       "flush: whether to forcibly flush the stream.\n",
       "\u001b[0;31mType:\u001b[0m      builtin_function_or_method\n"
      ]
     },
     "metadata": {},
     "output_type": "display_data"
    }
   ],
   "source": [
    "print?"
   ]
  },
  {
   "cell_type": "code",
   "execution_count": 3,
   "id": "3ff66604-fc3c-4ffb-96d7-d485f8dd0e73",
   "metadata": {},
   "outputs": [
    {
     "name": "stdout",
     "output_type": "stream",
     "text": [
      "Welcome to GISC405\n"
     ]
    }
   ],
   "source": [
    "###use show contextual help\n",
    "print(\"Welcome to GISC405\")"
   ]
  },
  {
   "cell_type": "markdown",
   "id": "ce879618-8474-4319-bc26-19c165f74be3",
   "metadata": {},
   "source": [
    "# Section 1. Basic Python"
   ]
  },
  {
   "cell_type": "markdown",
   "id": "11351f41-55ea-477d-9619-486fd7accc2e",
   "metadata": {
    "tags": []
   },
   "source": [
    "### Section 1.1. Basic Arithmetic Operations"
   ]
  },
  {
   "cell_type": "code",
   "execution_count": 156,
   "id": "5d8de7ad-5af6-4aa4-9f9a-5dc633fb534a",
   "metadata": {},
   "outputs": [],
   "source": [
    "a = 3"
   ]
  },
  {
   "cell_type": "code",
   "execution_count": 157,
   "id": "0da5cec8-524f-4ada-9c1c-88e5a368ab8d",
   "metadata": {
    "tags": []
   },
   "outputs": [
    {
     "data": {
      "text/plain": [
       "3"
      ]
     },
     "execution_count": 157,
     "metadata": {},
     "output_type": "execute_result"
    }
   ],
   "source": [
    "a"
   ]
  },
  {
   "cell_type": "code",
   "execution_count": 158,
   "id": "954d565b-520e-4ecd-8f72-424f6efd640f",
   "metadata": {},
   "outputs": [],
   "source": [
    "b = 2"
   ]
  },
  {
   "cell_type": "code",
   "execution_count": 159,
   "id": "a8bd7a3b-471a-4af5-95fa-4a741574df61",
   "metadata": {},
   "outputs": [
    {
     "data": {
      "text/plain": [
       "9"
      ]
     },
     "execution_count": 159,
     "metadata": {},
     "output_type": "execute_result"
    }
   ],
   "source": [
    "a**b"
   ]
  },
  {
   "cell_type": "code",
   "execution_count": 160,
   "id": "61727b7c-5f9f-456f-8985-98abfc564941",
   "metadata": {},
   "outputs": [
    {
     "data": {
      "text/plain": [
       "6"
      ]
     },
     "execution_count": 160,
     "metadata": {},
     "output_type": "execute_result"
    }
   ],
   "source": [
    "a*b"
   ]
  },
  {
   "cell_type": "code",
   "execution_count": 161,
   "id": "2000f6a0-d7c5-44fc-9483-14e0f459c206",
   "metadata": {
    "tags": []
   },
   "outputs": [],
   "source": [
    "c = a**b\n",
    "d = a*b"
   ]
  },
  {
   "cell_type": "code",
   "execution_count": 1,
   "id": "08816ea3-aa55-4a4b-89e9-30e95fcb9c99",
   "metadata": {},
   "outputs": [],
   "source": [
    "v = 3**2"
   ]
  },
  {
   "cell_type": "code",
   "execution_count": 2,
   "id": "c7367c0e-a22b-4b05-ae07-05d41c67bb10",
   "metadata": {},
   "outputs": [
    {
     "name": "stdout",
     "output_type": "stream",
     "text": [
      "9\n"
     ]
    }
   ],
   "source": [
    "print(v)"
   ]
  },
  {
   "cell_type": "code",
   "execution_count": 162,
   "id": "663740dc-b28c-49ba-93ad-53ba12c6e954",
   "metadata": {},
   "outputs": [
    {
     "name": "stdout",
     "output_type": "stream",
     "text": [
      "square of 3 is 9\n",
      "3 multipled by 2 is 6\n"
     ]
    }
   ],
   "source": [
    "print('square of',a,'is',c)\n",
    "print(a,'multipled by',b, \"is\",d )"
   ]
  },
  {
   "cell_type": "code",
   "execution_count": 163,
   "id": "eaeb0a65-ad22-4e93-b8cb-1aec3967b54f",
   "metadata": {},
   "outputs": [
    {
     "data": {
      "text/plain": [
       "1"
      ]
     },
     "execution_count": 163,
     "metadata": {},
     "output_type": "execute_result"
    }
   ],
   "source": [
    "5//4"
   ]
  },
  {
   "cell_type": "code",
   "execution_count": 164,
   "id": "209f68fe-4653-4ea6-9738-65f05e241ea8",
   "metadata": {},
   "outputs": [
    {
     "data": {
      "text/plain": [
       "1.25"
      ]
     },
     "execution_count": 164,
     "metadata": {},
     "output_type": "execute_result"
    }
   ],
   "source": [
    "5/4"
   ]
  },
  {
   "cell_type": "code",
   "execution_count": 165,
   "id": "d63d5090-2a6f-4d3f-a1d0-a384fb47d5e7",
   "metadata": {
    "tags": []
   },
   "outputs": [
    {
     "data": {
      "text/plain": [
       "1"
      ]
     },
     "execution_count": 165,
     "metadata": {},
     "output_type": "execute_result"
    }
   ],
   "source": [
    "int(5/4)"
   ]
  },
  {
   "cell_type": "code",
   "execution_count": 166,
   "id": "4829bbb3-d1ad-44dc-85dc-14d5473c829f",
   "metadata": {},
   "outputs": [
    {
     "data": {
      "text/plain": [
       "\u001b[0;31mInit signature:\u001b[0m \u001b[0mint\u001b[0m\u001b[0;34m(\u001b[0m\u001b[0mself\u001b[0m\u001b[0;34m,\u001b[0m \u001b[0;34m/\u001b[0m\u001b[0;34m,\u001b[0m \u001b[0;34m*\u001b[0m\u001b[0margs\u001b[0m\u001b[0;34m,\u001b[0m \u001b[0;34m**\u001b[0m\u001b[0mkwargs\u001b[0m\u001b[0;34m)\u001b[0m\u001b[0;34m\u001b[0m\u001b[0;34m\u001b[0m\u001b[0m\n",
       "\u001b[0;31mDocstring:\u001b[0m     \n",
       "int([x]) -> integer\n",
       "int(x, base=10) -> integer\n",
       "\n",
       "Convert a number or string to an integer, or return 0 if no arguments\n",
       "are given.  If x is a number, return x.__int__().  For floating point\n",
       "numbers, this truncates towards zero.\n",
       "\n",
       "If x is not a number or if base is given, then x must be a string,\n",
       "bytes, or bytearray instance representing an integer literal in the\n",
       "given base.  The literal can be preceded by '+' or '-' and be surrounded\n",
       "by whitespace.  The base defaults to 10.  Valid bases are 0 and 2-36.\n",
       "Base 0 means to interpret the base from the string as an integer literal.\n",
       ">>> int('0b100', base=0)\n",
       "4\n",
       "\u001b[0;31mType:\u001b[0m           type\n",
       "\u001b[0;31mSubclasses:\u001b[0m     bool, IntEnum, IntFlag, _NamedIntConstant\n"
      ]
     },
     "metadata": {},
     "output_type": "display_data"
    }
   ],
   "source": [
    "int?"
   ]
  },
  {
   "cell_type": "code",
   "execution_count": 167,
   "id": "f899120b-3b75-442a-980c-2075e1e014e0",
   "metadata": {},
   "outputs": [
    {
     "data": {
      "text/plain": [
       "1.0"
      ]
     },
     "execution_count": 167,
     "metadata": {},
     "output_type": "execute_result"
    }
   ],
   "source": [
    "5.5//4 # Can someone tell me what this oepration does?"
   ]
  },
  {
   "cell_type": "code",
   "execution_count": 168,
   "id": "47f1aa7c-f679-4bdc-8878-944f3aa8f0f2",
   "metadata": {},
   "outputs": [
    {
     "data": {
      "text/plain": [
       "3"
      ]
     },
     "execution_count": 168,
     "metadata": {},
     "output_type": "execute_result"
    }
   ],
   "source": [
    "7%4 # Can someone tell me what this operation does?"
   ]
  },
  {
   "cell_type": "code",
   "execution_count": 169,
   "id": "2eae9e6b-f5c7-4d10-b709-0a7a64f3f912",
   "metadata": {},
   "outputs": [
    {
     "data": {
      "text/plain": [
       "1"
      ]
     },
     "execution_count": 169,
     "metadata": {},
     "output_type": "execute_result"
    }
   ],
   "source": [
    "7//4"
   ]
  },
  {
   "cell_type": "code",
   "execution_count": 170,
   "id": "a9d6b531-5b8d-47e9-99a6-4a6247590f75",
   "metadata": {},
   "outputs": [],
   "source": [
    "a = list([1,[2,3]]) # A list in Python is a collectoon of different \"objects\" or variables with different data types"
   ]
  },
  {
   "cell_type": "code",
   "execution_count": 171,
   "id": "b3184e49-fcf8-401f-abca-65c1e5698246",
   "metadata": {},
   "outputs": [
    {
     "data": {
      "text/plain": [
       "[2, 3]"
      ]
     },
     "execution_count": 171,
     "metadata": {},
     "output_type": "execute_result"
    }
   ],
   "source": [
    "a[1]"
   ]
  },
  {
   "cell_type": "code",
   "execution_count": 172,
   "id": "e57b7a0a-5ce8-48db-9fac-20fc3b42ec8e",
   "metadata": {},
   "outputs": [
    {
     "data": {
      "text/plain": [
       "[1, [2, 3]]"
      ]
     },
     "execution_count": 172,
     "metadata": {},
     "output_type": "execute_result"
    }
   ],
   "source": [
    "a"
   ]
  },
  {
   "cell_type": "code",
   "execution_count": null,
   "id": "8ca084b8-b0cf-4e91-8e90-d75d7d957a95",
   "metadata": {},
   "outputs": [],
   "source": []
  },
  {
   "cell_type": "code",
   "execution_count": 173,
   "id": "b79d0eb5-50ad-44aa-86a8-10089973df20",
   "metadata": {},
   "outputs": [],
   "source": [
    "a = list(['kit','marwan', 'sky'])"
   ]
  },
  {
   "cell_type": "code",
   "execution_count": 174,
   "id": "c2022566-0880-43f6-ab50-0a8afff9a277",
   "metadata": {},
   "outputs": [
    {
     "data": {
      "text/plain": [
       "'sky'"
      ]
     },
     "execution_count": 174,
     "metadata": {},
     "output_type": "execute_result"
    }
   ],
   "source": [
    "a[2]"
   ]
  },
  {
   "cell_type": "code",
   "execution_count": 175,
   "id": "7aa80a04-a38d-40c5-ad49-4dfc18b9b412",
   "metadata": {},
   "outputs": [
    {
     "data": {
      "text/plain": [
       "3"
      ]
     },
     "execution_count": 175,
     "metadata": {},
     "output_type": "execute_result"
    }
   ],
   "source": [
    "len(a)  # len, short for lenght, returns the number of items in the list"
   ]
  },
  {
   "cell_type": "code",
   "execution_count": 176,
   "id": "8774882e-26ae-4cee-9c82-9c5251e92c31",
   "metadata": {},
   "outputs": [
    {
     "data": {
      "text/plain": [
       "5"
      ]
     },
     "execution_count": 176,
     "metadata": {},
     "output_type": "execute_result"
    }
   ],
   "source": [
    "len(\"12345\")"
   ]
  },
  {
   "cell_type": "code",
   "execution_count": 4,
   "id": "ad0ab8a5-e4c0-433a-b1b1-5085a847184d",
   "metadata": {},
   "outputs": [],
   "source": [
    "b = dict([('kit', 5), ('sky', 'newstudent'), ('marwan', -5)])  # A dictionary stores values into specific variable names that can be called directly form the list"
   ]
  },
  {
   "cell_type": "code",
   "execution_count": 178,
   "id": "c4bc8fbe-f682-4a68-84fd-6af34d27325a",
   "metadata": {},
   "outputs": [
    {
     "data": {
      "text/plain": [
       "'newstudent'"
      ]
     },
     "execution_count": 178,
     "metadata": {},
     "output_type": "execute_result"
    }
   ],
   "source": [
    "b['sky']"
   ]
  },
  {
   "cell_type": "code",
   "execution_count": 7,
   "id": "def458cc-15fc-4e40-a725-af7543f84642",
   "metadata": {
    "tags": []
   },
   "outputs": [],
   "source": [
    "# Dictionaries can also be set using braces {} without invoking the function \"dict\"\n",
    "MetData={'Temperature':[20,15,18],'Wind Speed':[3,6,10]}"
   ]
  },
  {
   "cell_type": "code",
   "execution_count": 180,
   "id": "e457b163-bf66-4635-8f89-5499fe2cce34",
   "metadata": {},
   "outputs": [
    {
     "data": {
      "text/plain": [
       "[20, 15, 18]"
      ]
     },
     "execution_count": 180,
     "metadata": {},
     "output_type": "execute_result"
    }
   ],
   "source": [
    "MetData['Temperature'] # calling a specific part of the dictionary"
   ]
  },
  {
   "cell_type": "code",
   "execution_count": null,
   "id": "663a2f04-5bba-444c-a5b5-f7bc3fae9e51",
   "metadata": {},
   "outputs": [],
   "source": [
    "b['x']  # calling a specific part of the dictionary"
   ]
  },
  {
   "cell_type": "markdown",
   "id": "51c38586-5147-41e4-9c66-f45cf704b07b",
   "metadata": {},
   "source": [
    "### Section 1.2. Conditional Statements"
   ]
  },
  {
   "cell_type": "code",
   "execution_count": null,
   "id": "36318ceb-5af5-4365-8b54-40fc7785656d",
   "metadata": {},
   "outputs": [],
   "source": [
    "a = 3\n",
    "b = 2"
   ]
  },
  {
   "cell_type": "code",
   "execution_count": null,
   "id": "c4ea3507-8bcc-4be2-9632-6bf4c9073f02",
   "metadata": {},
   "outputs": [],
   "source": [
    "if (a > 3):\n",
    "    e = a\n",
    "elif (a < 3):\n",
    "    e = 3\n",
    "else:\n",
    "    e = 0"
   ]
  },
  {
   "cell_type": "code",
   "execution_count": null,
   "id": "f3e47811-2239-4826-b824-ba08c8205f85",
   "metadata": {},
   "outputs": [],
   "source": [
    "e"
   ]
  },
  {
   "cell_type": "code",
   "execution_count": null,
   "id": "735d7a8e-7af8-46c6-aeef-077a0f6e1685",
   "metadata": {},
   "outputs": [],
   "source": [
    "if (a > 3) and (b <=2):\n",
    "    e = a + b"
   ]
  },
  {
   "cell_type": "code",
   "execution_count": null,
   "id": "c7dd19d6-ceae-4876-9e9b-0624aa4ace43",
   "metadata": {},
   "outputs": [],
   "source": [
    "e"
   ]
  },
  {
   "cell_type": "code",
   "execution_count": 2,
   "id": "8ab3f71b-9db6-4287-a825-d174a0dadb20",
   "metadata": {},
   "outputs": [],
   "source": [
    "gisc_405 = 99"
   ]
  },
  {
   "cell_type": "markdown",
   "id": "f153a79f-2a5b-4125-9385-fc5d45d1d9f1",
   "metadata": {},
   "source": [
    "Other conditional statements include switch/case pairs and won't be discussed here since we won't use it for this course."
   ]
  },
  {
   "cell_type": "markdown",
   "id": "39bae9db-f1e1-4362-aab1-dc5c51586c82",
   "metadata": {},
   "source": [
    "### Section 1.3. Loop Statements"
   ]
  },
  {
   "cell_type": "code",
   "execution_count": null,
   "id": "38a21f81-f307-498f-943a-a7cb145f0552",
   "metadata": {},
   "outputs": [],
   "source": [
    "a = 0"
   ]
  },
  {
   "cell_type": "code",
   "execution_count": null,
   "id": "5b08c0f2-0798-4f06-ac3f-554f273decfd",
   "metadata": {
    "tags": []
   },
   "outputs": [],
   "source": [
    "for i in range(0,10):  # looping the index i from 0 to 10 in steps of 1\n",
    "    a = a + i"
   ]
  },
  {
   "cell_type": "code",
   "execution_count": null,
   "id": "92138346-bc53-4250-b2df-11d14ffc0231",
   "metadata": {},
   "outputs": [],
   "source": [
    "list(range(0,10))"
   ]
  },
  {
   "cell_type": "code",
   "execution_count": null,
   "id": "ffac1827-4951-4675-8069-b5ea57116dd1",
   "metadata": {},
   "outputs": [],
   "source": [
    "range?"
   ]
  },
  {
   "cell_type": "code",
   "execution_count": null,
   "id": "642de1a8-d72a-4ad0-8f8c-954a5d66287f",
   "metadata": {},
   "outputs": [],
   "source": [
    "a"
   ]
  },
  {
   "cell_type": "code",
   "execution_count": null,
   "id": "66cc1827-b13b-45ee-a186-54753515dddc",
   "metadata": {},
   "outputs": [],
   "source": [
    "b = 0"
   ]
  },
  {
   "cell_type": "code",
   "execution_count": null,
   "id": "83bf0b4d-d9ef-4e73-a400-ad8cf74a26fb",
   "metadata": {},
   "outputs": [],
   "source": [
    "i = 0\n",
    "while i < 10:\n",
    "    b = b+i\n",
    "    i=i+1"
   ]
  },
  {
   "cell_type": "code",
   "execution_count": null,
   "id": "2d0e1fb1-9ef2-4b11-ab18-ac87af49e4c7",
   "metadata": {},
   "outputs": [],
   "source": [
    "b"
   ]
  },
  {
   "cell_type": "markdown",
   "id": "71e9fd2b-25fd-4538-9ad3-c1ddb3caa352",
   "metadata": {
    "tags": []
   },
   "source": [
    "### Section 1.4. Defining a Function"
   ]
  },
  {
   "cell_type": "code",
   "execution_count": 3,
   "id": "34171d59-d3ef-4a75-92ba-a08faa417156",
   "metadata": {},
   "outputs": [],
   "source": [
    "def add_two(a,b):\n",
    "    c = a + b\n",
    "    return c"
   ]
  },
  {
   "cell_type": "code",
   "execution_count": 4,
   "id": "7aac06b0-b2af-4996-8d6a-646903904760",
   "metadata": {},
   "outputs": [],
   "source": [
    "c=add_two(10,20)"
   ]
  },
  {
   "cell_type": "code",
   "execution_count": 5,
   "id": "9284fdcc-976d-4791-9ecc-cb553297166d",
   "metadata": {},
   "outputs": [
    {
     "data": {
      "text/plain": [
       "30"
      ]
     },
     "execution_count": 5,
     "metadata": {},
     "output_type": "execute_result"
    }
   ],
   "source": [
    "c"
   ]
  },
  {
   "cell_type": "code",
   "execution_count": null,
   "id": "9a39aec5-a642-4d0b-9803-c8fd1bc786d9",
   "metadata": {},
   "outputs": [],
   "source": [
    "a=[3,4,5]\n",
    "b=[10,20,30]\n",
    "c=a[0]+b[0]\n",
    "#c =add_two(a,b)"
   ]
  },
  {
   "cell_type": "code",
   "execution_count": null,
   "id": "51a5fba5-6e2b-48a2-b481-c0f08de52e9c",
   "metadata": {},
   "outputs": [],
   "source": [
    "c"
   ]
  },
  {
   "cell_type": "markdown",
   "id": "bc716d07-b5fe-49fc-93cc-3d4406814a9c",
   "metadata": {},
   "source": [
    "### Section 1.5. Task\n",
    "Write a function (gisc_exponential) to calculate the exponential of a variable with the base of Euler’s number. Return 0 if the result is smaller than 0.1.\n",
    "\n",
    "Note: check your python reference card on Larn resources to find the exponential function"
   ]
  },
  {
   "cell_type": "code",
   "execution_count": null,
   "id": "f3129633-2808-44ab-b7d4-d04b3a0bf641",
   "metadata": {
    "tags": []
   },
   "outputs": [],
   "source": [
    "def gisc_exponential(x):\n",
    "    E=2.718281828459045**x\n",
    "    if E<=0.1:\n",
    "        return E\n",
    "    else:\n",
    "        print(\"Your exponent is not less than 0.1\")\n",
    "        return E\n",
    "        \n",
    "# print(\"The Euler's base exponent of\",x,\"is:\",gisc_exponential(x))"
   ]
  },
  {
   "cell_type": "code",
   "execution_count": null,
   "id": "e86f1a56-b181-46de-887d-d515d7692b00",
   "metadata": {},
   "outputs": [],
   "source": [
    "gisc_exponential(3)"
   ]
  },
  {
   "cell_type": "markdown",
   "id": "f45c8707-429b-4f9a-9581-58a5a54b63e5",
   "metadata": {},
   "source": [
    "# Section 2. Matrix Manipulation\n",
    "Numpy is \"The fundamental package for scientific computing with Python\". (https://numpy.org)"
   ]
  },
  {
   "cell_type": "markdown",
   "id": "2a3876a9-fbc0-4a0a-8b70-7046d23bdef2",
   "metadata": {},
   "source": [
    "### Section 2.1. Importing Libraries"
   ]
  },
  {
   "cell_type": "code",
   "execution_count": null,
   "id": "130464ab-4a21-46c4-98f1-6e307a367603",
   "metadata": {
    "tags": []
   },
   "outputs": [],
   "source": [
    "### Libraries are existing packages of functions/classes written by you or someone else. You can utilize the existing functions to speed up your work."
   ]
  },
  {
   "cell_type": "code",
   "execution_count": 13,
   "id": "1bc24201-3346-4b92-8304-864efe4a0dd3",
   "metadata": {},
   "outputs": [],
   "source": [
    "import numpy as np # import all the library"
   ]
  },
  {
   "cell_type": "code",
   "execution_count": 14,
   "id": "3009cc00-256f-4b5a-8f43-10d0c764e033",
   "metadata": {},
   "outputs": [],
   "source": [
    "from numpy import sqrt as npsqrt # import a specific operation"
   ]
  },
  {
   "cell_type": "code",
   "execution_count": null,
   "id": "726dd15d-94a0-4116-a97f-c25dc970fc82",
   "metadata": {},
   "outputs": [],
   "source": [
    "np.sqrt(10) # personally I like this way..."
   ]
  },
  {
   "cell_type": "code",
   "execution_count": null,
   "id": "fdc25d98-04dd-4cce-824c-8a194def1046",
   "metadata": {},
   "outputs": [],
   "source": [
    "np.sqrt(16)"
   ]
  },
  {
   "cell_type": "markdown",
   "id": "e5ea1210-cb6f-4028-82a3-1aacf23d8e22",
   "metadata": {},
   "source": [
    "### Section 2.2. Creating a Matrix"
   ]
  },
  {
   "cell_type": "code",
   "execution_count": 15,
   "id": "6fed5ce9-8408-4001-aece-2cf733a2781d",
   "metadata": {},
   "outputs": [],
   "source": [
    "a = np.arange(0,1000,1)"
   ]
  },
  {
   "cell_type": "code",
   "execution_count": 16,
   "id": "0c8113a9-debf-4d80-85b9-785a974bec89",
   "metadata": {
    "tags": []
   },
   "outputs": [
    {
     "data": {
      "text/plain": [
       "array([  0,   1,   2,   3,   4,   5,   6,   7,   8,   9,  10,  11,  12,\n",
       "        13,  14,  15,  16,  17,  18,  19,  20,  21,  22,  23,  24,  25,\n",
       "        26,  27,  28,  29,  30,  31,  32,  33,  34,  35,  36,  37,  38,\n",
       "        39,  40,  41,  42,  43,  44,  45,  46,  47,  48,  49,  50,  51,\n",
       "        52,  53,  54,  55,  56,  57,  58,  59,  60,  61,  62,  63,  64,\n",
       "        65,  66,  67,  68,  69,  70,  71,  72,  73,  74,  75,  76,  77,\n",
       "        78,  79,  80,  81,  82,  83,  84,  85,  86,  87,  88,  89,  90,\n",
       "        91,  92,  93,  94,  95,  96,  97,  98,  99, 100, 101, 102, 103,\n",
       "       104, 105, 106, 107, 108, 109, 110, 111, 112, 113, 114, 115, 116,\n",
       "       117, 118, 119, 120, 121, 122, 123, 124, 125, 126, 127, 128, 129,\n",
       "       130, 131, 132, 133, 134, 135, 136, 137, 138, 139, 140, 141, 142,\n",
       "       143, 144, 145, 146, 147, 148, 149, 150, 151, 152, 153, 154, 155,\n",
       "       156, 157, 158, 159, 160, 161, 162, 163, 164, 165, 166, 167, 168,\n",
       "       169, 170, 171, 172, 173, 174, 175, 176, 177, 178, 179, 180, 181,\n",
       "       182, 183, 184, 185, 186, 187, 188, 189, 190, 191, 192, 193, 194,\n",
       "       195, 196, 197, 198, 199, 200, 201, 202, 203, 204, 205, 206, 207,\n",
       "       208, 209, 210, 211, 212, 213, 214, 215, 216, 217, 218, 219, 220,\n",
       "       221, 222, 223, 224, 225, 226, 227, 228, 229, 230, 231, 232, 233,\n",
       "       234, 235, 236, 237, 238, 239, 240, 241, 242, 243, 244, 245, 246,\n",
       "       247, 248, 249, 250, 251, 252, 253, 254, 255, 256, 257, 258, 259,\n",
       "       260, 261, 262, 263, 264, 265, 266, 267, 268, 269, 270, 271, 272,\n",
       "       273, 274, 275, 276, 277, 278, 279, 280, 281, 282, 283, 284, 285,\n",
       "       286, 287, 288, 289, 290, 291, 292, 293, 294, 295, 296, 297, 298,\n",
       "       299, 300, 301, 302, 303, 304, 305, 306, 307, 308, 309, 310, 311,\n",
       "       312, 313, 314, 315, 316, 317, 318, 319, 320, 321, 322, 323, 324,\n",
       "       325, 326, 327, 328, 329, 330, 331, 332, 333, 334, 335, 336, 337,\n",
       "       338, 339, 340, 341, 342, 343, 344, 345, 346, 347, 348, 349, 350,\n",
       "       351, 352, 353, 354, 355, 356, 357, 358, 359, 360, 361, 362, 363,\n",
       "       364, 365, 366, 367, 368, 369, 370, 371, 372, 373, 374, 375, 376,\n",
       "       377, 378, 379, 380, 381, 382, 383, 384, 385, 386, 387, 388, 389,\n",
       "       390, 391, 392, 393, 394, 395, 396, 397, 398, 399, 400, 401, 402,\n",
       "       403, 404, 405, 406, 407, 408, 409, 410, 411, 412, 413, 414, 415,\n",
       "       416, 417, 418, 419, 420, 421, 422, 423, 424, 425, 426, 427, 428,\n",
       "       429, 430, 431, 432, 433, 434, 435, 436, 437, 438, 439, 440, 441,\n",
       "       442, 443, 444, 445, 446, 447, 448, 449, 450, 451, 452, 453, 454,\n",
       "       455, 456, 457, 458, 459, 460, 461, 462, 463, 464, 465, 466, 467,\n",
       "       468, 469, 470, 471, 472, 473, 474, 475, 476, 477, 478, 479, 480,\n",
       "       481, 482, 483, 484, 485, 486, 487, 488, 489, 490, 491, 492, 493,\n",
       "       494, 495, 496, 497, 498, 499, 500, 501, 502, 503, 504, 505, 506,\n",
       "       507, 508, 509, 510, 511, 512, 513, 514, 515, 516, 517, 518, 519,\n",
       "       520, 521, 522, 523, 524, 525, 526, 527, 528, 529, 530, 531, 532,\n",
       "       533, 534, 535, 536, 537, 538, 539, 540, 541, 542, 543, 544, 545,\n",
       "       546, 547, 548, 549, 550, 551, 552, 553, 554, 555, 556, 557, 558,\n",
       "       559, 560, 561, 562, 563, 564, 565, 566, 567, 568, 569, 570, 571,\n",
       "       572, 573, 574, 575, 576, 577, 578, 579, 580, 581, 582, 583, 584,\n",
       "       585, 586, 587, 588, 589, 590, 591, 592, 593, 594, 595, 596, 597,\n",
       "       598, 599, 600, 601, 602, 603, 604, 605, 606, 607, 608, 609, 610,\n",
       "       611, 612, 613, 614, 615, 616, 617, 618, 619, 620, 621, 622, 623,\n",
       "       624, 625, 626, 627, 628, 629, 630, 631, 632, 633, 634, 635, 636,\n",
       "       637, 638, 639, 640, 641, 642, 643, 644, 645, 646, 647, 648, 649,\n",
       "       650, 651, 652, 653, 654, 655, 656, 657, 658, 659, 660, 661, 662,\n",
       "       663, 664, 665, 666, 667, 668, 669, 670, 671, 672, 673, 674, 675,\n",
       "       676, 677, 678, 679, 680, 681, 682, 683, 684, 685, 686, 687, 688,\n",
       "       689, 690, 691, 692, 693, 694, 695, 696, 697, 698, 699, 700, 701,\n",
       "       702, 703, 704, 705, 706, 707, 708, 709, 710, 711, 712, 713, 714,\n",
       "       715, 716, 717, 718, 719, 720, 721, 722, 723, 724, 725, 726, 727,\n",
       "       728, 729, 730, 731, 732, 733, 734, 735, 736, 737, 738, 739, 740,\n",
       "       741, 742, 743, 744, 745, 746, 747, 748, 749, 750, 751, 752, 753,\n",
       "       754, 755, 756, 757, 758, 759, 760, 761, 762, 763, 764, 765, 766,\n",
       "       767, 768, 769, 770, 771, 772, 773, 774, 775, 776, 777, 778, 779,\n",
       "       780, 781, 782, 783, 784, 785, 786, 787, 788, 789, 790, 791, 792,\n",
       "       793, 794, 795, 796, 797, 798, 799, 800, 801, 802, 803, 804, 805,\n",
       "       806, 807, 808, 809, 810, 811, 812, 813, 814, 815, 816, 817, 818,\n",
       "       819, 820, 821, 822, 823, 824, 825, 826, 827, 828, 829, 830, 831,\n",
       "       832, 833, 834, 835, 836, 837, 838, 839, 840, 841, 842, 843, 844,\n",
       "       845, 846, 847, 848, 849, 850, 851, 852, 853, 854, 855, 856, 857,\n",
       "       858, 859, 860, 861, 862, 863, 864, 865, 866, 867, 868, 869, 870,\n",
       "       871, 872, 873, 874, 875, 876, 877, 878, 879, 880, 881, 882, 883,\n",
       "       884, 885, 886, 887, 888, 889, 890, 891, 892, 893, 894, 895, 896,\n",
       "       897, 898, 899, 900, 901, 902, 903, 904, 905, 906, 907, 908, 909,\n",
       "       910, 911, 912, 913, 914, 915, 916, 917, 918, 919, 920, 921, 922,\n",
       "       923, 924, 925, 926, 927, 928, 929, 930, 931, 932, 933, 934, 935,\n",
       "       936, 937, 938, 939, 940, 941, 942, 943, 944, 945, 946, 947, 948,\n",
       "       949, 950, 951, 952, 953, 954, 955, 956, 957, 958, 959, 960, 961,\n",
       "       962, 963, 964, 965, 966, 967, 968, 969, 970, 971, 972, 973, 974,\n",
       "       975, 976, 977, 978, 979, 980, 981, 982, 983, 984, 985, 986, 987,\n",
       "       988, 989, 990, 991, 992, 993, 994, 995, 996, 997, 998, 999])"
      ]
     },
     "execution_count": 16,
     "metadata": {},
     "output_type": "execute_result"
    }
   ],
   "source": [
    "a"
   ]
  },
  {
   "cell_type": "code",
   "execution_count": null,
   "id": "3833d7d8-e221-479b-8ef0-8b50d36ba2a0",
   "metadata": {
    "tags": []
   },
   "outputs": [],
   "source": [
    "np.sqrt(a)"
   ]
  },
  {
   "cell_type": "code",
   "execution_count": null,
   "id": "204f763d-6be1-4a3c-9c8f-e44a32b9f295",
   "metadata": {},
   "outputs": [],
   "source": [
    "a.shape"
   ]
  },
  {
   "cell_type": "code",
   "execution_count": null,
   "id": "b8411b9c-6f38-4d0b-b363-1f713b21136b",
   "metadata": {},
   "outputs": [],
   "source": [
    "b=np.reshape(a,(10,-1))"
   ]
  },
  {
   "cell_type": "code",
   "execution_count": null,
   "id": "081b9d67-6d3e-4540-be6f-2e7aaaf60da4",
   "metadata": {
    "tags": []
   },
   "outputs": [],
   "source": [
    "b.shape"
   ]
  },
  {
   "cell_type": "code",
   "execution_count": null,
   "id": "8f7bb16b-9e10-4e98-8ed3-f3c636bc692f",
   "metadata": {
    "tags": []
   },
   "outputs": [],
   "source": [
    "b"
   ]
  },
  {
   "cell_type": "code",
   "execution_count": null,
   "id": "962095d1-77ea-4c20-a218-09c8d29d4c5e",
   "metadata": {},
   "outputs": [],
   "source": [
    "c = np.zeros((10,5))"
   ]
  },
  {
   "cell_type": "code",
   "execution_count": null,
   "id": "e8c86447-4ced-4f5d-92be-ee29c2e6bd4b",
   "metadata": {
    "tags": []
   },
   "outputs": [],
   "source": [
    "c"
   ]
  },
  {
   "cell_type": "code",
   "execution_count": null,
   "id": "5da71d26-37a9-42e7-aaf6-a59647af9331",
   "metadata": {},
   "outputs": [],
   "source": [
    "D=[[1, 2, 3, 4],[10, 20, 30, 40],[50, 60, 70, 80]]  # matrices can deifned by direct assignment"
   ]
  },
  {
   "cell_type": "code",
   "execution_count": null,
   "id": "63fb1cc4-2765-4e6a-9390-2443ec55b53b",
   "metadata": {},
   "outputs": [],
   "source": [
    "np.shape(D)"
   ]
  },
  {
   "cell_type": "markdown",
   "id": "e789b327-7ac3-4e5f-85b8-654fbe92976a",
   "metadata": {},
   "source": [
    "### Section 2.3. Matrix Operations"
   ]
  },
  {
   "cell_type": "code",
   "execution_count": null,
   "id": "af7f4208-7b7d-4d39-a99a-feb6f774bfc0",
   "metadata": {},
   "outputs": [],
   "source": [
    "d = np.arange(0.0, 1000.0, 1.0).reshape(10,-1) # nesting operations in one line is common in this course"
   ]
  },
  {
   "cell_type": "code",
   "execution_count": null,
   "id": "78c5453e-387b-4e1f-805c-293e182ff3db",
   "metadata": {},
   "outputs": [],
   "source": [
    "d.shape"
   ]
  },
  {
   "cell_type": "code",
   "execution_count": null,
   "id": "b16aec18-b9e2-4b4d-9986-0e0ae4a4d1b1",
   "metadata": {
    "jupyter": {
     "source_hidden": true
    },
    "tags": []
   },
   "outputs": [],
   "source": [
    "d"
   ]
  },
  {
   "cell_type": "code",
   "execution_count": null,
   "id": "9a0a5dd6-dae3-434a-a402-d0d140991ad7",
   "metadata": {},
   "outputs": [],
   "source": [
    "d.dtype"
   ]
  },
  {
   "cell_type": "code",
   "execution_count": null,
   "id": "38dc1c6f-a868-40df-8ccc-a71ddc3d1337",
   "metadata": {},
   "outputs": [],
   "source": [
    "b.dtype"
   ]
  },
  {
   "cell_type": "code",
   "execution_count": null,
   "id": "c466948e-a9bc-4539-ac64-c6f4fd28f18e",
   "metadata": {},
   "outputs": [],
   "source": [
    "b.shape"
   ]
  },
  {
   "cell_type": "code",
   "execution_count": null,
   "id": "66e74f2c-5256-454f-830b-02444dad1022",
   "metadata": {},
   "outputs": [],
   "source": [
    "d.shape"
   ]
  },
  {
   "cell_type": "code",
   "execution_count": null,
   "id": "099fe2b9-f1f8-4e27-b6f1-0b29336f0cfe",
   "metadata": {
    "tags": []
   },
   "outputs": [],
   "source": [
    "np.multiply(b,d) # Linear algebra rule for mulitplying"
   ]
  },
  {
   "cell_type": "code",
   "execution_count": null,
   "id": "db759b7b-2fe1-4db6-aa9d-fc7599f6d5b9",
   "metadata": {
    "tags": []
   },
   "outputs": [],
   "source": [
    "b*d # direct one-to-one multiplication, better suted for geospatial data operations, why?"
   ]
  },
  {
   "cell_type": "code",
   "execution_count": null,
   "id": "1d36c02b-18e2-437f-a8bc-3ba98253471c",
   "metadata": {},
   "outputs": [],
   "source": [
    "np.matmul(b,d.transpose())"
   ]
  },
  {
   "cell_type": "markdown",
   "id": "008374f6-8459-4330-b458-cb08ad5ae3d4",
   "metadata": {},
   "source": [
    "### Section 1.5. Task\n",
    "Try to use the function you wrote (gisc_exponential) from the above with the numpy array (b), will it work?\n",
    "Rewrite the function using numpy function np.exp\n",
    "Can you use an array as input to the function this time?"
   ]
  },
  {
   "cell_type": "code",
   "execution_count": 17,
   "id": "ee52f2b0-078e-46c2-a8f2-7c1673e95b2c",
   "metadata": {},
   "outputs": [],
   "source": [
    "def gisc_exponential(x):\n",
    "    E=2.718281828459045**x\n",
    "    if E<=0.1:\n",
    "        return E\n",
    "    else:\n",
    "        print(\"Your exponent is not less than 0.1\")\n",
    "        return E\n",
    "        \n",
    "# print(\"The Euler's base exponent of\",x,\"is:\",gisc_exponential(x))"
   ]
  },
  {
   "cell_type": "code",
   "execution_count": 25,
   "id": "bf5a3fad-4635-425f-8d9e-371705b4bb83",
   "metadata": {},
   "outputs": [
    {
     "name": "stdout",
     "output_type": "stream",
     "text": [
      "Your exponent is not less than 0.1\n"
     ]
    }
   ],
   "source": [
    "B1=gisc_exponential(3)"
   ]
  },
  {
   "cell_type": "code",
   "execution_count": 22,
   "id": "e0095fb6-0eab-47bf-9714-8ed82e1f45f0",
   "metadata": {},
   "outputs": [
    {
     "data": {
      "text/plain": [
       "(12, 2)"
      ]
     },
     "execution_count": 22,
     "metadata": {},
     "output_type": "execute_result"
    }
   ],
   "source": [
    "b=np.arange(0,12,0.5).reshape(12,-1)\n",
    "np.shape(b)"
   ]
  },
  {
   "cell_type": "code",
   "execution_count": 26,
   "id": "2c4efe70-21af-4424-9370-e797ec089107",
   "metadata": {},
   "outputs": [],
   "source": [
    "E=np.exp(b)"
   ]
  },
  {
   "cell_type": "code",
   "execution_count": 27,
   "id": "3701c815-590c-4e75-852a-6c37062cdb00",
   "metadata": {},
   "outputs": [
    {
     "data": {
      "text/plain": [
       "(12, 2)"
      ]
     },
     "execution_count": 27,
     "metadata": {},
     "output_type": "execute_result"
    }
   ],
   "source": [
    "E.shape"
   ]
  },
  {
   "cell_type": "code",
   "execution_count": 28,
   "id": "91333e9e-a146-4cbc-9c8d-c6db0cf8de0b",
   "metadata": {},
   "outputs": [
    {
     "data": {
      "text/plain": [
       "array([[1.00000000e+00, 1.64872127e+00],\n",
       "       [2.71828183e+00, 4.48168907e+00],\n",
       "       [7.38905610e+00, 1.21824940e+01],\n",
       "       [2.00855369e+01, 3.31154520e+01],\n",
       "       [5.45981500e+01, 9.00171313e+01],\n",
       "       [1.48413159e+02, 2.44691932e+02],\n",
       "       [4.03428793e+02, 6.65141633e+02],\n",
       "       [1.09663316e+03, 1.80804241e+03],\n",
       "       [2.98095799e+03, 4.91476884e+03],\n",
       "       [8.10308393e+03, 1.33597268e+04],\n",
       "       [2.20264658e+04, 3.63155027e+04],\n",
       "       [5.98741417e+04, 9.87157710e+04]])"
      ]
     },
     "execution_count": 28,
     "metadata": {},
     "output_type": "execute_result"
    }
   ],
   "source": [
    "E"
   ]
  },
  {
   "cell_type": "code",
   "execution_count": 29,
   "id": "469d0dce-7c73-40a5-ac67-f91ff96ba6c7",
   "metadata": {},
   "outputs": [
    {
     "data": {
      "text/plain": [
       "array([[ True,  True],\n",
       "       [ True,  True],\n",
       "       [ True, False],\n",
       "       [False, False],\n",
       "       [False, False],\n",
       "       [False, False],\n",
       "       [False, False],\n",
       "       [False, False],\n",
       "       [False, False],\n",
       "       [False, False],\n",
       "       [False, False],\n",
       "       [False, False]])"
      ]
     },
     "execution_count": 29,
     "metadata": {},
     "output_type": "execute_result"
    }
   ],
   "source": [
    "E<10"
   ]
  },
  {
   "cell_type": "code",
   "execution_count": 30,
   "id": "133d2061-c56f-49f1-b55a-a199856c5f0a",
   "metadata": {},
   "outputs": [
    {
     "data": {
      "text/plain": [
       "array([[  0,   0],\n",
       "       [  0,   0],\n",
       "       [  0, 100],\n",
       "       [100, 100],\n",
       "       [100, 100],\n",
       "       [100, 100],\n",
       "       [100, 100],\n",
       "       [100, 100],\n",
       "       [100, 100],\n",
       "       [100, 100],\n",
       "       [100, 100],\n",
       "       [100, 100]])"
      ]
     },
     "execution_count": 30,
     "metadata": {},
     "output_type": "execute_result"
    }
   ],
   "source": [
    "np.where(E<10,0,100)"
   ]
  },
  {
   "cell_type": "code",
   "execution_count": 269,
   "id": "46ecb3b2-5393-4598-a91c-9f6226add287",
   "metadata": {},
   "outputs": [
    {
     "data": {
      "text/plain": [
       "array([[ 0. ,  0.5],\n",
       "       [ 1. ,  1.5],\n",
       "       [ 2. ,  2.5],\n",
       "       [ 3. ,  3.5],\n",
       "       [ 4. ,  4.5],\n",
       "       [ 5. ,  5.5],\n",
       "       [ 6. ,  6.5],\n",
       "       [ 7. ,  7.5],\n",
       "       [ 8. ,  8.5],\n",
       "       [ 9. ,  9.5],\n",
       "       [10. , 10.5],\n",
       "       [11. , 11.5]])"
      ]
     },
     "execution_count": 269,
     "metadata": {},
     "output_type": "execute_result"
    }
   ],
   "source": [
    "b"
   ]
  },
  {
   "cell_type": "code",
   "execution_count": 301,
   "id": "0b51523d-025c-4128-ad4a-df82fd1ec5a2",
   "metadata": {},
   "outputs": [],
   "source": [
    "def gisc_exponential_V2(x):\n",
    "    E=np.exp(x)\n",
    "    E_new=np.where(E<10,0,E)\n",
    "    return E_new"
   ]
  },
  {
   "cell_type": "code",
   "execution_count": 302,
   "id": "f351638e-1dca-4dff-b92f-17d027eca44a",
   "metadata": {},
   "outputs": [
    {
     "data": {
      "text/plain": [
       "array([[0.00000000e+00, 0.00000000e+00],\n",
       "       [0.00000000e+00, 0.00000000e+00],\n",
       "       [0.00000000e+00, 1.21824940e+01],\n",
       "       [2.00855369e+01, 3.31154520e+01],\n",
       "       [5.45981500e+01, 9.00171313e+01],\n",
       "       [1.48413159e+02, 2.44691932e+02],\n",
       "       [4.03428793e+02, 6.65141633e+02],\n",
       "       [1.09663316e+03, 1.80804241e+03],\n",
       "       [2.98095799e+03, 4.91476884e+03],\n",
       "       [8.10308393e+03, 1.33597268e+04],\n",
       "       [2.20264658e+04, 3.63155027e+04],\n",
       "       [5.98741417e+04, 9.87157710e+04]])"
      ]
     },
     "execution_count": 302,
     "metadata": {},
     "output_type": "execute_result"
    }
   ],
   "source": [
    "gisc_exponential_V2(b)"
   ]
  }
 ],
 "metadata": {
  "kernelspec": {
   "display_name": "Python (baseline)",
   "language": "python",
   "name": "baseline"
  },
  "language_info": {
   "codemirror_mode": {
    "name": "ipython",
    "version": 3
   },
   "file_extension": ".py",
   "mimetype": "text/x-python",
   "name": "python",
   "nbconvert_exporter": "python",
   "pygments_lexer": "ipython3",
   "version": "3.8.16"
  }
 },
 "nbformat": 4,
 "nbformat_minor": 5
}
