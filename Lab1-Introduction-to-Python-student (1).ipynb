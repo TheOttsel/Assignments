{
 "cells": [
  {
   "cell_type": "markdown",
   "id": "be2c052c-1aa9-4b7e-9050-f9b26834b4a5",
   "metadata": {},
   "source": [
    "## Introduction to Python\n",
    "## JN1"
   ]
  },
  {
   "cell_type": "markdown",
   "id": "2cbd0386-c1b2-4892-9299-06b07289458f",
   "metadata": {},
   "source": [
    "## Basic Jupyter"
   ]
  },
  {
   "cell_type": "code",
   "execution_count": 4,
   "id": "48a82456-8c58-4c11-b2a8-6f0a661629ae",
   "metadata": {},
   "outputs": [
    {
     "name": "stdout",
     "output_type": "stream",
     "text": [
      "Welcome to GISC405\n"
     ]
    }
   ],
   "source": [
    "#code line\n",
    "print\n",
    "print('Welcome to GISC405')"
   ]
  },
  {
   "cell_type": "code",
   "execution_count": 2,
   "id": "c9c485dd-52bc-4cfb-8a09-8df03c1e70c3",
   "metadata": {
    "tags": []
   },
   "outputs": [
    {
     "data": {
      "text/plain": [
       "\u001b[0;31mDocstring:\u001b[0m\n",
       "print(value, ..., sep=' ', end='\\n', file=sys.stdout, flush=False)\n",
       "\n",
       "Prints the values to a stream, or to sys.stdout by default.\n",
       "Optional keyword arguments:\n",
       "file:  a file-like object (stream); defaults to the current sys.stdout.\n",
       "sep:   string inserted between values, default a space.\n",
       "end:   string appended after the last value, default a newline.\n",
       "flush: whether to forcibly flush the stream.\n",
       "\u001b[0;31mType:\u001b[0m      builtin_function_or_method\n"
      ]
     },
     "metadata": {},
     "output_type": "display_data"
    }
   ],
   "source": [
    "print?"
   ]
  },
  {
   "cell_type": "code",
   "execution_count": 3,
   "id": "3ff66604-fc3c-4ffb-96d7-d485f8dd0e73",
   "metadata": {},
   "outputs": [
    {
     "name": "stdout",
     "output_type": "stream",
     "text": [
      "Welcome to GISC405\n"
     ]
    }
   ],
   "source": [
    "###use show contextual help\n",
    "print(\"Welcome to GISC405\")"
   ]
  },
  {
   "cell_type": "markdown",
   "id": "ce879618-8474-4319-bc26-19c165f74be3",
   "metadata": {},
   "source": [
    "# Section 1. Basic Python"
   ]
  },
  {
   "cell_type": "markdown",
   "id": "11351f41-55ea-477d-9619-486fd7accc2e",
   "metadata": {
    "tags": []
   },
   "source": [
    "### Section 1.1. Basic Arithmetic Operations"
   ]
  },
  {
   "cell_type": "code",
   "execution_count": 156,
   "id": "5d8de7ad-5af6-4aa4-9f9a-5dc633fb534a",
   "metadata": {},
   "outputs": [],
   "source": [
    "a = 3"
   ]
  },
  {
   "cell_type": "code",
   "execution_count": 157,
   "id": "0da5cec8-524f-4ada-9c1c-88e5a368ab8d",
   "metadata": {
    "tags": []
   },
   "outputs": [
    {
     "data": {
      "text/plain": [
       "3"
      ]
     },
     "execution_count": 157,
     "metadata": {},
     "output_type": "execute_result"
    }
   ],
   "source": [
    "a"
   ]
  },
  {
   "cell_type": "code",
   "execution_count": 158,
   "id": "954d565b-520e-4ecd-8f72-424f6efd640f",
   "metadata": {},
   "outputs": [],
   "source": [
    "b = 2"
   ]
  },
  {
   "cell_type": "code",
   "execution_count": 159,
   "id": "a8bd7a3b-471a-4af5-95fa-4a741574df61",
   "metadata": {},
   "outputs": [
    {
     "data": {
      "text/plain": [
       "9"
      ]
     },
     "execution_count": 159,
     "metadata": {},
     "output_type": "execute_result"
    }
   ],
   "source": [
    "a**b"
   ]
  },
  {
   "cell_type": "code",
   "execution_count": 160,
   "id": "61727b7c-5f9f-456f-8985-98abfc564941",
   "metadata": {},
   "outputs": [
    {
     "data": {
      "text/plain": [
       "6"
      ]
     },
     "execution_count": 160,
     "metadata": {},
     "output_type": "execute_result"
    }
   ],
   "source": [
    "a*b"
   ]
  },
  {
   "cell_type": "code",
   "execution_count": 161,
   "id": "2000f6a0-d7c5-44fc-9483-14e0f459c206",
   "metadata": {
    "tags": []
   },
   "outputs": [],
   "source": [
    "c = a**b\n",
    "d = a*b"
   ]
  },
  {
   "cell_type": "code",
   "execution_count": 162,
   "id": "663740dc-b28c-49ba-93ad-53ba12c6e954",
   "metadata": {},
   "outputs": [
    {
     "name": "stdout",
     "output_type": "stream",
     "text": [
      "square of 3 is 9\n",
      "3 multipled by 2 is 6\n"
     ]
    }
   ],
   "source": [
    "print('square of',a,'is',c)\n",
    "print(a,'multipled by',b, \"is\",d )"
   ]
  },
  {
   "cell_type": "code",
   "execution_count": 163,
   "id": "eaeb0a65-ad22-4e93-b8cb-1aec3967b54f",
   "metadata": {},
   "outputs": [
    {
     "data": {
      "text/plain": [
       "1"
      ]
     },
     "execution_count": 163,
     "metadata": {},
     "output_type": "execute_result"
    }
   ],
   "source": [
    "5//4"
   ]
  },
  {
   "cell_type": "code",
   "execution_count": 164,
   "id": "209f68fe-4653-4ea6-9738-65f05e241ea8",
   "metadata": {},
   "outputs": [
    {
     "data": {
      "text/plain": [
       "1.25"
      ]
     },
     "execution_count": 164,
     "metadata": {},
     "output_type": "execute_result"
    }
   ],
   "source": [
    "5/4"
   ]
  },
  {
   "cell_type": "code",
   "execution_count": 165,
   "id": "d63d5090-2a6f-4d3f-a1d0-a384fb47d5e7",
   "metadata": {
    "tags": []
   },
   "outputs": [
    {
     "data": {
      "text/plain": [
       "1"
      ]
     },
     "execution_count": 165,
     "metadata": {},
     "output_type": "execute_result"
    }
   ],
   "source": [
    "int(5/4)"
   ]
  },
  {
   "cell_type": "code",
   "execution_count": 166,
   "id": "4829bbb3-d1ad-44dc-85dc-14d5473c829f",
   "metadata": {},
   "outputs": [
    {
     "data": {
      "text/plain": [
       "\u001b[0;31mInit signature:\u001b[0m \u001b[0mint\u001b[0m\u001b[0;34m(\u001b[0m\u001b[0mself\u001b[0m\u001b[0;34m,\u001b[0m \u001b[0;34m/\u001b[0m\u001b[0;34m,\u001b[0m \u001b[0;34m*\u001b[0m\u001b[0margs\u001b[0m\u001b[0;34m,\u001b[0m \u001b[0;34m**\u001b[0m\u001b[0mkwargs\u001b[0m\u001b[0;34m)\u001b[0m\u001b[0;34m\u001b[0m\u001b[0;34m\u001b[0m\u001b[0m\n",
       "\u001b[0;31mDocstring:\u001b[0m     \n",
       "int([x]) -> integer\n",
       "int(x, base=10) -> integer\n",
       "\n",
       "Convert a number or string to an integer, or return 0 if no arguments\n",
       "are given.  If x is a number, return x.__int__().  For floating point\n",
       "numbers, this truncates towards zero.\n",
       "\n",
       "If x is not a number or if base is given, then x must be a string,\n",
       "bytes, or bytearray instance representing an integer literal in the\n",
       "given base.  The literal can be preceded by '+' or '-' and be surrounded\n",
       "by whitespace.  The base defaults to 10.  Valid bases are 0 and 2-36.\n",
       "Base 0 means to interpret the base from the string as an integer literal.\n",
       ">>> int('0b100', base=0)\n",
       "4\n",
       "\u001b[0;31mType:\u001b[0m           type\n",
       "\u001b[0;31mSubclasses:\u001b[0m     bool, IntEnum, IntFlag, _NamedIntConstant\n"
      ]
     },
     "metadata": {},
     "output_type": "display_data"
    }
   ],
   "source": [
    "int?"
   ]
  },
  {
   "cell_type": "code",
   "execution_count": 167,
   "id": "f899120b-3b75-442a-980c-2075e1e014e0",
   "metadata": {},
   "outputs": [
    {
     "data": {
      "text/plain": [
       "1.0"
      ]
     },
     "execution_count": 167,
     "metadata": {},
     "output_type": "execute_result"
    }
   ],
   "source": [
    "5.5//4 # Can someone tell me what this oepration does?"
   ]
  },
  {
   "cell_type": "code",
   "execution_count": 168,
   "id": "47f1aa7c-f679-4bdc-8878-944f3aa8f0f2",
   "metadata": {},
   "outputs": [
    {
     "data": {
      "text/plain": [
       "3"
      ]
     },
     "execution_count": 168,
     "metadata": {},
     "output_type": "execute_result"
    }
   ],
   "source": [
    "7%4 # Can someone tell me what this operation does?"
   ]
  },
  {
   "cell_type": "code",
   "execution_count": 169,
   "id": "2eae9e6b-f5c7-4d10-b709-0a7a64f3f912",
   "metadata": {},
   "outputs": [
    {
     "data": {
      "text/plain": [
       "1"
      ]
     },
     "execution_count": 169,
     "metadata": {},
     "output_type": "execute_result"
    }
   ],
   "source": [
    "7//4"
   ]
  },
  {
   "cell_type": "code",
   "execution_count": 13,
   "id": "a9d6b531-5b8d-47e9-99a6-4a6247590f75",
   "metadata": {},
   "outputs": [],
   "source": [
    "a = list([1,[2,3]]) # A list in Python is a collectoon of different \"objects\" or variables with different data types"
   ]
  },
  {
   "cell_type": "code",
   "execution_count": 14,
   "id": "b3184e49-fcf8-401f-abca-65c1e5698246",
   "metadata": {},
   "outputs": [
    {
     "data": {
      "text/plain": [
       "[2, 3]"
      ]
     },
     "execution_count": 14,
     "metadata": {},
     "output_type": "execute_result"
    }
   ],
   "source": [
    "a[1]"
   ]
  },
  {
   "cell_type": "code",
   "execution_count": 15,
   "id": "e57b7a0a-5ce8-48db-9fac-20fc3b42ec8e",
   "metadata": {},
   "outputs": [
    {
     "data": {
      "text/plain": [
       "[2, 3]"
      ]
     },
     "execution_count": 15,
     "metadata": {},
     "output_type": "execute_result"
    }
   ],
   "source": [
    "a[1]"
   ]
  },
  {
   "cell_type": "code",
   "execution_count": null,
   "id": "8ca084b8-b0cf-4e91-8e90-d75d7d957a95",
   "metadata": {},
   "outputs": [],
   "source": []
  },
  {
   "cell_type": "code",
   "execution_count": 173,
   "id": "b79d0eb5-50ad-44aa-86a8-10089973df20",
   "metadata": {},
   "outputs": [],
   "source": [
    "a = list(['kit','marwan', 'sky'])"
   ]
  },
  {
   "cell_type": "code",
   "execution_count": 174,
   "id": "c2022566-0880-43f6-ab50-0a8afff9a277",
   "metadata": {},
   "outputs": [
    {
     "data": {
      "text/plain": [
       "'sky'"
      ]
     },
     "execution_count": 174,
     "metadata": {},
     "output_type": "execute_result"
    }
   ],
   "source": [
    "a[2]"
   ]
  },
  {
   "cell_type": "code",
   "execution_count": 175,
   "id": "7aa80a04-a38d-40c5-ad49-4dfc18b9b412",
   "metadata": {},
   "outputs": [
    {
     "data": {
      "text/plain": [
       "3"
      ]
     },
     "execution_count": 175,
     "metadata": {},
     "output_type": "execute_result"
    }
   ],
   "source": [
    "len(a)  # len, short for lenght, returns the number of items in the list"
   ]
  },
  {
   "cell_type": "code",
   "execution_count": 176,
   "id": "8774882e-26ae-4cee-9c82-9c5251e92c31",
   "metadata": {},
   "outputs": [
    {
     "data": {
      "text/plain": [
       "5"
      ]
     },
     "execution_count": 176,
     "metadata": {},
     "output_type": "execute_result"
    }
   ],
   "source": [
    "len(\"12345\")"
   ]
  },
  {
   "cell_type": "code",
   "execution_count": 4,
   "id": "ad0ab8a5-e4c0-433a-b1b1-5085a847184d",
   "metadata": {},
   "outputs": [],
   "source": [
    "b = dict([('kit', 5), ('sky', 'newstudent'), ('marwan', -5)])  # A dictionary stores values into specific variable names that can be called directly form the list"
   ]
  },
  {
   "cell_type": "code",
   "execution_count": 178,
   "id": "c4bc8fbe-f682-4a68-84fd-6af34d27325a",
   "metadata": {},
   "outputs": [
    {
     "data": {
      "text/plain": [
       "'newstudent'"
      ]
     },
     "execution_count": 178,
     "metadata": {},
     "output_type": "execute_result"
    }
   ],
   "source": [
    "b['sky']"
   ]
  },
  {
   "cell_type": "code",
   "execution_count": 7,
   "id": "def458cc-15fc-4e40-a725-af7543f84642",
   "metadata": {
    "tags": []
   },
   "outputs": [],
   "source": [
    "# Dictionaries can also be set using braces {} without invoking the function \"dict\"\n",
    "MetData={'Temperature':[20,15,18],'Wind Speed':[3,6,10]}"
   ]
  },
  {
   "cell_type": "code",
   "execution_count": 180,
   "id": "e457b163-bf66-4635-8f89-5499fe2cce34",
   "metadata": {},
   "outputs": [
    {
     "data": {
      "text/plain": [
       "[20, 15, 18]"
      ]
     },
     "execution_count": 180,
     "metadata": {},
     "output_type": "execute_result"
    }
   ],
   "source": [
    "MetData['Temperature'] # calling a specific part of the dictionary"
   ]
  },
  {
   "cell_type": "code",
   "execution_count": null,
   "id": "663a2f04-5bba-444c-a5b5-f7bc3fae9e51",
   "metadata": {},
   "outputs": [],
   "source": [
    "b['x']  # calling a specific part of the dictionary"
   ]
  },
  {
   "cell_type": "markdown",
   "id": "51c38586-5147-41e4-9c66-f45cf704b07b",
   "metadata": {},
   "source": [
    "### Section 1.2. Conditional Statements"
   ]
  },
  {
   "cell_type": "code",
   "execution_count": 27,
   "id": "36318ceb-5af5-4365-8b54-40fc7785656d",
   "metadata": {},
   "outputs": [],
   "source": [
    "a = 4\n",
    "b = 2"
   ]
  },
  {
   "cell_type": "code",
   "execution_count": 20,
   "id": "c4ea3507-8bcc-4be2-9632-6bf4c9073f02",
   "metadata": {},
   "outputs": [],
   "source": [
    "if (a > 3):\n",
    "    e = a\n",
    "elif (a < 3):\n",
    "    e = 3\n",
    "else:\n",
    "    e = 0"
   ]
  },
  {
   "cell_type": "code",
   "execution_count": 21,
   "id": "f3e47811-2239-4826-b824-ba08c8205f85",
   "metadata": {},
   "outputs": [
    {
     "data": {
      "text/plain": [
       "0"
      ]
     },
     "execution_count": 21,
     "metadata": {},
     "output_type": "execute_result"
    }
   ],
   "source": [
    "e"
   ]
  },
  {
   "cell_type": "code",
   "execution_count": 28,
   "id": "735d7a8e-7af8-46c6-aeef-077a0f6e1685",
   "metadata": {},
   "outputs": [],
   "source": [
    "if (a > 3) and (b <=2):\n",
    "    e = a + b\n",
    "else:\n",
    "    print('try again')"
   ]
  },
  {
   "cell_type": "code",
   "execution_count": 29,
   "id": "c7dd19d6-ceae-4876-9e9b-0624aa4ace43",
   "metadata": {},
   "outputs": [
    {
     "data": {
      "text/plain": [
       "6"
      ]
     },
     "execution_count": 29,
     "metadata": {},
     "output_type": "execute_result"
    }
   ],
   "source": [
    "e"
   ]
  },
  {
   "cell_type": "markdown",
   "id": "f153a79f-2a5b-4125-9385-fc5d45d1d9f1",
   "metadata": {},
   "source": [
    "Other conditional statements include switch/case pairs and won't be discussed here since we won't use it for this course."
   ]
  },
  {
   "cell_type": "markdown",
   "id": "39bae9db-f1e1-4362-aab1-dc5c51586c82",
   "metadata": {},
   "source": [
    "### Section 1.3. Loop Statements"
   ]
  },
  {
   "cell_type": "code",
   "execution_count": 10,
   "id": "38a21f81-f307-498f-943a-a7cb145f0552",
   "metadata": {},
   "outputs": [],
   "source": [
    "a = 0"
   ]
  },
  {
   "cell_type": "code",
   "execution_count": 11,
   "id": "59f0ed67-5bce-46fe-b310-686fdb18de62",
   "metadata": {},
   "outputs": [
    {
     "data": {
      "text/plain": [
       "[0, 1, 2, 3, 4, 5, 6, 7, 8, 9]"
      ]
     },
     "execution_count": 11,
     "metadata": {},
     "output_type": "execute_result"
    }
   ],
   "source": [
    "r=range(0,10)\n",
    "list(r)"
   ]
  },
  {
   "cell_type": "code",
   "execution_count": 12,
   "id": "5b08c0f2-0798-4f06-ac3f-554f273decfd",
   "metadata": {
    "tags": []
   },
   "outputs": [],
   "source": [
    "for i in range(0,10):  # looping the index i from 0 to 10 in steps of 1\n",
    "    a = a + i"
   ]
  },
  {
   "cell_type": "code",
   "execution_count": 13,
   "id": "92138346-bc53-4250-b2df-11d14ffc0231",
   "metadata": {},
   "outputs": [
    {
     "data": {
      "text/plain": [
       "[0, 1, 2, 3, 4, 5, 6, 7, 8, 9]"
      ]
     },
     "execution_count": 13,
     "metadata": {},
     "output_type": "execute_result"
    }
   ],
   "source": [
    "list(range(0,10))"
   ]
  },
  {
   "cell_type": "code",
   "execution_count": 14,
   "id": "ffac1827-4951-4675-8069-b5ea57116dd1",
   "metadata": {},
   "outputs": [
    {
     "data": {
      "text/plain": [
       "\u001b[0;31mInit signature:\u001b[0m \u001b[0mrange\u001b[0m\u001b[0;34m(\u001b[0m\u001b[0mself\u001b[0m\u001b[0;34m,\u001b[0m \u001b[0;34m/\u001b[0m\u001b[0;34m,\u001b[0m \u001b[0;34m*\u001b[0m\u001b[0margs\u001b[0m\u001b[0;34m,\u001b[0m \u001b[0;34m**\u001b[0m\u001b[0mkwargs\u001b[0m\u001b[0;34m)\u001b[0m\u001b[0;34m\u001b[0m\u001b[0;34m\u001b[0m\u001b[0m\n",
       "\u001b[0;31mDocstring:\u001b[0m     \n",
       "range(stop) -> range object\n",
       "range(start, stop[, step]) -> range object\n",
       "\n",
       "Return an object that produces a sequence of integers from start (inclusive)\n",
       "to stop (exclusive) by step.  range(i, j) produces i, i+1, i+2, ..., j-1.\n",
       "start defaults to 0, and stop is omitted!  range(4) produces 0, 1, 2, 3.\n",
       "These are exactly the valid indices for a list of 4 elements.\n",
       "When step is given, it specifies the increment (or decrement).\n",
       "\u001b[0;31mType:\u001b[0m           type\n",
       "\u001b[0;31mSubclasses:\u001b[0m     \n"
      ]
     },
     "metadata": {},
     "output_type": "display_data"
    }
   ],
   "source": [
    "range?"
   ]
  },
  {
   "cell_type": "code",
   "execution_count": 15,
   "id": "642de1a8-d72a-4ad0-8f8c-954a5d66287f",
   "metadata": {},
   "outputs": [
    {
     "data": {
      "text/plain": [
       "45"
      ]
     },
     "execution_count": 15,
     "metadata": {},
     "output_type": "execute_result"
    }
   ],
   "source": [
    "a"
   ]
  },
  {
   "cell_type": "code",
   "execution_count": 40,
   "id": "66cc1827-b13b-45ee-a186-54753515dddc",
   "metadata": {},
   "outputs": [],
   "source": [
    "b = 0"
   ]
  },
  {
   "cell_type": "code",
   "execution_count": 41,
   "id": "83bf0b4d-d9ef-4e73-a400-ad8cf74a26fb",
   "metadata": {},
   "outputs": [],
   "source": [
    "i = 0\n",
    "while i < 10:\n",
    "    b = b+i\n",
    "    i=i+1"
   ]
  },
  {
   "cell_type": "code",
   "execution_count": 42,
   "id": "2d0e1fb1-9ef2-4b11-ab18-ac87af49e4c7",
   "metadata": {},
   "outputs": [
    {
     "data": {
      "text/plain": [
       "45"
      ]
     },
     "execution_count": 42,
     "metadata": {},
     "output_type": "execute_result"
    }
   ],
   "source": [
    "b"
   ]
  },
  {
   "cell_type": "markdown",
   "id": "71e9fd2b-25fd-4538-9ad3-c1ddb3caa352",
   "metadata": {
    "tags": []
   },
   "source": [
    "### Section 1.4. Defining a Function"
   ]
  },
  {
   "cell_type": "code",
   "execution_count": 5,
   "id": "34171d59-d3ef-4a75-92ba-a08faa417156",
   "metadata": {},
   "outputs": [],
   "source": [
    "def add_two(a,b):\n",
    "    c = a + b\n",
    "    return c"
   ]
  },
  {
   "cell_type": "code",
   "execution_count": 6,
   "id": "7aac06b0-b2af-4996-8d6a-646903904760",
   "metadata": {},
   "outputs": [],
   "source": [
    "c=add_two(10,20)"
   ]
  },
  {
   "cell_type": "code",
   "execution_count": 7,
   "id": "9284fdcc-976d-4791-9ecc-cb553297166d",
   "metadata": {},
   "outputs": [
    {
     "data": {
      "text/plain": [
       "30"
      ]
     },
     "execution_count": 7,
     "metadata": {},
     "output_type": "execute_result"
    }
   ],
   "source": [
    "c"
   ]
  },
  {
   "cell_type": "code",
   "execution_count": 8,
   "id": "9a39aec5-a642-4d0b-9803-c8fd1bc786d9",
   "metadata": {},
   "outputs": [],
   "source": [
    "a=[3,4,5]\n",
    "b=[10,20,30]\n",
    "#c=a[0]+b[0]\n",
    "c=add_two(a,b)"
   ]
  },
  {
   "cell_type": "code",
   "execution_count": 9,
   "id": "e1fce3a5-01f2-49e8-ba53-aa3232a5c82c",
   "metadata": {},
   "outputs": [
    {
     "data": {
      "text/plain": [
       "array([13, 24, 35])"
      ]
     },
     "execution_count": 9,
     "metadata": {},
     "output_type": "execute_result"
    }
   ],
   "source": [
    "# Adding lists is not the same as matricx addition. To do that one needs to define a numpy \"array\"\n",
    "import numpy as np\n",
    "a=np.array([3,4,5])\n",
    "b=np.array([10,20,30])\n",
    "d=a+b\n",
    "d"
   ]
  },
  {
   "cell_type": "markdown",
   "id": "bc716d07-b5fe-49fc-93cc-3d4406814a9c",
   "metadata": {},
   "source": [
    "### Section 1.5. Task\n",
    "Write a function (gisc_exponential) to calculate the exponential of a variable with the base of Euler’s number. Return 0 if the result is smaller than 0.1 else returns the true value\n",
    "\n",
    "Note: check your python reference card on Larn resources to find the exponential function"
   ]
  },
  {
   "cell_type": "code",
   "execution_count": 63,
   "id": "605a762b-bcf6-4807-80c5-ef5035be1744",
   "metadata": {},
   "outputs": [],
   "source": [
    "# Write your function here\n"
   ]
  },
  {
   "cell_type": "code",
   "execution_count": 17,
   "id": "d99a9001-f4fd-4341-aa99-e45bc5683a25",
   "metadata": {},
   "outputs": [],
   "source": [
    "a = 4"
   ]
  },
  {
   "cell_type": "code",
   "execution_count": 54,
   "id": "945a3206-c9e0-4d5a-b2d7-511b17ce7de0",
   "metadata": {},
   "outputs": [
    {
     "ename": "SyntaxError",
     "evalue": "unexpected EOF while parsing (3714021828.py, line 5)",
     "output_type": "error",
     "traceback": [
      "\u001b[0;36m  Input \u001b[0;32mIn [54]\u001b[0;36m\u001b[0m\n\u001b[0;31m    else:\u001b[0m\n\u001b[0m         ^\u001b[0m\n\u001b[0;31mSyntaxError\u001b[0m\u001b[0;31m:\u001b[0m unexpected EOF while parsing\n"
     ]
    }
   ],
   "source": [
    "def gisc_exponential(x):\n",
    "    e=2.71828**x\n",
    "if (c < 0.1):\n",
    "    e = 0\n",
    "else:"
   ]
  },
  {
   "cell_type": "markdown",
   "id": "f45c8707-429b-4f9a-9581-58a5a54b63e5",
   "metadata": {},
   "source": [
    "# Section 2. Matrix Manipulation\n",
    "Numpy is \"The fundamental package for scientific computing with Python\". (https://numpy.org)"
   ]
  },
  {
   "cell_type": "markdown",
   "id": "2a3876a9-fbc0-4a0a-8b70-7046d23bdef2",
   "metadata": {},
   "source": [
    "### Section 2.1. Importing Libraries"
   ]
  },
  {
   "cell_type": "code",
   "execution_count": 19,
   "id": "130464ab-4a21-46c4-98f1-6e307a367603",
   "metadata": {
    "tags": []
   },
   "outputs": [],
   "source": [
    "### Libraries are existing packages of functions/classes written by you or someone else. You can utilize the existing functions to speed up your work."
   ]
  },
  {
   "cell_type": "code",
   "execution_count": 20,
   "id": "1bc24201-3346-4b92-8304-864efe4a0dd3",
   "metadata": {},
   "outputs": [],
   "source": [
    "import numpy as np # import all the library"
   ]
  },
  {
   "cell_type": "code",
   "execution_count": 21,
   "id": "3009cc00-256f-4b5a-8f43-10d0c764e033",
   "metadata": {},
   "outputs": [],
   "source": [
    "from numpy import sqrt as npsqrt # import a specific operation"
   ]
  },
  {
   "cell_type": "code",
   "execution_count": 22,
   "id": "726dd15d-94a0-4116-a97f-c25dc970fc82",
   "metadata": {},
   "outputs": [
    {
     "data": {
      "text/plain": [
       "3.1622776601683795"
      ]
     },
     "execution_count": 22,
     "metadata": {},
     "output_type": "execute_result"
    }
   ],
   "source": [
    "np.sqrt(10) # personally I like this way..."
   ]
  },
  {
   "cell_type": "code",
   "execution_count": 23,
   "id": "fdc25d98-04dd-4cce-824c-8a194def1046",
   "metadata": {},
   "outputs": [
    {
     "data": {
      "text/plain": [
       "4.0"
      ]
     },
     "execution_count": 23,
     "metadata": {},
     "output_type": "execute_result"
    }
   ],
   "source": [
    "np.sqrt(16)"
   ]
  },
  {
   "cell_type": "code",
   "execution_count": null,
   "id": "ff45a001-7c64-4484-8b77-c4d71b9338f5",
   "metadata": {},
   "outputs": [],
   "source": [
    "np."
   ]
  },
  {
   "cell_type": "markdown",
   "id": "e5ea1210-cb6f-4028-82a3-1aacf23d8e22",
   "metadata": {},
   "source": [
    "### Section 2.2. Creating a Matrix"
   ]
  },
  {
   "cell_type": "code",
   "execution_count": 27,
   "id": "6fed5ce9-8408-4001-aece-2cf733a2781d",
   "metadata": {},
   "outputs": [],
   "source": [
    "a = np.arange(0,1000,1)"
   ]
  },
  {
   "cell_type": "code",
   "execution_count": 28,
   "id": "0c8113a9-debf-4d80-85b9-785a974bec89",
   "metadata": {
    "tags": []
   },
   "outputs": [
    {
     "data": {
      "text/plain": [
       "array([  0,   1,   2,   3,   4,   5,   6,   7,   8,   9,  10,  11,  12,\n",
       "        13,  14,  15,  16,  17,  18,  19,  20,  21,  22,  23,  24,  25,\n",
       "        26,  27,  28,  29,  30,  31,  32,  33,  34,  35,  36,  37,  38,\n",
       "        39,  40,  41,  42,  43,  44,  45,  46,  47,  48,  49,  50,  51,\n",
       "        52,  53,  54,  55,  56,  57,  58,  59,  60,  61,  62,  63,  64,\n",
       "        65,  66,  67,  68,  69,  70,  71,  72,  73,  74,  75,  76,  77,\n",
       "        78,  79,  80,  81,  82,  83,  84,  85,  86,  87,  88,  89,  90,\n",
       "        91,  92,  93,  94,  95,  96,  97,  98,  99, 100, 101, 102, 103,\n",
       "       104, 105, 106, 107, 108, 109, 110, 111, 112, 113, 114, 115, 116,\n",
       "       117, 118, 119, 120, 121, 122, 123, 124, 125, 126, 127, 128, 129,\n",
       "       130, 131, 132, 133, 134, 135, 136, 137, 138, 139, 140, 141, 142,\n",
       "       143, 144, 145, 146, 147, 148, 149, 150, 151, 152, 153, 154, 155,\n",
       "       156, 157, 158, 159, 160, 161, 162, 163, 164, 165, 166, 167, 168,\n",
       "       169, 170, 171, 172, 173, 174, 175, 176, 177, 178, 179, 180, 181,\n",
       "       182, 183, 184, 185, 186, 187, 188, 189, 190, 191, 192, 193, 194,\n",
       "       195, 196, 197, 198, 199, 200, 201, 202, 203, 204, 205, 206, 207,\n",
       "       208, 209, 210, 211, 212, 213, 214, 215, 216, 217, 218, 219, 220,\n",
       "       221, 222, 223, 224, 225, 226, 227, 228, 229, 230, 231, 232, 233,\n",
       "       234, 235, 236, 237, 238, 239, 240, 241, 242, 243, 244, 245, 246,\n",
       "       247, 248, 249, 250, 251, 252, 253, 254, 255, 256, 257, 258, 259,\n",
       "       260, 261, 262, 263, 264, 265, 266, 267, 268, 269, 270, 271, 272,\n",
       "       273, 274, 275, 276, 277, 278, 279, 280, 281, 282, 283, 284, 285,\n",
       "       286, 287, 288, 289, 290, 291, 292, 293, 294, 295, 296, 297, 298,\n",
       "       299, 300, 301, 302, 303, 304, 305, 306, 307, 308, 309, 310, 311,\n",
       "       312, 313, 314, 315, 316, 317, 318, 319, 320, 321, 322, 323, 324,\n",
       "       325, 326, 327, 328, 329, 330, 331, 332, 333, 334, 335, 336, 337,\n",
       "       338, 339, 340, 341, 342, 343, 344, 345, 346, 347, 348, 349, 350,\n",
       "       351, 352, 353, 354, 355, 356, 357, 358, 359, 360, 361, 362, 363,\n",
       "       364, 365, 366, 367, 368, 369, 370, 371, 372, 373, 374, 375, 376,\n",
       "       377, 378, 379, 380, 381, 382, 383, 384, 385, 386, 387, 388, 389,\n",
       "       390, 391, 392, 393, 394, 395, 396, 397, 398, 399, 400, 401, 402,\n",
       "       403, 404, 405, 406, 407, 408, 409, 410, 411, 412, 413, 414, 415,\n",
       "       416, 417, 418, 419, 420, 421, 422, 423, 424, 425, 426, 427, 428,\n",
       "       429, 430, 431, 432, 433, 434, 435, 436, 437, 438, 439, 440, 441,\n",
       "       442, 443, 444, 445, 446, 447, 448, 449, 450, 451, 452, 453, 454,\n",
       "       455, 456, 457, 458, 459, 460, 461, 462, 463, 464, 465, 466, 467,\n",
       "       468, 469, 470, 471, 472, 473, 474, 475, 476, 477, 478, 479, 480,\n",
       "       481, 482, 483, 484, 485, 486, 487, 488, 489, 490, 491, 492, 493,\n",
       "       494, 495, 496, 497, 498, 499, 500, 501, 502, 503, 504, 505, 506,\n",
       "       507, 508, 509, 510, 511, 512, 513, 514, 515, 516, 517, 518, 519,\n",
       "       520, 521, 522, 523, 524, 525, 526, 527, 528, 529, 530, 531, 532,\n",
       "       533, 534, 535, 536, 537, 538, 539, 540, 541, 542, 543, 544, 545,\n",
       "       546, 547, 548, 549, 550, 551, 552, 553, 554, 555, 556, 557, 558,\n",
       "       559, 560, 561, 562, 563, 564, 565, 566, 567, 568, 569, 570, 571,\n",
       "       572, 573, 574, 575, 576, 577, 578, 579, 580, 581, 582, 583, 584,\n",
       "       585, 586, 587, 588, 589, 590, 591, 592, 593, 594, 595, 596, 597,\n",
       "       598, 599, 600, 601, 602, 603, 604, 605, 606, 607, 608, 609, 610,\n",
       "       611, 612, 613, 614, 615, 616, 617, 618, 619, 620, 621, 622, 623,\n",
       "       624, 625, 626, 627, 628, 629, 630, 631, 632, 633, 634, 635, 636,\n",
       "       637, 638, 639, 640, 641, 642, 643, 644, 645, 646, 647, 648, 649,\n",
       "       650, 651, 652, 653, 654, 655, 656, 657, 658, 659, 660, 661, 662,\n",
       "       663, 664, 665, 666, 667, 668, 669, 670, 671, 672, 673, 674, 675,\n",
       "       676, 677, 678, 679, 680, 681, 682, 683, 684, 685, 686, 687, 688,\n",
       "       689, 690, 691, 692, 693, 694, 695, 696, 697, 698, 699, 700, 701,\n",
       "       702, 703, 704, 705, 706, 707, 708, 709, 710, 711, 712, 713, 714,\n",
       "       715, 716, 717, 718, 719, 720, 721, 722, 723, 724, 725, 726, 727,\n",
       "       728, 729, 730, 731, 732, 733, 734, 735, 736, 737, 738, 739, 740,\n",
       "       741, 742, 743, 744, 745, 746, 747, 748, 749, 750, 751, 752, 753,\n",
       "       754, 755, 756, 757, 758, 759, 760, 761, 762, 763, 764, 765, 766,\n",
       "       767, 768, 769, 770, 771, 772, 773, 774, 775, 776, 777, 778, 779,\n",
       "       780, 781, 782, 783, 784, 785, 786, 787, 788, 789, 790, 791, 792,\n",
       "       793, 794, 795, 796, 797, 798, 799, 800, 801, 802, 803, 804, 805,\n",
       "       806, 807, 808, 809, 810, 811, 812, 813, 814, 815, 816, 817, 818,\n",
       "       819, 820, 821, 822, 823, 824, 825, 826, 827, 828, 829, 830, 831,\n",
       "       832, 833, 834, 835, 836, 837, 838, 839, 840, 841, 842, 843, 844,\n",
       "       845, 846, 847, 848, 849, 850, 851, 852, 853, 854, 855, 856, 857,\n",
       "       858, 859, 860, 861, 862, 863, 864, 865, 866, 867, 868, 869, 870,\n",
       "       871, 872, 873, 874, 875, 876, 877, 878, 879, 880, 881, 882, 883,\n",
       "       884, 885, 886, 887, 888, 889, 890, 891, 892, 893, 894, 895, 896,\n",
       "       897, 898, 899, 900, 901, 902, 903, 904, 905, 906, 907, 908, 909,\n",
       "       910, 911, 912, 913, 914, 915, 916, 917, 918, 919, 920, 921, 922,\n",
       "       923, 924, 925, 926, 927, 928, 929, 930, 931, 932, 933, 934, 935,\n",
       "       936, 937, 938, 939, 940, 941, 942, 943, 944, 945, 946, 947, 948,\n",
       "       949, 950, 951, 952, 953, 954, 955, 956, 957, 958, 959, 960, 961,\n",
       "       962, 963, 964, 965, 966, 967, 968, 969, 970, 971, 972, 973, 974,\n",
       "       975, 976, 977, 978, 979, 980, 981, 982, 983, 984, 985, 986, 987,\n",
       "       988, 989, 990, 991, 992, 993, 994, 995, 996, 997, 998, 999])"
      ]
     },
     "execution_count": 28,
     "metadata": {},
     "output_type": "execute_result"
    }
   ],
   "source": [
    "a"
   ]
  },
  {
   "cell_type": "code",
   "execution_count": 29,
   "id": "3833d7d8-e221-479b-8ef0-8b50d36ba2a0",
   "metadata": {
    "tags": []
   },
   "outputs": [
    {
     "data": {
      "text/plain": [
       "array([ 0.        ,  1.        ,  1.41421356,  1.73205081,  2.        ,\n",
       "        2.23606798,  2.44948974,  2.64575131,  2.82842712,  3.        ,\n",
       "        3.16227766,  3.31662479,  3.46410162,  3.60555128,  3.74165739,\n",
       "        3.87298335,  4.        ,  4.12310563,  4.24264069,  4.35889894,\n",
       "        4.47213595,  4.58257569,  4.69041576,  4.79583152,  4.89897949,\n",
       "        5.        ,  5.09901951,  5.19615242,  5.29150262,  5.38516481,\n",
       "        5.47722558,  5.56776436,  5.65685425,  5.74456265,  5.83095189,\n",
       "        5.91607978,  6.        ,  6.08276253,  6.164414  ,  6.244998  ,\n",
       "        6.32455532,  6.40312424,  6.4807407 ,  6.55743852,  6.63324958,\n",
       "        6.70820393,  6.78232998,  6.8556546 ,  6.92820323,  7.        ,\n",
       "        7.07106781,  7.14142843,  7.21110255,  7.28010989,  7.34846923,\n",
       "        7.41619849,  7.48331477,  7.54983444,  7.61577311,  7.68114575,\n",
       "        7.74596669,  7.81024968,  7.87400787,  7.93725393,  8.        ,\n",
       "        8.06225775,  8.1240384 ,  8.18535277,  8.24621125,  8.30662386,\n",
       "        8.36660027,  8.42614977,  8.48528137,  8.54400375,  8.60232527,\n",
       "        8.66025404,  8.71779789,  8.77496439,  8.83176087,  8.88819442,\n",
       "        8.94427191,  9.        ,  9.05538514,  9.11043358,  9.16515139,\n",
       "        9.21954446,  9.2736185 ,  9.32737905,  9.38083152,  9.43398113,\n",
       "        9.48683298,  9.53939201,  9.59166305,  9.64365076,  9.69535971,\n",
       "        9.74679434,  9.79795897,  9.8488578 ,  9.89949494,  9.94987437,\n",
       "       10.        , 10.04987562, 10.09950494, 10.14889157, 10.19803903,\n",
       "       10.24695077, 10.29563014, 10.34408043, 10.39230485, 10.44030651,\n",
       "       10.48808848, 10.53565375, 10.58300524, 10.63014581, 10.67707825,\n",
       "       10.72380529, 10.77032961, 10.81665383, 10.86278049, 10.90871211,\n",
       "       10.95445115, 11.        , 11.04536102, 11.09053651, 11.13552873,\n",
       "       11.18033989, 11.22497216, 11.26942767, 11.3137085 , 11.35781669,\n",
       "       11.40175425, 11.44552314, 11.48912529, 11.53256259, 11.5758369 ,\n",
       "       11.61895004, 11.66190379, 11.70469991, 11.74734012, 11.78982612,\n",
       "       11.83215957, 11.87434209, 11.91637529, 11.95826074, 12.        ,\n",
       "       12.04159458, 12.08304597, 12.12435565, 12.16552506, 12.20655562,\n",
       "       12.24744871, 12.28820573, 12.32882801, 12.36931688, 12.40967365,\n",
       "       12.4498996 , 12.489996  , 12.52996409, 12.56980509, 12.60952021,\n",
       "       12.64911064, 12.68857754, 12.72792206, 12.76714533, 12.80624847,\n",
       "       12.84523258, 12.88409873, 12.92284798, 12.9614814 , 13.        ,\n",
       "       13.03840481, 13.07669683, 13.11487705, 13.15294644, 13.19090596,\n",
       "       13.22875656, 13.26649916, 13.3041347 , 13.34166406, 13.37908816,\n",
       "       13.41640786, 13.45362405, 13.49073756, 13.52774926, 13.56465997,\n",
       "       13.60147051, 13.6381817 , 13.67479433, 13.7113092 , 13.74772708,\n",
       "       13.78404875, 13.82027496, 13.85640646, 13.89244399, 13.92838828,\n",
       "       13.96424004, 14.        , 14.03566885, 14.07124728, 14.10673598,\n",
       "       14.14213562, 14.17744688, 14.2126704 , 14.24780685, 14.28285686,\n",
       "       14.31782106, 14.35270009, 14.38749457, 14.4222051 , 14.45683229,\n",
       "       14.49137675, 14.52583905, 14.56021978, 14.59451952, 14.62873884,\n",
       "       14.6628783 , 14.69693846, 14.73091986, 14.76482306, 14.79864859,\n",
       "       14.83239697, 14.86606875, 14.89966443, 14.93318452, 14.96662955,\n",
       "       15.        , 15.03329638, 15.06651917, 15.09966887, 15.13274595,\n",
       "       15.16575089, 15.19868415, 15.23154621, 15.26433752, 15.29705854,\n",
       "       15.32970972, 15.3622915 , 15.39480432, 15.42724862, 15.45962483,\n",
       "       15.49193338, 15.5241747 , 15.55634919, 15.58845727, 15.62049935,\n",
       "       15.65247584, 15.68438714, 15.71623365, 15.74801575, 15.77973384,\n",
       "       15.8113883 , 15.84297952, 15.87450787, 15.90597372, 15.93737745,\n",
       "       15.96871942, 16.        , 16.03121954, 16.0623784 , 16.09347694,\n",
       "       16.1245155 , 16.15549442, 16.18641406, 16.21727474, 16.24807681,\n",
       "       16.2788206 , 16.30950643, 16.34013464, 16.37070554, 16.40121947,\n",
       "       16.43167673, 16.46207763, 16.4924225 , 16.52271164, 16.55294536,\n",
       "       16.58312395, 16.61324773, 16.64331698, 16.673332  , 16.70329309,\n",
       "       16.73320053, 16.76305461, 16.79285562, 16.82260384, 16.85229955,\n",
       "       16.88194302, 16.91153453, 16.94107435, 16.97056275, 17.        ,\n",
       "       17.02938637, 17.05872211, 17.08800749, 17.11724277, 17.1464282 ,\n",
       "       17.17556404, 17.20465053, 17.23368794, 17.2626765 , 17.29161647,\n",
       "       17.32050808, 17.34935157, 17.3781472 , 17.40689519, 17.43559577,\n",
       "       17.4642492 , 17.49285568, 17.52141547, 17.54992877, 17.57839583,\n",
       "       17.60681686, 17.63519209, 17.66352173, 17.69180601, 17.72004515,\n",
       "       17.74823935, 17.77638883, 17.80449381, 17.8325545 , 17.8605711 ,\n",
       "       17.88854382, 17.91647287, 17.94435844, 17.97220076, 18.        ,\n",
       "       18.02775638, 18.05547009, 18.08314132, 18.11077028, 18.13835715,\n",
       "       18.16590212, 18.1934054 , 18.22086716, 18.24828759, 18.27566688,\n",
       "       18.30300522, 18.33030278, 18.35755975, 18.38477631, 18.41195264,\n",
       "       18.43908891, 18.46618531, 18.49324201, 18.52025918, 18.54723699,\n",
       "       18.57417562, 18.60107524, 18.62793601, 18.65475811, 18.68154169,\n",
       "       18.70828693, 18.734994  , 18.76166304, 18.78829423, 18.81488772,\n",
       "       18.84144368, 18.86796226, 18.89444363, 18.92088793, 18.94729532,\n",
       "       18.97366596, 19.        , 19.02629759, 19.05255888, 19.07878403,\n",
       "       19.10497317, 19.13112647, 19.15724406, 19.18332609, 19.20937271,\n",
       "       19.23538406, 19.26136028, 19.28730152, 19.31320792, 19.33907961,\n",
       "       19.36491673, 19.39071943, 19.41648784, 19.4422221 , 19.46792233,\n",
       "       19.49358869, 19.5192213 , 19.54482029, 19.57038579, 19.59591794,\n",
       "       19.62141687, 19.6468827 , 19.67231557, 19.6977156 , 19.72308292,\n",
       "       19.74841766, 19.77371993, 19.79898987, 19.8242276 , 19.84943324,\n",
       "       19.87460691, 19.89974874, 19.92485885, 19.94993734, 19.97498436,\n",
       "       20.        , 20.02498439, 20.04993766, 20.0748599 , 20.09975124,\n",
       "       20.1246118 , 20.14944168, 20.174241  , 20.19900988, 20.22374842,\n",
       "       20.24845673, 20.27313493, 20.29778313, 20.32240143, 20.34698995,\n",
       "       20.37154879, 20.39607805, 20.42057786, 20.4450483 , 20.46948949,\n",
       "       20.49390153, 20.51828453, 20.54263858, 20.5669638 , 20.59126028,\n",
       "       20.61552813, 20.63976744, 20.66397832, 20.68816087, 20.71231518,\n",
       "       20.73644135, 20.76053949, 20.78460969, 20.80865205, 20.83266666,\n",
       "       20.85665361, 20.88061302, 20.90454496, 20.92844954, 20.95232684,\n",
       "       20.97617696, 21.        , 21.02379604, 21.04756518, 21.07130751,\n",
       "       21.09502311, 21.11871208, 21.14237451, 21.16601049, 21.1896201 ,\n",
       "       21.21320344, 21.23676058, 21.26029163, 21.28379665, 21.30727575,\n",
       "       21.33072901, 21.3541565 , 21.37755833, 21.40093456, 21.42428529,\n",
       "       21.44761059, 21.47091055, 21.49418526, 21.51743479, 21.54065923,\n",
       "       21.56385865, 21.58703314, 21.61018278, 21.63330765, 21.65640783,\n",
       "       21.67948339, 21.70253441, 21.72556098, 21.74856317, 21.77154106,\n",
       "       21.79449472, 21.81742423, 21.84032967, 21.86321111, 21.88606863,\n",
       "       21.9089023 , 21.9317122 , 21.9544984 , 21.97726098, 22.        ,\n",
       "       22.02271555, 22.04540769, 22.06807649, 22.09072203, 22.11334439,\n",
       "       22.13594362, 22.15851981, 22.18107301, 22.20360331, 22.22611077,\n",
       "       22.24859546, 22.27105745, 22.29349681, 22.3159136 , 22.3383079 ,\n",
       "       22.36067977, 22.38302929, 22.4053565 , 22.42766149, 22.44994432,\n",
       "       22.47220505, 22.49444376, 22.5166605 , 22.53885534, 22.56102835,\n",
       "       22.58317958, 22.60530911, 22.627417  , 22.64950331, 22.6715681 ,\n",
       "       22.69361144, 22.71563338, 22.737634  , 22.75961335, 22.7815715 ,\n",
       "       22.8035085 , 22.82542442, 22.84731932, 22.86919325, 22.89104628,\n",
       "       22.91287847, 22.93468988, 22.95648057, 22.97825059, 23.        ,\n",
       "       23.02172887, 23.04343724, 23.06512519, 23.08679276, 23.10844002,\n",
       "       23.13006701, 23.15167381, 23.17326045, 23.19482701, 23.21637353,\n",
       "       23.23790008, 23.2594067 , 23.28089345, 23.3023604 , 23.32380758,\n",
       "       23.34523506, 23.36664289, 23.38803113, 23.40939982, 23.43074903,\n",
       "       23.4520788 , 23.47338919, 23.49468025, 23.51595203, 23.53720459,\n",
       "       23.55843798, 23.57965225, 23.60084744, 23.62202362, 23.64318084,\n",
       "       23.66431913, 23.68543856, 23.70653918, 23.72762104, 23.74868417,\n",
       "       23.76972865, 23.79075451, 23.8117618 , 23.83275058, 23.85372088,\n",
       "       23.87467277, 23.89560629, 23.91652149, 23.93741841, 23.9582971 ,\n",
       "       23.97915762, 24.        , 24.0208243 , 24.04163056, 24.06241883,\n",
       "       24.08318916, 24.10394159, 24.12467616, 24.14539294, 24.16609195,\n",
       "       24.18677324, 24.20743687, 24.22808288, 24.24871131, 24.2693222 ,\n",
       "       24.2899156 , 24.31049156, 24.33105012, 24.35159132, 24.37211521,\n",
       "       24.39262184, 24.41311123, 24.43358345, 24.45403852, 24.4744765 ,\n",
       "       24.49489743, 24.51530134, 24.53568829, 24.55605832, 24.57641145,\n",
       "       24.59674775, 24.61706725, 24.63736999, 24.65765601, 24.67792536,\n",
       "       24.69817807, 24.71841419, 24.73863375, 24.75883681, 24.77902339,\n",
       "       24.79919354, 24.81934729, 24.8394847 , 24.85960579, 24.87971061,\n",
       "       24.8997992 , 24.91987159, 24.93992783, 24.95996795, 24.97999199,\n",
       "       25.        , 25.01999201, 25.03996805, 25.05992817, 25.07987241,\n",
       "       25.0998008 , 25.11971337, 25.13961018, 25.15949125, 25.17935662,\n",
       "       25.19920634, 25.21904043, 25.23885893, 25.25866188, 25.27844932,\n",
       "       25.29822128, 25.3179778 , 25.33771892, 25.35744467, 25.37715508,\n",
       "       25.3968502 , 25.41653005, 25.43619468, 25.45584412, 25.47547841,\n",
       "       25.49509757, 25.51470164, 25.53429067, 25.55386468, 25.57342371,\n",
       "       25.59296778, 25.61249695, 25.63201124, 25.65151068, 25.67099531,\n",
       "       25.69046516, 25.70992026, 25.72936066, 25.74878638, 25.76819745,\n",
       "       25.78759392, 25.8069758 , 25.82634314, 25.84569597, 25.86503431,\n",
       "       25.88435821, 25.90366769, 25.92296279, 25.94224354, 25.96150997,\n",
       "       25.98076211, 26.        , 26.01922366, 26.03843313, 26.05762844,\n",
       "       26.07680962, 26.0959767 , 26.11512971, 26.13426869, 26.15339366,\n",
       "       26.17250466, 26.19160171, 26.21068484, 26.2297541 , 26.2488095 ,\n",
       "       26.26785107, 26.28687886, 26.30589288, 26.32489316, 26.34387974,\n",
       "       26.36285265, 26.38181192, 26.40075756, 26.41968963, 26.43860813,\n",
       "       26.45751311, 26.47640459, 26.4952826 , 26.51414717, 26.53299832,\n",
       "       26.55183609, 26.57066051, 26.5894716 , 26.60826939, 26.62705391,\n",
       "       26.64582519, 26.66458325, 26.68332813, 26.70205985, 26.72077843,\n",
       "       26.73948391, 26.75817632, 26.77685568, 26.79552201, 26.81417536,\n",
       "       26.83281573, 26.85144316, 26.87005769, 26.88865932, 26.90724809,\n",
       "       26.92582404, 26.94438717, 26.96293753, 26.98147513, 27.        ,\n",
       "       27.01851217, 27.03701167, 27.05549852, 27.07397274, 27.09243437,\n",
       "       27.11088342, 27.12931993, 27.14774392, 27.16615541, 27.18455444,\n",
       "       27.20294102, 27.22131518, 27.23967694, 27.25802634, 27.27636339,\n",
       "       27.29468813, 27.31300057, 27.33130074, 27.34958866, 27.36786437,\n",
       "       27.38612788, 27.40437921, 27.4226184 , 27.44084547, 27.45906044,\n",
       "       27.47726333, 27.49545417, 27.51363298, 27.5317998 , 27.54995463,\n",
       "       27.5680975 , 27.58622845, 27.60434748, 27.62245463, 27.64054992,\n",
       "       27.65863337, 27.67670501, 27.69476485, 27.71281292, 27.73084925,\n",
       "       27.74887385, 27.76688675, 27.78488798, 27.80287755, 27.82085549,\n",
       "       27.83882181, 27.85677655, 27.87471973, 27.89265136, 27.91057147,\n",
       "       27.92848009, 27.94637722, 27.96426291, 27.98213716, 28.        ,\n",
       "       28.01785145, 28.03569154, 28.05352028, 28.0713377 , 28.08914381,\n",
       "       28.10693865, 28.12472222, 28.14249456, 28.16025568, 28.17800561,\n",
       "       28.19574436, 28.21347196, 28.23118843, 28.24889378, 28.26658805,\n",
       "       28.28427125, 28.3019434 , 28.31960452, 28.33725463, 28.35489376,\n",
       "       28.37252192, 28.39013913, 28.40774542, 28.42534081, 28.44292531,\n",
       "       28.46049894, 28.47806173, 28.4956137 , 28.51315486, 28.53068524,\n",
       "       28.54820485, 28.56571371, 28.58321186, 28.60069929, 28.61817604,\n",
       "       28.63564213, 28.65309756, 28.67054237, 28.68797658, 28.70540019,\n",
       "       28.72281323, 28.74021573, 28.75760769, 28.77498914, 28.7923601 ,\n",
       "       28.80972058, 28.82707061, 28.8444102 , 28.86173938, 28.87905816,\n",
       "       28.89636655, 28.91366459, 28.93095228, 28.94822965, 28.96549672,\n",
       "       28.98275349, 29.        , 29.01723626, 29.03446228, 29.05167809,\n",
       "       29.06888371, 29.08607914, 29.10326442, 29.12043956, 29.13760457,\n",
       "       29.15475947, 29.17190429, 29.18903904, 29.20616373, 29.22327839,\n",
       "       29.24038303, 29.25747768, 29.27456234, 29.29163703, 29.30870178,\n",
       "       29.3257566 , 29.3428015 , 29.35983651, 29.37686164, 29.39387691,\n",
       "       29.41088234, 29.42787794, 29.44486373, 29.46183973, 29.47880595,\n",
       "       29.49576241, 29.51270913, 29.52964612, 29.54657341, 29.563491  ,\n",
       "       29.58039892, 29.59729717, 29.61418579, 29.63106478, 29.64793416,\n",
       "       29.66479395, 29.68164416, 29.69848481, 29.71531592, 29.73213749,\n",
       "       29.74894956, 29.76575213, 29.78254522, 29.79932885, 29.81610303,\n",
       "       29.83286778, 29.84962311, 29.86636905, 29.88310559, 29.89983278,\n",
       "       29.9165506 , 29.93325909, 29.94995826, 29.96664813, 29.9833287 ,\n",
       "       30.        , 30.01666204, 30.03331484, 30.0499584 , 30.06659276,\n",
       "       30.08321791, 30.09983389, 30.11644069, 30.13303835, 30.14962686,\n",
       "       30.16620626, 30.18277655, 30.19933774, 30.21588986, 30.23243292,\n",
       "       30.24896692, 30.2654919 , 30.28200786, 30.29851482, 30.31501278,\n",
       "       30.33150178, 30.34798181, 30.3644529 , 30.38091506, 30.39736831,\n",
       "       30.41381265, 30.43024811, 30.4466747 , 30.46309242, 30.47950131,\n",
       "       30.49590136, 30.5122926 , 30.52867504, 30.5450487 , 30.56141358,\n",
       "       30.5777697 , 30.59411708, 30.61045573, 30.62678566, 30.64310689,\n",
       "       30.65941943, 30.6757233 , 30.69201851, 30.70830507, 30.72458299,\n",
       "       30.7408523 , 30.757113  , 30.77336511, 30.78960864, 30.8058436 ,\n",
       "       30.82207001, 30.83828789, 30.85449724, 30.87069808, 30.88689042,\n",
       "       30.90307428, 30.91924967, 30.9354166 , 30.95157508, 30.96772513,\n",
       "       30.98386677, 31.        , 31.01612484, 31.0322413 , 31.04834939,\n",
       "       31.06444913, 31.08054054, 31.09662361, 31.11269837, 31.12876483,\n",
       "       31.144823  , 31.1608729 , 31.17691454, 31.19294792, 31.20897307,\n",
       "       31.22498999, 31.2409987 , 31.25699922, 31.27299154, 31.28897569,\n",
       "       31.30495168, 31.32091953, 31.33687923, 31.35283081, 31.36877428,\n",
       "       31.38470965, 31.40063694, 31.41655614, 31.43246729, 31.44837039,\n",
       "       31.46426545, 31.48015248, 31.4960315 , 31.51190251, 31.52776554,\n",
       "       31.54362059, 31.55946768, 31.57530681, 31.591138  , 31.60696126])"
      ]
     },
     "execution_count": 29,
     "metadata": {},
     "output_type": "execute_result"
    }
   ],
   "source": [
    "np.sqrt(a)"
   ]
  },
  {
   "cell_type": "code",
   "execution_count": 30,
   "id": "204f763d-6be1-4a3c-9c8f-e44a32b9f295",
   "metadata": {},
   "outputs": [
    {
     "data": {
      "text/plain": [
       "(1000,)"
      ]
     },
     "execution_count": 30,
     "metadata": {},
     "output_type": "execute_result"
    }
   ],
   "source": [
    "a.shape"
   ]
  },
  {
   "cell_type": "code",
   "execution_count": 38,
   "id": "b8411b9c-6f38-4d0b-b363-1f713b21136b",
   "metadata": {},
   "outputs": [],
   "source": [
    "b=np.reshape(a,(10,-1))"
   ]
  },
  {
   "cell_type": "code",
   "execution_count": 39,
   "id": "081b9d67-6d3e-4540-be6f-2e7aaaf60da4",
   "metadata": {
    "tags": []
   },
   "outputs": [
    {
     "data": {
      "text/plain": [
       "(10, 100)"
      ]
     },
     "execution_count": 39,
     "metadata": {},
     "output_type": "execute_result"
    }
   ],
   "source": [
    "b.shape"
   ]
  },
  {
   "cell_type": "code",
   "execution_count": 40,
   "id": "8f7bb16b-9e10-4e98-8ed3-f3c636bc692f",
   "metadata": {
    "tags": []
   },
   "outputs": [
    {
     "data": {
      "text/plain": [
       "array([[  0,   1,   2,   3,   4,   5,   6,   7,   8,   9,  10,  11,  12,\n",
       "         13,  14,  15,  16,  17,  18,  19,  20,  21,  22,  23,  24,  25,\n",
       "         26,  27,  28,  29,  30,  31,  32,  33,  34,  35,  36,  37,  38,\n",
       "         39,  40,  41,  42,  43,  44,  45,  46,  47,  48,  49,  50,  51,\n",
       "         52,  53,  54,  55,  56,  57,  58,  59,  60,  61,  62,  63,  64,\n",
       "         65,  66,  67,  68,  69,  70,  71,  72,  73,  74,  75,  76,  77,\n",
       "         78,  79,  80,  81,  82,  83,  84,  85,  86,  87,  88,  89,  90,\n",
       "         91,  92,  93,  94,  95,  96,  97,  98,  99],\n",
       "       [100, 101, 102, 103, 104, 105, 106, 107, 108, 109, 110, 111, 112,\n",
       "        113, 114, 115, 116, 117, 118, 119, 120, 121, 122, 123, 124, 125,\n",
       "        126, 127, 128, 129, 130, 131, 132, 133, 134, 135, 136, 137, 138,\n",
       "        139, 140, 141, 142, 143, 144, 145, 146, 147, 148, 149, 150, 151,\n",
       "        152, 153, 154, 155, 156, 157, 158, 159, 160, 161, 162, 163, 164,\n",
       "        165, 166, 167, 168, 169, 170, 171, 172, 173, 174, 175, 176, 177,\n",
       "        178, 179, 180, 181, 182, 183, 184, 185, 186, 187, 188, 189, 190,\n",
       "        191, 192, 193, 194, 195, 196, 197, 198, 199],\n",
       "       [200, 201, 202, 203, 204, 205, 206, 207, 208, 209, 210, 211, 212,\n",
       "        213, 214, 215, 216, 217, 218, 219, 220, 221, 222, 223, 224, 225,\n",
       "        226, 227, 228, 229, 230, 231, 232, 233, 234, 235, 236, 237, 238,\n",
       "        239, 240, 241, 242, 243, 244, 245, 246, 247, 248, 249, 250, 251,\n",
       "        252, 253, 254, 255, 256, 257, 258, 259, 260, 261, 262, 263, 264,\n",
       "        265, 266, 267, 268, 269, 270, 271, 272, 273, 274, 275, 276, 277,\n",
       "        278, 279, 280, 281, 282, 283, 284, 285, 286, 287, 288, 289, 290,\n",
       "        291, 292, 293, 294, 295, 296, 297, 298, 299],\n",
       "       [300, 301, 302, 303, 304, 305, 306, 307, 308, 309, 310, 311, 312,\n",
       "        313, 314, 315, 316, 317, 318, 319, 320, 321, 322, 323, 324, 325,\n",
       "        326, 327, 328, 329, 330, 331, 332, 333, 334, 335, 336, 337, 338,\n",
       "        339, 340, 341, 342, 343, 344, 345, 346, 347, 348, 349, 350, 351,\n",
       "        352, 353, 354, 355, 356, 357, 358, 359, 360, 361, 362, 363, 364,\n",
       "        365, 366, 367, 368, 369, 370, 371, 372, 373, 374, 375, 376, 377,\n",
       "        378, 379, 380, 381, 382, 383, 384, 385, 386, 387, 388, 389, 390,\n",
       "        391, 392, 393, 394, 395, 396, 397, 398, 399],\n",
       "       [400, 401, 402, 403, 404, 405, 406, 407, 408, 409, 410, 411, 412,\n",
       "        413, 414, 415, 416, 417, 418, 419, 420, 421, 422, 423, 424, 425,\n",
       "        426, 427, 428, 429, 430, 431, 432, 433, 434, 435, 436, 437, 438,\n",
       "        439, 440, 441, 442, 443, 444, 445, 446, 447, 448, 449, 450, 451,\n",
       "        452, 453, 454, 455, 456, 457, 458, 459, 460, 461, 462, 463, 464,\n",
       "        465, 466, 467, 468, 469, 470, 471, 472, 473, 474, 475, 476, 477,\n",
       "        478, 479, 480, 481, 482, 483, 484, 485, 486, 487, 488, 489, 490,\n",
       "        491, 492, 493, 494, 495, 496, 497, 498, 499],\n",
       "       [500, 501, 502, 503, 504, 505, 506, 507, 508, 509, 510, 511, 512,\n",
       "        513, 514, 515, 516, 517, 518, 519, 520, 521, 522, 523, 524, 525,\n",
       "        526, 527, 528, 529, 530, 531, 532, 533, 534, 535, 536, 537, 538,\n",
       "        539, 540, 541, 542, 543, 544, 545, 546, 547, 548, 549, 550, 551,\n",
       "        552, 553, 554, 555, 556, 557, 558, 559, 560, 561, 562, 563, 564,\n",
       "        565, 566, 567, 568, 569, 570, 571, 572, 573, 574, 575, 576, 577,\n",
       "        578, 579, 580, 581, 582, 583, 584, 585, 586, 587, 588, 589, 590,\n",
       "        591, 592, 593, 594, 595, 596, 597, 598, 599],\n",
       "       [600, 601, 602, 603, 604, 605, 606, 607, 608, 609, 610, 611, 612,\n",
       "        613, 614, 615, 616, 617, 618, 619, 620, 621, 622, 623, 624, 625,\n",
       "        626, 627, 628, 629, 630, 631, 632, 633, 634, 635, 636, 637, 638,\n",
       "        639, 640, 641, 642, 643, 644, 645, 646, 647, 648, 649, 650, 651,\n",
       "        652, 653, 654, 655, 656, 657, 658, 659, 660, 661, 662, 663, 664,\n",
       "        665, 666, 667, 668, 669, 670, 671, 672, 673, 674, 675, 676, 677,\n",
       "        678, 679, 680, 681, 682, 683, 684, 685, 686, 687, 688, 689, 690,\n",
       "        691, 692, 693, 694, 695, 696, 697, 698, 699],\n",
       "       [700, 701, 702, 703, 704, 705, 706, 707, 708, 709, 710, 711, 712,\n",
       "        713, 714, 715, 716, 717, 718, 719, 720, 721, 722, 723, 724, 725,\n",
       "        726, 727, 728, 729, 730, 731, 732, 733, 734, 735, 736, 737, 738,\n",
       "        739, 740, 741, 742, 743, 744, 745, 746, 747, 748, 749, 750, 751,\n",
       "        752, 753, 754, 755, 756, 757, 758, 759, 760, 761, 762, 763, 764,\n",
       "        765, 766, 767, 768, 769, 770, 771, 772, 773, 774, 775, 776, 777,\n",
       "        778, 779, 780, 781, 782, 783, 784, 785, 786, 787, 788, 789, 790,\n",
       "        791, 792, 793, 794, 795, 796, 797, 798, 799],\n",
       "       [800, 801, 802, 803, 804, 805, 806, 807, 808, 809, 810, 811, 812,\n",
       "        813, 814, 815, 816, 817, 818, 819, 820, 821, 822, 823, 824, 825,\n",
       "        826, 827, 828, 829, 830, 831, 832, 833, 834, 835, 836, 837, 838,\n",
       "        839, 840, 841, 842, 843, 844, 845, 846, 847, 848, 849, 850, 851,\n",
       "        852, 853, 854, 855, 856, 857, 858, 859, 860, 861, 862, 863, 864,\n",
       "        865, 866, 867, 868, 869, 870, 871, 872, 873, 874, 875, 876, 877,\n",
       "        878, 879, 880, 881, 882, 883, 884, 885, 886, 887, 888, 889, 890,\n",
       "        891, 892, 893, 894, 895, 896, 897, 898, 899],\n",
       "       [900, 901, 902, 903, 904, 905, 906, 907, 908, 909, 910, 911, 912,\n",
       "        913, 914, 915, 916, 917, 918, 919, 920, 921, 922, 923, 924, 925,\n",
       "        926, 927, 928, 929, 930, 931, 932, 933, 934, 935, 936, 937, 938,\n",
       "        939, 940, 941, 942, 943, 944, 945, 946, 947, 948, 949, 950, 951,\n",
       "        952, 953, 954, 955, 956, 957, 958, 959, 960, 961, 962, 963, 964,\n",
       "        965, 966, 967, 968, 969, 970, 971, 972, 973, 974, 975, 976, 977,\n",
       "        978, 979, 980, 981, 982, 983, 984, 985, 986, 987, 988, 989, 990,\n",
       "        991, 992, 993, 994, 995, 996, 997, 998, 999]])"
      ]
     },
     "execution_count": 40,
     "metadata": {},
     "output_type": "execute_result"
    }
   ],
   "source": [
    "b"
   ]
  },
  {
   "cell_type": "code",
   "execution_count": 41,
   "id": "962095d1-77ea-4c20-a218-09c8d29d4c5e",
   "metadata": {},
   "outputs": [],
   "source": [
    "c = np.zeros((10,5))"
   ]
  },
  {
   "cell_type": "code",
   "execution_count": 42,
   "id": "e8c86447-4ced-4f5d-92be-ee29c2e6bd4b",
   "metadata": {
    "tags": []
   },
   "outputs": [
    {
     "data": {
      "text/plain": [
       "array([[0., 0., 0., 0., 0.],\n",
       "       [0., 0., 0., 0., 0.],\n",
       "       [0., 0., 0., 0., 0.],\n",
       "       [0., 0., 0., 0., 0.],\n",
       "       [0., 0., 0., 0., 0.],\n",
       "       [0., 0., 0., 0., 0.],\n",
       "       [0., 0., 0., 0., 0.],\n",
       "       [0., 0., 0., 0., 0.],\n",
       "       [0., 0., 0., 0., 0.],\n",
       "       [0., 0., 0., 0., 0.]])"
      ]
     },
     "execution_count": 42,
     "metadata": {},
     "output_type": "execute_result"
    }
   ],
   "source": [
    "c"
   ]
  },
  {
   "cell_type": "code",
   "execution_count": 43,
   "id": "5da71d26-37a9-42e7-aaf6-a59647af9331",
   "metadata": {},
   "outputs": [],
   "source": [
    "D=[[1, 2, 3, 4],[10, 20, 30, 40],[50, 60, 70, 80]]  # matrices can deifned by direct assignment"
   ]
  },
  {
   "cell_type": "code",
   "execution_count": 44,
   "id": "63fb1cc4-2765-4e6a-9390-2443ec55b53b",
   "metadata": {},
   "outputs": [
    {
     "data": {
      "text/plain": [
       "(3, 4)"
      ]
     },
     "execution_count": 44,
     "metadata": {},
     "output_type": "execute_result"
    }
   ],
   "source": [
    "np.shape(D)"
   ]
  },
  {
   "cell_type": "markdown",
   "id": "e789b327-7ac3-4e5f-85b8-654fbe92976a",
   "metadata": {},
   "source": [
    "### Section 2.3. Matrix Operations"
   ]
  },
  {
   "cell_type": "code",
   "execution_count": 45,
   "id": "af7f4208-7b7d-4d39-a99a-feb6f774bfc0",
   "metadata": {},
   "outputs": [],
   "source": [
    "d = np.arange(0.0, 1000.0, 1.0).reshape(10,-1) # nesting operations in one line is common in this course"
   ]
  },
  {
   "cell_type": "code",
   "execution_count": 46,
   "id": "78c5453e-387b-4e1f-805c-293e182ff3db",
   "metadata": {},
   "outputs": [
    {
     "data": {
      "text/plain": [
       "(10, 100)"
      ]
     },
     "execution_count": 46,
     "metadata": {},
     "output_type": "execute_result"
    }
   ],
   "source": [
    "d.shape"
   ]
  },
  {
   "cell_type": "code",
   "execution_count": null,
   "id": "b16aec18-b9e2-4b4d-9986-0e0ae4a4d1b1",
   "metadata": {
    "jupyter": {
     "source_hidden": true
    },
    "tags": []
   },
   "outputs": [],
   "source": [
    "d"
   ]
  },
  {
   "cell_type": "code",
   "execution_count": 47,
   "id": "9a0a5dd6-dae3-434a-a402-d0d140991ad7",
   "metadata": {},
   "outputs": [
    {
     "data": {
      "text/plain": [
       "dtype('float64')"
      ]
     },
     "execution_count": 47,
     "metadata": {},
     "output_type": "execute_result"
    }
   ],
   "source": [
    "d.dtype"
   ]
  },
  {
   "cell_type": "code",
   "execution_count": 48,
   "id": "38dc1c6f-a868-40df-8ccc-a71ddc3d1337",
   "metadata": {},
   "outputs": [
    {
     "data": {
      "text/plain": [
       "dtype('int64')"
      ]
     },
     "execution_count": 48,
     "metadata": {},
     "output_type": "execute_result"
    }
   ],
   "source": [
    "b.dtype"
   ]
  },
  {
   "cell_type": "code",
   "execution_count": 49,
   "id": "c466948e-a9bc-4539-ac64-c6f4fd28f18e",
   "metadata": {},
   "outputs": [
    {
     "data": {
      "text/plain": [
       "(10, 100)"
      ]
     },
     "execution_count": 49,
     "metadata": {},
     "output_type": "execute_result"
    }
   ],
   "source": [
    "b.shape"
   ]
  },
  {
   "cell_type": "code",
   "execution_count": 50,
   "id": "66e74f2c-5256-454f-830b-02444dad1022",
   "metadata": {},
   "outputs": [
    {
     "data": {
      "text/plain": [
       "(10, 100)"
      ]
     },
     "execution_count": 50,
     "metadata": {},
     "output_type": "execute_result"
    }
   ],
   "source": [
    "d.shape"
   ]
  },
  {
   "cell_type": "code",
   "execution_count": 51,
   "id": "099fe2b9-f1f8-4e27-b6f1-0b29336f0cfe",
   "metadata": {
    "tags": []
   },
   "outputs": [
    {
     "data": {
      "text/plain": [
       "array([[0.00000e+00, 1.00000e+00, 4.00000e+00, 9.00000e+00, 1.60000e+01,\n",
       "        2.50000e+01, 3.60000e+01, 4.90000e+01, 6.40000e+01, 8.10000e+01,\n",
       "        1.00000e+02, 1.21000e+02, 1.44000e+02, 1.69000e+02, 1.96000e+02,\n",
       "        2.25000e+02, 2.56000e+02, 2.89000e+02, 3.24000e+02, 3.61000e+02,\n",
       "        4.00000e+02, 4.41000e+02, 4.84000e+02, 5.29000e+02, 5.76000e+02,\n",
       "        6.25000e+02, 6.76000e+02, 7.29000e+02, 7.84000e+02, 8.41000e+02,\n",
       "        9.00000e+02, 9.61000e+02, 1.02400e+03, 1.08900e+03, 1.15600e+03,\n",
       "        1.22500e+03, 1.29600e+03, 1.36900e+03, 1.44400e+03, 1.52100e+03,\n",
       "        1.60000e+03, 1.68100e+03, 1.76400e+03, 1.84900e+03, 1.93600e+03,\n",
       "        2.02500e+03, 2.11600e+03, 2.20900e+03, 2.30400e+03, 2.40100e+03,\n",
       "        2.50000e+03, 2.60100e+03, 2.70400e+03, 2.80900e+03, 2.91600e+03,\n",
       "        3.02500e+03, 3.13600e+03, 3.24900e+03, 3.36400e+03, 3.48100e+03,\n",
       "        3.60000e+03, 3.72100e+03, 3.84400e+03, 3.96900e+03, 4.09600e+03,\n",
       "        4.22500e+03, 4.35600e+03, 4.48900e+03, 4.62400e+03, 4.76100e+03,\n",
       "        4.90000e+03, 5.04100e+03, 5.18400e+03, 5.32900e+03, 5.47600e+03,\n",
       "        5.62500e+03, 5.77600e+03, 5.92900e+03, 6.08400e+03, 6.24100e+03,\n",
       "        6.40000e+03, 6.56100e+03, 6.72400e+03, 6.88900e+03, 7.05600e+03,\n",
       "        7.22500e+03, 7.39600e+03, 7.56900e+03, 7.74400e+03, 7.92100e+03,\n",
       "        8.10000e+03, 8.28100e+03, 8.46400e+03, 8.64900e+03, 8.83600e+03,\n",
       "        9.02500e+03, 9.21600e+03, 9.40900e+03, 9.60400e+03, 9.80100e+03],\n",
       "       [1.00000e+04, 1.02010e+04, 1.04040e+04, 1.06090e+04, 1.08160e+04,\n",
       "        1.10250e+04, 1.12360e+04, 1.14490e+04, 1.16640e+04, 1.18810e+04,\n",
       "        1.21000e+04, 1.23210e+04, 1.25440e+04, 1.27690e+04, 1.29960e+04,\n",
       "        1.32250e+04, 1.34560e+04, 1.36890e+04, 1.39240e+04, 1.41610e+04,\n",
       "        1.44000e+04, 1.46410e+04, 1.48840e+04, 1.51290e+04, 1.53760e+04,\n",
       "        1.56250e+04, 1.58760e+04, 1.61290e+04, 1.63840e+04, 1.66410e+04,\n",
       "        1.69000e+04, 1.71610e+04, 1.74240e+04, 1.76890e+04, 1.79560e+04,\n",
       "        1.82250e+04, 1.84960e+04, 1.87690e+04, 1.90440e+04, 1.93210e+04,\n",
       "        1.96000e+04, 1.98810e+04, 2.01640e+04, 2.04490e+04, 2.07360e+04,\n",
       "        2.10250e+04, 2.13160e+04, 2.16090e+04, 2.19040e+04, 2.22010e+04,\n",
       "        2.25000e+04, 2.28010e+04, 2.31040e+04, 2.34090e+04, 2.37160e+04,\n",
       "        2.40250e+04, 2.43360e+04, 2.46490e+04, 2.49640e+04, 2.52810e+04,\n",
       "        2.56000e+04, 2.59210e+04, 2.62440e+04, 2.65690e+04, 2.68960e+04,\n",
       "        2.72250e+04, 2.75560e+04, 2.78890e+04, 2.82240e+04, 2.85610e+04,\n",
       "        2.89000e+04, 2.92410e+04, 2.95840e+04, 2.99290e+04, 3.02760e+04,\n",
       "        3.06250e+04, 3.09760e+04, 3.13290e+04, 3.16840e+04, 3.20410e+04,\n",
       "        3.24000e+04, 3.27610e+04, 3.31240e+04, 3.34890e+04, 3.38560e+04,\n",
       "        3.42250e+04, 3.45960e+04, 3.49690e+04, 3.53440e+04, 3.57210e+04,\n",
       "        3.61000e+04, 3.64810e+04, 3.68640e+04, 3.72490e+04, 3.76360e+04,\n",
       "        3.80250e+04, 3.84160e+04, 3.88090e+04, 3.92040e+04, 3.96010e+04],\n",
       "       [4.00000e+04, 4.04010e+04, 4.08040e+04, 4.12090e+04, 4.16160e+04,\n",
       "        4.20250e+04, 4.24360e+04, 4.28490e+04, 4.32640e+04, 4.36810e+04,\n",
       "        4.41000e+04, 4.45210e+04, 4.49440e+04, 4.53690e+04, 4.57960e+04,\n",
       "        4.62250e+04, 4.66560e+04, 4.70890e+04, 4.75240e+04, 4.79610e+04,\n",
       "        4.84000e+04, 4.88410e+04, 4.92840e+04, 4.97290e+04, 5.01760e+04,\n",
       "        5.06250e+04, 5.10760e+04, 5.15290e+04, 5.19840e+04, 5.24410e+04,\n",
       "        5.29000e+04, 5.33610e+04, 5.38240e+04, 5.42890e+04, 5.47560e+04,\n",
       "        5.52250e+04, 5.56960e+04, 5.61690e+04, 5.66440e+04, 5.71210e+04,\n",
       "        5.76000e+04, 5.80810e+04, 5.85640e+04, 5.90490e+04, 5.95360e+04,\n",
       "        6.00250e+04, 6.05160e+04, 6.10090e+04, 6.15040e+04, 6.20010e+04,\n",
       "        6.25000e+04, 6.30010e+04, 6.35040e+04, 6.40090e+04, 6.45160e+04,\n",
       "        6.50250e+04, 6.55360e+04, 6.60490e+04, 6.65640e+04, 6.70810e+04,\n",
       "        6.76000e+04, 6.81210e+04, 6.86440e+04, 6.91690e+04, 6.96960e+04,\n",
       "        7.02250e+04, 7.07560e+04, 7.12890e+04, 7.18240e+04, 7.23610e+04,\n",
       "        7.29000e+04, 7.34410e+04, 7.39840e+04, 7.45290e+04, 7.50760e+04,\n",
       "        7.56250e+04, 7.61760e+04, 7.67290e+04, 7.72840e+04, 7.78410e+04,\n",
       "        7.84000e+04, 7.89610e+04, 7.95240e+04, 8.00890e+04, 8.06560e+04,\n",
       "        8.12250e+04, 8.17960e+04, 8.23690e+04, 8.29440e+04, 8.35210e+04,\n",
       "        8.41000e+04, 8.46810e+04, 8.52640e+04, 8.58490e+04, 8.64360e+04,\n",
       "        8.70250e+04, 8.76160e+04, 8.82090e+04, 8.88040e+04, 8.94010e+04],\n",
       "       [9.00000e+04, 9.06010e+04, 9.12040e+04, 9.18090e+04, 9.24160e+04,\n",
       "        9.30250e+04, 9.36360e+04, 9.42490e+04, 9.48640e+04, 9.54810e+04,\n",
       "        9.61000e+04, 9.67210e+04, 9.73440e+04, 9.79690e+04, 9.85960e+04,\n",
       "        9.92250e+04, 9.98560e+04, 1.00489e+05, 1.01124e+05, 1.01761e+05,\n",
       "        1.02400e+05, 1.03041e+05, 1.03684e+05, 1.04329e+05, 1.04976e+05,\n",
       "        1.05625e+05, 1.06276e+05, 1.06929e+05, 1.07584e+05, 1.08241e+05,\n",
       "        1.08900e+05, 1.09561e+05, 1.10224e+05, 1.10889e+05, 1.11556e+05,\n",
       "        1.12225e+05, 1.12896e+05, 1.13569e+05, 1.14244e+05, 1.14921e+05,\n",
       "        1.15600e+05, 1.16281e+05, 1.16964e+05, 1.17649e+05, 1.18336e+05,\n",
       "        1.19025e+05, 1.19716e+05, 1.20409e+05, 1.21104e+05, 1.21801e+05,\n",
       "        1.22500e+05, 1.23201e+05, 1.23904e+05, 1.24609e+05, 1.25316e+05,\n",
       "        1.26025e+05, 1.26736e+05, 1.27449e+05, 1.28164e+05, 1.28881e+05,\n",
       "        1.29600e+05, 1.30321e+05, 1.31044e+05, 1.31769e+05, 1.32496e+05,\n",
       "        1.33225e+05, 1.33956e+05, 1.34689e+05, 1.35424e+05, 1.36161e+05,\n",
       "        1.36900e+05, 1.37641e+05, 1.38384e+05, 1.39129e+05, 1.39876e+05,\n",
       "        1.40625e+05, 1.41376e+05, 1.42129e+05, 1.42884e+05, 1.43641e+05,\n",
       "        1.44400e+05, 1.45161e+05, 1.45924e+05, 1.46689e+05, 1.47456e+05,\n",
       "        1.48225e+05, 1.48996e+05, 1.49769e+05, 1.50544e+05, 1.51321e+05,\n",
       "        1.52100e+05, 1.52881e+05, 1.53664e+05, 1.54449e+05, 1.55236e+05,\n",
       "        1.56025e+05, 1.56816e+05, 1.57609e+05, 1.58404e+05, 1.59201e+05],\n",
       "       [1.60000e+05, 1.60801e+05, 1.61604e+05, 1.62409e+05, 1.63216e+05,\n",
       "        1.64025e+05, 1.64836e+05, 1.65649e+05, 1.66464e+05, 1.67281e+05,\n",
       "        1.68100e+05, 1.68921e+05, 1.69744e+05, 1.70569e+05, 1.71396e+05,\n",
       "        1.72225e+05, 1.73056e+05, 1.73889e+05, 1.74724e+05, 1.75561e+05,\n",
       "        1.76400e+05, 1.77241e+05, 1.78084e+05, 1.78929e+05, 1.79776e+05,\n",
       "        1.80625e+05, 1.81476e+05, 1.82329e+05, 1.83184e+05, 1.84041e+05,\n",
       "        1.84900e+05, 1.85761e+05, 1.86624e+05, 1.87489e+05, 1.88356e+05,\n",
       "        1.89225e+05, 1.90096e+05, 1.90969e+05, 1.91844e+05, 1.92721e+05,\n",
       "        1.93600e+05, 1.94481e+05, 1.95364e+05, 1.96249e+05, 1.97136e+05,\n",
       "        1.98025e+05, 1.98916e+05, 1.99809e+05, 2.00704e+05, 2.01601e+05,\n",
       "        2.02500e+05, 2.03401e+05, 2.04304e+05, 2.05209e+05, 2.06116e+05,\n",
       "        2.07025e+05, 2.07936e+05, 2.08849e+05, 2.09764e+05, 2.10681e+05,\n",
       "        2.11600e+05, 2.12521e+05, 2.13444e+05, 2.14369e+05, 2.15296e+05,\n",
       "        2.16225e+05, 2.17156e+05, 2.18089e+05, 2.19024e+05, 2.19961e+05,\n",
       "        2.20900e+05, 2.21841e+05, 2.22784e+05, 2.23729e+05, 2.24676e+05,\n",
       "        2.25625e+05, 2.26576e+05, 2.27529e+05, 2.28484e+05, 2.29441e+05,\n",
       "        2.30400e+05, 2.31361e+05, 2.32324e+05, 2.33289e+05, 2.34256e+05,\n",
       "        2.35225e+05, 2.36196e+05, 2.37169e+05, 2.38144e+05, 2.39121e+05,\n",
       "        2.40100e+05, 2.41081e+05, 2.42064e+05, 2.43049e+05, 2.44036e+05,\n",
       "        2.45025e+05, 2.46016e+05, 2.47009e+05, 2.48004e+05, 2.49001e+05],\n",
       "       [2.50000e+05, 2.51001e+05, 2.52004e+05, 2.53009e+05, 2.54016e+05,\n",
       "        2.55025e+05, 2.56036e+05, 2.57049e+05, 2.58064e+05, 2.59081e+05,\n",
       "        2.60100e+05, 2.61121e+05, 2.62144e+05, 2.63169e+05, 2.64196e+05,\n",
       "        2.65225e+05, 2.66256e+05, 2.67289e+05, 2.68324e+05, 2.69361e+05,\n",
       "        2.70400e+05, 2.71441e+05, 2.72484e+05, 2.73529e+05, 2.74576e+05,\n",
       "        2.75625e+05, 2.76676e+05, 2.77729e+05, 2.78784e+05, 2.79841e+05,\n",
       "        2.80900e+05, 2.81961e+05, 2.83024e+05, 2.84089e+05, 2.85156e+05,\n",
       "        2.86225e+05, 2.87296e+05, 2.88369e+05, 2.89444e+05, 2.90521e+05,\n",
       "        2.91600e+05, 2.92681e+05, 2.93764e+05, 2.94849e+05, 2.95936e+05,\n",
       "        2.97025e+05, 2.98116e+05, 2.99209e+05, 3.00304e+05, 3.01401e+05,\n",
       "        3.02500e+05, 3.03601e+05, 3.04704e+05, 3.05809e+05, 3.06916e+05,\n",
       "        3.08025e+05, 3.09136e+05, 3.10249e+05, 3.11364e+05, 3.12481e+05,\n",
       "        3.13600e+05, 3.14721e+05, 3.15844e+05, 3.16969e+05, 3.18096e+05,\n",
       "        3.19225e+05, 3.20356e+05, 3.21489e+05, 3.22624e+05, 3.23761e+05,\n",
       "        3.24900e+05, 3.26041e+05, 3.27184e+05, 3.28329e+05, 3.29476e+05,\n",
       "        3.30625e+05, 3.31776e+05, 3.32929e+05, 3.34084e+05, 3.35241e+05,\n",
       "        3.36400e+05, 3.37561e+05, 3.38724e+05, 3.39889e+05, 3.41056e+05,\n",
       "        3.42225e+05, 3.43396e+05, 3.44569e+05, 3.45744e+05, 3.46921e+05,\n",
       "        3.48100e+05, 3.49281e+05, 3.50464e+05, 3.51649e+05, 3.52836e+05,\n",
       "        3.54025e+05, 3.55216e+05, 3.56409e+05, 3.57604e+05, 3.58801e+05],\n",
       "       [3.60000e+05, 3.61201e+05, 3.62404e+05, 3.63609e+05, 3.64816e+05,\n",
       "        3.66025e+05, 3.67236e+05, 3.68449e+05, 3.69664e+05, 3.70881e+05,\n",
       "        3.72100e+05, 3.73321e+05, 3.74544e+05, 3.75769e+05, 3.76996e+05,\n",
       "        3.78225e+05, 3.79456e+05, 3.80689e+05, 3.81924e+05, 3.83161e+05,\n",
       "        3.84400e+05, 3.85641e+05, 3.86884e+05, 3.88129e+05, 3.89376e+05,\n",
       "        3.90625e+05, 3.91876e+05, 3.93129e+05, 3.94384e+05, 3.95641e+05,\n",
       "        3.96900e+05, 3.98161e+05, 3.99424e+05, 4.00689e+05, 4.01956e+05,\n",
       "        4.03225e+05, 4.04496e+05, 4.05769e+05, 4.07044e+05, 4.08321e+05,\n",
       "        4.09600e+05, 4.10881e+05, 4.12164e+05, 4.13449e+05, 4.14736e+05,\n",
       "        4.16025e+05, 4.17316e+05, 4.18609e+05, 4.19904e+05, 4.21201e+05,\n",
       "        4.22500e+05, 4.23801e+05, 4.25104e+05, 4.26409e+05, 4.27716e+05,\n",
       "        4.29025e+05, 4.30336e+05, 4.31649e+05, 4.32964e+05, 4.34281e+05,\n",
       "        4.35600e+05, 4.36921e+05, 4.38244e+05, 4.39569e+05, 4.40896e+05,\n",
       "        4.42225e+05, 4.43556e+05, 4.44889e+05, 4.46224e+05, 4.47561e+05,\n",
       "        4.48900e+05, 4.50241e+05, 4.51584e+05, 4.52929e+05, 4.54276e+05,\n",
       "        4.55625e+05, 4.56976e+05, 4.58329e+05, 4.59684e+05, 4.61041e+05,\n",
       "        4.62400e+05, 4.63761e+05, 4.65124e+05, 4.66489e+05, 4.67856e+05,\n",
       "        4.69225e+05, 4.70596e+05, 4.71969e+05, 4.73344e+05, 4.74721e+05,\n",
       "        4.76100e+05, 4.77481e+05, 4.78864e+05, 4.80249e+05, 4.81636e+05,\n",
       "        4.83025e+05, 4.84416e+05, 4.85809e+05, 4.87204e+05, 4.88601e+05],\n",
       "       [4.90000e+05, 4.91401e+05, 4.92804e+05, 4.94209e+05, 4.95616e+05,\n",
       "        4.97025e+05, 4.98436e+05, 4.99849e+05, 5.01264e+05, 5.02681e+05,\n",
       "        5.04100e+05, 5.05521e+05, 5.06944e+05, 5.08369e+05, 5.09796e+05,\n",
       "        5.11225e+05, 5.12656e+05, 5.14089e+05, 5.15524e+05, 5.16961e+05,\n",
       "        5.18400e+05, 5.19841e+05, 5.21284e+05, 5.22729e+05, 5.24176e+05,\n",
       "        5.25625e+05, 5.27076e+05, 5.28529e+05, 5.29984e+05, 5.31441e+05,\n",
       "        5.32900e+05, 5.34361e+05, 5.35824e+05, 5.37289e+05, 5.38756e+05,\n",
       "        5.40225e+05, 5.41696e+05, 5.43169e+05, 5.44644e+05, 5.46121e+05,\n",
       "        5.47600e+05, 5.49081e+05, 5.50564e+05, 5.52049e+05, 5.53536e+05,\n",
       "        5.55025e+05, 5.56516e+05, 5.58009e+05, 5.59504e+05, 5.61001e+05,\n",
       "        5.62500e+05, 5.64001e+05, 5.65504e+05, 5.67009e+05, 5.68516e+05,\n",
       "        5.70025e+05, 5.71536e+05, 5.73049e+05, 5.74564e+05, 5.76081e+05,\n",
       "        5.77600e+05, 5.79121e+05, 5.80644e+05, 5.82169e+05, 5.83696e+05,\n",
       "        5.85225e+05, 5.86756e+05, 5.88289e+05, 5.89824e+05, 5.91361e+05,\n",
       "        5.92900e+05, 5.94441e+05, 5.95984e+05, 5.97529e+05, 5.99076e+05,\n",
       "        6.00625e+05, 6.02176e+05, 6.03729e+05, 6.05284e+05, 6.06841e+05,\n",
       "        6.08400e+05, 6.09961e+05, 6.11524e+05, 6.13089e+05, 6.14656e+05,\n",
       "        6.16225e+05, 6.17796e+05, 6.19369e+05, 6.20944e+05, 6.22521e+05,\n",
       "        6.24100e+05, 6.25681e+05, 6.27264e+05, 6.28849e+05, 6.30436e+05,\n",
       "        6.32025e+05, 6.33616e+05, 6.35209e+05, 6.36804e+05, 6.38401e+05],\n",
       "       [6.40000e+05, 6.41601e+05, 6.43204e+05, 6.44809e+05, 6.46416e+05,\n",
       "        6.48025e+05, 6.49636e+05, 6.51249e+05, 6.52864e+05, 6.54481e+05,\n",
       "        6.56100e+05, 6.57721e+05, 6.59344e+05, 6.60969e+05, 6.62596e+05,\n",
       "        6.64225e+05, 6.65856e+05, 6.67489e+05, 6.69124e+05, 6.70761e+05,\n",
       "        6.72400e+05, 6.74041e+05, 6.75684e+05, 6.77329e+05, 6.78976e+05,\n",
       "        6.80625e+05, 6.82276e+05, 6.83929e+05, 6.85584e+05, 6.87241e+05,\n",
       "        6.88900e+05, 6.90561e+05, 6.92224e+05, 6.93889e+05, 6.95556e+05,\n",
       "        6.97225e+05, 6.98896e+05, 7.00569e+05, 7.02244e+05, 7.03921e+05,\n",
       "        7.05600e+05, 7.07281e+05, 7.08964e+05, 7.10649e+05, 7.12336e+05,\n",
       "        7.14025e+05, 7.15716e+05, 7.17409e+05, 7.19104e+05, 7.20801e+05,\n",
       "        7.22500e+05, 7.24201e+05, 7.25904e+05, 7.27609e+05, 7.29316e+05,\n",
       "        7.31025e+05, 7.32736e+05, 7.34449e+05, 7.36164e+05, 7.37881e+05,\n",
       "        7.39600e+05, 7.41321e+05, 7.43044e+05, 7.44769e+05, 7.46496e+05,\n",
       "        7.48225e+05, 7.49956e+05, 7.51689e+05, 7.53424e+05, 7.55161e+05,\n",
       "        7.56900e+05, 7.58641e+05, 7.60384e+05, 7.62129e+05, 7.63876e+05,\n",
       "        7.65625e+05, 7.67376e+05, 7.69129e+05, 7.70884e+05, 7.72641e+05,\n",
       "        7.74400e+05, 7.76161e+05, 7.77924e+05, 7.79689e+05, 7.81456e+05,\n",
       "        7.83225e+05, 7.84996e+05, 7.86769e+05, 7.88544e+05, 7.90321e+05,\n",
       "        7.92100e+05, 7.93881e+05, 7.95664e+05, 7.97449e+05, 7.99236e+05,\n",
       "        8.01025e+05, 8.02816e+05, 8.04609e+05, 8.06404e+05, 8.08201e+05],\n",
       "       [8.10000e+05, 8.11801e+05, 8.13604e+05, 8.15409e+05, 8.17216e+05,\n",
       "        8.19025e+05, 8.20836e+05, 8.22649e+05, 8.24464e+05, 8.26281e+05,\n",
       "        8.28100e+05, 8.29921e+05, 8.31744e+05, 8.33569e+05, 8.35396e+05,\n",
       "        8.37225e+05, 8.39056e+05, 8.40889e+05, 8.42724e+05, 8.44561e+05,\n",
       "        8.46400e+05, 8.48241e+05, 8.50084e+05, 8.51929e+05, 8.53776e+05,\n",
       "        8.55625e+05, 8.57476e+05, 8.59329e+05, 8.61184e+05, 8.63041e+05,\n",
       "        8.64900e+05, 8.66761e+05, 8.68624e+05, 8.70489e+05, 8.72356e+05,\n",
       "        8.74225e+05, 8.76096e+05, 8.77969e+05, 8.79844e+05, 8.81721e+05,\n",
       "        8.83600e+05, 8.85481e+05, 8.87364e+05, 8.89249e+05, 8.91136e+05,\n",
       "        8.93025e+05, 8.94916e+05, 8.96809e+05, 8.98704e+05, 9.00601e+05,\n",
       "        9.02500e+05, 9.04401e+05, 9.06304e+05, 9.08209e+05, 9.10116e+05,\n",
       "        9.12025e+05, 9.13936e+05, 9.15849e+05, 9.17764e+05, 9.19681e+05,\n",
       "        9.21600e+05, 9.23521e+05, 9.25444e+05, 9.27369e+05, 9.29296e+05,\n",
       "        9.31225e+05, 9.33156e+05, 9.35089e+05, 9.37024e+05, 9.38961e+05,\n",
       "        9.40900e+05, 9.42841e+05, 9.44784e+05, 9.46729e+05, 9.48676e+05,\n",
       "        9.50625e+05, 9.52576e+05, 9.54529e+05, 9.56484e+05, 9.58441e+05,\n",
       "        9.60400e+05, 9.62361e+05, 9.64324e+05, 9.66289e+05, 9.68256e+05,\n",
       "        9.70225e+05, 9.72196e+05, 9.74169e+05, 9.76144e+05, 9.78121e+05,\n",
       "        9.80100e+05, 9.82081e+05, 9.84064e+05, 9.86049e+05, 9.88036e+05,\n",
       "        9.90025e+05, 9.92016e+05, 9.94009e+05, 9.96004e+05, 9.98001e+05]])"
      ]
     },
     "execution_count": 51,
     "metadata": {},
     "output_type": "execute_result"
    }
   ],
   "source": [
    "np.multiply(b,d) # Linear algebra rule for mulitplying"
   ]
  },
  {
   "cell_type": "code",
   "execution_count": 52,
   "id": "db759b7b-2fe1-4db6-aa9d-fc7599f6d5b9",
   "metadata": {
    "tags": []
   },
   "outputs": [
    {
     "data": {
      "text/plain": [
       "array([[0.00000e+00, 1.00000e+00, 4.00000e+00, 9.00000e+00, 1.60000e+01,\n",
       "        2.50000e+01, 3.60000e+01, 4.90000e+01, 6.40000e+01, 8.10000e+01,\n",
       "        1.00000e+02, 1.21000e+02, 1.44000e+02, 1.69000e+02, 1.96000e+02,\n",
       "        2.25000e+02, 2.56000e+02, 2.89000e+02, 3.24000e+02, 3.61000e+02,\n",
       "        4.00000e+02, 4.41000e+02, 4.84000e+02, 5.29000e+02, 5.76000e+02,\n",
       "        6.25000e+02, 6.76000e+02, 7.29000e+02, 7.84000e+02, 8.41000e+02,\n",
       "        9.00000e+02, 9.61000e+02, 1.02400e+03, 1.08900e+03, 1.15600e+03,\n",
       "        1.22500e+03, 1.29600e+03, 1.36900e+03, 1.44400e+03, 1.52100e+03,\n",
       "        1.60000e+03, 1.68100e+03, 1.76400e+03, 1.84900e+03, 1.93600e+03,\n",
       "        2.02500e+03, 2.11600e+03, 2.20900e+03, 2.30400e+03, 2.40100e+03,\n",
       "        2.50000e+03, 2.60100e+03, 2.70400e+03, 2.80900e+03, 2.91600e+03,\n",
       "        3.02500e+03, 3.13600e+03, 3.24900e+03, 3.36400e+03, 3.48100e+03,\n",
       "        3.60000e+03, 3.72100e+03, 3.84400e+03, 3.96900e+03, 4.09600e+03,\n",
       "        4.22500e+03, 4.35600e+03, 4.48900e+03, 4.62400e+03, 4.76100e+03,\n",
       "        4.90000e+03, 5.04100e+03, 5.18400e+03, 5.32900e+03, 5.47600e+03,\n",
       "        5.62500e+03, 5.77600e+03, 5.92900e+03, 6.08400e+03, 6.24100e+03,\n",
       "        6.40000e+03, 6.56100e+03, 6.72400e+03, 6.88900e+03, 7.05600e+03,\n",
       "        7.22500e+03, 7.39600e+03, 7.56900e+03, 7.74400e+03, 7.92100e+03,\n",
       "        8.10000e+03, 8.28100e+03, 8.46400e+03, 8.64900e+03, 8.83600e+03,\n",
       "        9.02500e+03, 9.21600e+03, 9.40900e+03, 9.60400e+03, 9.80100e+03],\n",
       "       [1.00000e+04, 1.02010e+04, 1.04040e+04, 1.06090e+04, 1.08160e+04,\n",
       "        1.10250e+04, 1.12360e+04, 1.14490e+04, 1.16640e+04, 1.18810e+04,\n",
       "        1.21000e+04, 1.23210e+04, 1.25440e+04, 1.27690e+04, 1.29960e+04,\n",
       "        1.32250e+04, 1.34560e+04, 1.36890e+04, 1.39240e+04, 1.41610e+04,\n",
       "        1.44000e+04, 1.46410e+04, 1.48840e+04, 1.51290e+04, 1.53760e+04,\n",
       "        1.56250e+04, 1.58760e+04, 1.61290e+04, 1.63840e+04, 1.66410e+04,\n",
       "        1.69000e+04, 1.71610e+04, 1.74240e+04, 1.76890e+04, 1.79560e+04,\n",
       "        1.82250e+04, 1.84960e+04, 1.87690e+04, 1.90440e+04, 1.93210e+04,\n",
       "        1.96000e+04, 1.98810e+04, 2.01640e+04, 2.04490e+04, 2.07360e+04,\n",
       "        2.10250e+04, 2.13160e+04, 2.16090e+04, 2.19040e+04, 2.22010e+04,\n",
       "        2.25000e+04, 2.28010e+04, 2.31040e+04, 2.34090e+04, 2.37160e+04,\n",
       "        2.40250e+04, 2.43360e+04, 2.46490e+04, 2.49640e+04, 2.52810e+04,\n",
       "        2.56000e+04, 2.59210e+04, 2.62440e+04, 2.65690e+04, 2.68960e+04,\n",
       "        2.72250e+04, 2.75560e+04, 2.78890e+04, 2.82240e+04, 2.85610e+04,\n",
       "        2.89000e+04, 2.92410e+04, 2.95840e+04, 2.99290e+04, 3.02760e+04,\n",
       "        3.06250e+04, 3.09760e+04, 3.13290e+04, 3.16840e+04, 3.20410e+04,\n",
       "        3.24000e+04, 3.27610e+04, 3.31240e+04, 3.34890e+04, 3.38560e+04,\n",
       "        3.42250e+04, 3.45960e+04, 3.49690e+04, 3.53440e+04, 3.57210e+04,\n",
       "        3.61000e+04, 3.64810e+04, 3.68640e+04, 3.72490e+04, 3.76360e+04,\n",
       "        3.80250e+04, 3.84160e+04, 3.88090e+04, 3.92040e+04, 3.96010e+04],\n",
       "       [4.00000e+04, 4.04010e+04, 4.08040e+04, 4.12090e+04, 4.16160e+04,\n",
       "        4.20250e+04, 4.24360e+04, 4.28490e+04, 4.32640e+04, 4.36810e+04,\n",
       "        4.41000e+04, 4.45210e+04, 4.49440e+04, 4.53690e+04, 4.57960e+04,\n",
       "        4.62250e+04, 4.66560e+04, 4.70890e+04, 4.75240e+04, 4.79610e+04,\n",
       "        4.84000e+04, 4.88410e+04, 4.92840e+04, 4.97290e+04, 5.01760e+04,\n",
       "        5.06250e+04, 5.10760e+04, 5.15290e+04, 5.19840e+04, 5.24410e+04,\n",
       "        5.29000e+04, 5.33610e+04, 5.38240e+04, 5.42890e+04, 5.47560e+04,\n",
       "        5.52250e+04, 5.56960e+04, 5.61690e+04, 5.66440e+04, 5.71210e+04,\n",
       "        5.76000e+04, 5.80810e+04, 5.85640e+04, 5.90490e+04, 5.95360e+04,\n",
       "        6.00250e+04, 6.05160e+04, 6.10090e+04, 6.15040e+04, 6.20010e+04,\n",
       "        6.25000e+04, 6.30010e+04, 6.35040e+04, 6.40090e+04, 6.45160e+04,\n",
       "        6.50250e+04, 6.55360e+04, 6.60490e+04, 6.65640e+04, 6.70810e+04,\n",
       "        6.76000e+04, 6.81210e+04, 6.86440e+04, 6.91690e+04, 6.96960e+04,\n",
       "        7.02250e+04, 7.07560e+04, 7.12890e+04, 7.18240e+04, 7.23610e+04,\n",
       "        7.29000e+04, 7.34410e+04, 7.39840e+04, 7.45290e+04, 7.50760e+04,\n",
       "        7.56250e+04, 7.61760e+04, 7.67290e+04, 7.72840e+04, 7.78410e+04,\n",
       "        7.84000e+04, 7.89610e+04, 7.95240e+04, 8.00890e+04, 8.06560e+04,\n",
       "        8.12250e+04, 8.17960e+04, 8.23690e+04, 8.29440e+04, 8.35210e+04,\n",
       "        8.41000e+04, 8.46810e+04, 8.52640e+04, 8.58490e+04, 8.64360e+04,\n",
       "        8.70250e+04, 8.76160e+04, 8.82090e+04, 8.88040e+04, 8.94010e+04],\n",
       "       [9.00000e+04, 9.06010e+04, 9.12040e+04, 9.18090e+04, 9.24160e+04,\n",
       "        9.30250e+04, 9.36360e+04, 9.42490e+04, 9.48640e+04, 9.54810e+04,\n",
       "        9.61000e+04, 9.67210e+04, 9.73440e+04, 9.79690e+04, 9.85960e+04,\n",
       "        9.92250e+04, 9.98560e+04, 1.00489e+05, 1.01124e+05, 1.01761e+05,\n",
       "        1.02400e+05, 1.03041e+05, 1.03684e+05, 1.04329e+05, 1.04976e+05,\n",
       "        1.05625e+05, 1.06276e+05, 1.06929e+05, 1.07584e+05, 1.08241e+05,\n",
       "        1.08900e+05, 1.09561e+05, 1.10224e+05, 1.10889e+05, 1.11556e+05,\n",
       "        1.12225e+05, 1.12896e+05, 1.13569e+05, 1.14244e+05, 1.14921e+05,\n",
       "        1.15600e+05, 1.16281e+05, 1.16964e+05, 1.17649e+05, 1.18336e+05,\n",
       "        1.19025e+05, 1.19716e+05, 1.20409e+05, 1.21104e+05, 1.21801e+05,\n",
       "        1.22500e+05, 1.23201e+05, 1.23904e+05, 1.24609e+05, 1.25316e+05,\n",
       "        1.26025e+05, 1.26736e+05, 1.27449e+05, 1.28164e+05, 1.28881e+05,\n",
       "        1.29600e+05, 1.30321e+05, 1.31044e+05, 1.31769e+05, 1.32496e+05,\n",
       "        1.33225e+05, 1.33956e+05, 1.34689e+05, 1.35424e+05, 1.36161e+05,\n",
       "        1.36900e+05, 1.37641e+05, 1.38384e+05, 1.39129e+05, 1.39876e+05,\n",
       "        1.40625e+05, 1.41376e+05, 1.42129e+05, 1.42884e+05, 1.43641e+05,\n",
       "        1.44400e+05, 1.45161e+05, 1.45924e+05, 1.46689e+05, 1.47456e+05,\n",
       "        1.48225e+05, 1.48996e+05, 1.49769e+05, 1.50544e+05, 1.51321e+05,\n",
       "        1.52100e+05, 1.52881e+05, 1.53664e+05, 1.54449e+05, 1.55236e+05,\n",
       "        1.56025e+05, 1.56816e+05, 1.57609e+05, 1.58404e+05, 1.59201e+05],\n",
       "       [1.60000e+05, 1.60801e+05, 1.61604e+05, 1.62409e+05, 1.63216e+05,\n",
       "        1.64025e+05, 1.64836e+05, 1.65649e+05, 1.66464e+05, 1.67281e+05,\n",
       "        1.68100e+05, 1.68921e+05, 1.69744e+05, 1.70569e+05, 1.71396e+05,\n",
       "        1.72225e+05, 1.73056e+05, 1.73889e+05, 1.74724e+05, 1.75561e+05,\n",
       "        1.76400e+05, 1.77241e+05, 1.78084e+05, 1.78929e+05, 1.79776e+05,\n",
       "        1.80625e+05, 1.81476e+05, 1.82329e+05, 1.83184e+05, 1.84041e+05,\n",
       "        1.84900e+05, 1.85761e+05, 1.86624e+05, 1.87489e+05, 1.88356e+05,\n",
       "        1.89225e+05, 1.90096e+05, 1.90969e+05, 1.91844e+05, 1.92721e+05,\n",
       "        1.93600e+05, 1.94481e+05, 1.95364e+05, 1.96249e+05, 1.97136e+05,\n",
       "        1.98025e+05, 1.98916e+05, 1.99809e+05, 2.00704e+05, 2.01601e+05,\n",
       "        2.02500e+05, 2.03401e+05, 2.04304e+05, 2.05209e+05, 2.06116e+05,\n",
       "        2.07025e+05, 2.07936e+05, 2.08849e+05, 2.09764e+05, 2.10681e+05,\n",
       "        2.11600e+05, 2.12521e+05, 2.13444e+05, 2.14369e+05, 2.15296e+05,\n",
       "        2.16225e+05, 2.17156e+05, 2.18089e+05, 2.19024e+05, 2.19961e+05,\n",
       "        2.20900e+05, 2.21841e+05, 2.22784e+05, 2.23729e+05, 2.24676e+05,\n",
       "        2.25625e+05, 2.26576e+05, 2.27529e+05, 2.28484e+05, 2.29441e+05,\n",
       "        2.30400e+05, 2.31361e+05, 2.32324e+05, 2.33289e+05, 2.34256e+05,\n",
       "        2.35225e+05, 2.36196e+05, 2.37169e+05, 2.38144e+05, 2.39121e+05,\n",
       "        2.40100e+05, 2.41081e+05, 2.42064e+05, 2.43049e+05, 2.44036e+05,\n",
       "        2.45025e+05, 2.46016e+05, 2.47009e+05, 2.48004e+05, 2.49001e+05],\n",
       "       [2.50000e+05, 2.51001e+05, 2.52004e+05, 2.53009e+05, 2.54016e+05,\n",
       "        2.55025e+05, 2.56036e+05, 2.57049e+05, 2.58064e+05, 2.59081e+05,\n",
       "        2.60100e+05, 2.61121e+05, 2.62144e+05, 2.63169e+05, 2.64196e+05,\n",
       "        2.65225e+05, 2.66256e+05, 2.67289e+05, 2.68324e+05, 2.69361e+05,\n",
       "        2.70400e+05, 2.71441e+05, 2.72484e+05, 2.73529e+05, 2.74576e+05,\n",
       "        2.75625e+05, 2.76676e+05, 2.77729e+05, 2.78784e+05, 2.79841e+05,\n",
       "        2.80900e+05, 2.81961e+05, 2.83024e+05, 2.84089e+05, 2.85156e+05,\n",
       "        2.86225e+05, 2.87296e+05, 2.88369e+05, 2.89444e+05, 2.90521e+05,\n",
       "        2.91600e+05, 2.92681e+05, 2.93764e+05, 2.94849e+05, 2.95936e+05,\n",
       "        2.97025e+05, 2.98116e+05, 2.99209e+05, 3.00304e+05, 3.01401e+05,\n",
       "        3.02500e+05, 3.03601e+05, 3.04704e+05, 3.05809e+05, 3.06916e+05,\n",
       "        3.08025e+05, 3.09136e+05, 3.10249e+05, 3.11364e+05, 3.12481e+05,\n",
       "        3.13600e+05, 3.14721e+05, 3.15844e+05, 3.16969e+05, 3.18096e+05,\n",
       "        3.19225e+05, 3.20356e+05, 3.21489e+05, 3.22624e+05, 3.23761e+05,\n",
       "        3.24900e+05, 3.26041e+05, 3.27184e+05, 3.28329e+05, 3.29476e+05,\n",
       "        3.30625e+05, 3.31776e+05, 3.32929e+05, 3.34084e+05, 3.35241e+05,\n",
       "        3.36400e+05, 3.37561e+05, 3.38724e+05, 3.39889e+05, 3.41056e+05,\n",
       "        3.42225e+05, 3.43396e+05, 3.44569e+05, 3.45744e+05, 3.46921e+05,\n",
       "        3.48100e+05, 3.49281e+05, 3.50464e+05, 3.51649e+05, 3.52836e+05,\n",
       "        3.54025e+05, 3.55216e+05, 3.56409e+05, 3.57604e+05, 3.58801e+05],\n",
       "       [3.60000e+05, 3.61201e+05, 3.62404e+05, 3.63609e+05, 3.64816e+05,\n",
       "        3.66025e+05, 3.67236e+05, 3.68449e+05, 3.69664e+05, 3.70881e+05,\n",
       "        3.72100e+05, 3.73321e+05, 3.74544e+05, 3.75769e+05, 3.76996e+05,\n",
       "        3.78225e+05, 3.79456e+05, 3.80689e+05, 3.81924e+05, 3.83161e+05,\n",
       "        3.84400e+05, 3.85641e+05, 3.86884e+05, 3.88129e+05, 3.89376e+05,\n",
       "        3.90625e+05, 3.91876e+05, 3.93129e+05, 3.94384e+05, 3.95641e+05,\n",
       "        3.96900e+05, 3.98161e+05, 3.99424e+05, 4.00689e+05, 4.01956e+05,\n",
       "        4.03225e+05, 4.04496e+05, 4.05769e+05, 4.07044e+05, 4.08321e+05,\n",
       "        4.09600e+05, 4.10881e+05, 4.12164e+05, 4.13449e+05, 4.14736e+05,\n",
       "        4.16025e+05, 4.17316e+05, 4.18609e+05, 4.19904e+05, 4.21201e+05,\n",
       "        4.22500e+05, 4.23801e+05, 4.25104e+05, 4.26409e+05, 4.27716e+05,\n",
       "        4.29025e+05, 4.30336e+05, 4.31649e+05, 4.32964e+05, 4.34281e+05,\n",
       "        4.35600e+05, 4.36921e+05, 4.38244e+05, 4.39569e+05, 4.40896e+05,\n",
       "        4.42225e+05, 4.43556e+05, 4.44889e+05, 4.46224e+05, 4.47561e+05,\n",
       "        4.48900e+05, 4.50241e+05, 4.51584e+05, 4.52929e+05, 4.54276e+05,\n",
       "        4.55625e+05, 4.56976e+05, 4.58329e+05, 4.59684e+05, 4.61041e+05,\n",
       "        4.62400e+05, 4.63761e+05, 4.65124e+05, 4.66489e+05, 4.67856e+05,\n",
       "        4.69225e+05, 4.70596e+05, 4.71969e+05, 4.73344e+05, 4.74721e+05,\n",
       "        4.76100e+05, 4.77481e+05, 4.78864e+05, 4.80249e+05, 4.81636e+05,\n",
       "        4.83025e+05, 4.84416e+05, 4.85809e+05, 4.87204e+05, 4.88601e+05],\n",
       "       [4.90000e+05, 4.91401e+05, 4.92804e+05, 4.94209e+05, 4.95616e+05,\n",
       "        4.97025e+05, 4.98436e+05, 4.99849e+05, 5.01264e+05, 5.02681e+05,\n",
       "        5.04100e+05, 5.05521e+05, 5.06944e+05, 5.08369e+05, 5.09796e+05,\n",
       "        5.11225e+05, 5.12656e+05, 5.14089e+05, 5.15524e+05, 5.16961e+05,\n",
       "        5.18400e+05, 5.19841e+05, 5.21284e+05, 5.22729e+05, 5.24176e+05,\n",
       "        5.25625e+05, 5.27076e+05, 5.28529e+05, 5.29984e+05, 5.31441e+05,\n",
       "        5.32900e+05, 5.34361e+05, 5.35824e+05, 5.37289e+05, 5.38756e+05,\n",
       "        5.40225e+05, 5.41696e+05, 5.43169e+05, 5.44644e+05, 5.46121e+05,\n",
       "        5.47600e+05, 5.49081e+05, 5.50564e+05, 5.52049e+05, 5.53536e+05,\n",
       "        5.55025e+05, 5.56516e+05, 5.58009e+05, 5.59504e+05, 5.61001e+05,\n",
       "        5.62500e+05, 5.64001e+05, 5.65504e+05, 5.67009e+05, 5.68516e+05,\n",
       "        5.70025e+05, 5.71536e+05, 5.73049e+05, 5.74564e+05, 5.76081e+05,\n",
       "        5.77600e+05, 5.79121e+05, 5.80644e+05, 5.82169e+05, 5.83696e+05,\n",
       "        5.85225e+05, 5.86756e+05, 5.88289e+05, 5.89824e+05, 5.91361e+05,\n",
       "        5.92900e+05, 5.94441e+05, 5.95984e+05, 5.97529e+05, 5.99076e+05,\n",
       "        6.00625e+05, 6.02176e+05, 6.03729e+05, 6.05284e+05, 6.06841e+05,\n",
       "        6.08400e+05, 6.09961e+05, 6.11524e+05, 6.13089e+05, 6.14656e+05,\n",
       "        6.16225e+05, 6.17796e+05, 6.19369e+05, 6.20944e+05, 6.22521e+05,\n",
       "        6.24100e+05, 6.25681e+05, 6.27264e+05, 6.28849e+05, 6.30436e+05,\n",
       "        6.32025e+05, 6.33616e+05, 6.35209e+05, 6.36804e+05, 6.38401e+05],\n",
       "       [6.40000e+05, 6.41601e+05, 6.43204e+05, 6.44809e+05, 6.46416e+05,\n",
       "        6.48025e+05, 6.49636e+05, 6.51249e+05, 6.52864e+05, 6.54481e+05,\n",
       "        6.56100e+05, 6.57721e+05, 6.59344e+05, 6.60969e+05, 6.62596e+05,\n",
       "        6.64225e+05, 6.65856e+05, 6.67489e+05, 6.69124e+05, 6.70761e+05,\n",
       "        6.72400e+05, 6.74041e+05, 6.75684e+05, 6.77329e+05, 6.78976e+05,\n",
       "        6.80625e+05, 6.82276e+05, 6.83929e+05, 6.85584e+05, 6.87241e+05,\n",
       "        6.88900e+05, 6.90561e+05, 6.92224e+05, 6.93889e+05, 6.95556e+05,\n",
       "        6.97225e+05, 6.98896e+05, 7.00569e+05, 7.02244e+05, 7.03921e+05,\n",
       "        7.05600e+05, 7.07281e+05, 7.08964e+05, 7.10649e+05, 7.12336e+05,\n",
       "        7.14025e+05, 7.15716e+05, 7.17409e+05, 7.19104e+05, 7.20801e+05,\n",
       "        7.22500e+05, 7.24201e+05, 7.25904e+05, 7.27609e+05, 7.29316e+05,\n",
       "        7.31025e+05, 7.32736e+05, 7.34449e+05, 7.36164e+05, 7.37881e+05,\n",
       "        7.39600e+05, 7.41321e+05, 7.43044e+05, 7.44769e+05, 7.46496e+05,\n",
       "        7.48225e+05, 7.49956e+05, 7.51689e+05, 7.53424e+05, 7.55161e+05,\n",
       "        7.56900e+05, 7.58641e+05, 7.60384e+05, 7.62129e+05, 7.63876e+05,\n",
       "        7.65625e+05, 7.67376e+05, 7.69129e+05, 7.70884e+05, 7.72641e+05,\n",
       "        7.74400e+05, 7.76161e+05, 7.77924e+05, 7.79689e+05, 7.81456e+05,\n",
       "        7.83225e+05, 7.84996e+05, 7.86769e+05, 7.88544e+05, 7.90321e+05,\n",
       "        7.92100e+05, 7.93881e+05, 7.95664e+05, 7.97449e+05, 7.99236e+05,\n",
       "        8.01025e+05, 8.02816e+05, 8.04609e+05, 8.06404e+05, 8.08201e+05],\n",
       "       [8.10000e+05, 8.11801e+05, 8.13604e+05, 8.15409e+05, 8.17216e+05,\n",
       "        8.19025e+05, 8.20836e+05, 8.22649e+05, 8.24464e+05, 8.26281e+05,\n",
       "        8.28100e+05, 8.29921e+05, 8.31744e+05, 8.33569e+05, 8.35396e+05,\n",
       "        8.37225e+05, 8.39056e+05, 8.40889e+05, 8.42724e+05, 8.44561e+05,\n",
       "        8.46400e+05, 8.48241e+05, 8.50084e+05, 8.51929e+05, 8.53776e+05,\n",
       "        8.55625e+05, 8.57476e+05, 8.59329e+05, 8.61184e+05, 8.63041e+05,\n",
       "        8.64900e+05, 8.66761e+05, 8.68624e+05, 8.70489e+05, 8.72356e+05,\n",
       "        8.74225e+05, 8.76096e+05, 8.77969e+05, 8.79844e+05, 8.81721e+05,\n",
       "        8.83600e+05, 8.85481e+05, 8.87364e+05, 8.89249e+05, 8.91136e+05,\n",
       "        8.93025e+05, 8.94916e+05, 8.96809e+05, 8.98704e+05, 9.00601e+05,\n",
       "        9.02500e+05, 9.04401e+05, 9.06304e+05, 9.08209e+05, 9.10116e+05,\n",
       "        9.12025e+05, 9.13936e+05, 9.15849e+05, 9.17764e+05, 9.19681e+05,\n",
       "        9.21600e+05, 9.23521e+05, 9.25444e+05, 9.27369e+05, 9.29296e+05,\n",
       "        9.31225e+05, 9.33156e+05, 9.35089e+05, 9.37024e+05, 9.38961e+05,\n",
       "        9.40900e+05, 9.42841e+05, 9.44784e+05, 9.46729e+05, 9.48676e+05,\n",
       "        9.50625e+05, 9.52576e+05, 9.54529e+05, 9.56484e+05, 9.58441e+05,\n",
       "        9.60400e+05, 9.62361e+05, 9.64324e+05, 9.66289e+05, 9.68256e+05,\n",
       "        9.70225e+05, 9.72196e+05, 9.74169e+05, 9.76144e+05, 9.78121e+05,\n",
       "        9.80100e+05, 9.82081e+05, 9.84064e+05, 9.86049e+05, 9.88036e+05,\n",
       "        9.90025e+05, 9.92016e+05, 9.94009e+05, 9.96004e+05, 9.98001e+05]])"
      ]
     },
     "execution_count": 52,
     "metadata": {},
     "output_type": "execute_result"
    }
   ],
   "source": [
    "b*d # direct one-to-one multiplication, better suted for geospatial data operations, why?"
   ]
  },
  {
   "cell_type": "code",
   "execution_count": 53,
   "id": "1d36c02b-18e2-437f-a8bc-3ba98253471c",
   "metadata": {},
   "outputs": [
    {
     "data": {
      "text/plain": [
       "array([[  328350.,   823350.,  1318350.,  1813350.,  2308350.,  2803350.,\n",
       "         3298350.,  3793350.,  4288350.,  4783350.],\n",
       "       [  823350.,  2318350.,  3813350.,  5308350.,  6803350.,  8298350.,\n",
       "         9793350., 11288350., 12783350., 14278350.],\n",
       "       [ 1318350.,  3813350.,  6308350.,  8803350., 11298350., 13793350.,\n",
       "        16288350., 18783350., 21278350., 23773350.],\n",
       "       [ 1813350.,  5308350.,  8803350., 12298350., 15793350., 19288350.,\n",
       "        22783350., 26278350., 29773350., 33268350.],\n",
       "       [ 2308350.,  6803350., 11298350., 15793350., 20288350., 24783350.,\n",
       "        29278350., 33773350., 38268350., 42763350.],\n",
       "       [ 2803350.,  8298350., 13793350., 19288350., 24783350., 30278350.,\n",
       "        35773350., 41268350., 46763350., 52258350.],\n",
       "       [ 3298350.,  9793350., 16288350., 22783350., 29278350., 35773350.,\n",
       "        42268350., 48763350., 55258350., 61753350.],\n",
       "       [ 3793350., 11288350., 18783350., 26278350., 33773350., 41268350.,\n",
       "        48763350., 56258350., 63753350., 71248350.],\n",
       "       [ 4288350., 12783350., 21278350., 29773350., 38268350., 46763350.,\n",
       "        55258350., 63753350., 72248350., 80743350.],\n",
       "       [ 4783350., 14278350., 23773350., 33268350., 42763350., 52258350.,\n",
       "        61753350., 71248350., 80743350., 90238350.]])"
      ]
     },
     "execution_count": 53,
     "metadata": {},
     "output_type": "execute_result"
    }
   ],
   "source": [
    "np.matmul(b,d.transpose())"
   ]
  },
  {
   "cell_type": "markdown",
   "id": "008374f6-8459-4330-b458-cb08ad5ae3d4",
   "metadata": {},
   "source": [
    "### Section 2.4. Task\n",
    "Try to use the function you wrote (gisc_exponential) from the above with the numpy array (b), will it work? What is the intepretation of the error?"
   ]
  },
  {
   "cell_type": "code",
   "execution_count": 17,
   "id": "ee52f2b0-078e-46c2-a8f2-7c1673e95b2c",
   "metadata": {},
   "outputs": [],
   "source": [
    "b=np.arange(0,12,0.5).reshape(12,-1)\n",
    "np.shape(b)"
   ]
  },
  {
   "cell_type": "code",
   "execution_count": 71,
   "id": "e0095fb6-0eab-47bf-9714-8ed82e1f45f0",
   "metadata": {},
   "outputs": [
    {
     "ename": "ValueError",
     "evalue": "The truth value of an array with more than one element is ambiguous. Use a.any() or a.all()",
     "output_type": "error",
     "traceback": [
      "\u001b[0;31m---------------------------------------------------------------------------\u001b[0m",
      "\u001b[0;31mValueError\u001b[0m                                Traceback (most recent call last)",
      "Input \u001b[0;32mIn [71]\u001b[0m, in \u001b[0;36m<module>\u001b[0;34m\u001b[0m\n\u001b[0;32m----> 1\u001b[0m c\u001b[38;5;241m=\u001b[39m\u001b[43mgisc_exponential\u001b[49m\u001b[43m(\u001b[49m\u001b[43mb\u001b[49m\u001b[43m)\u001b[49m\n",
      "Input \u001b[0;32mIn [63]\u001b[0m, in \u001b[0;36mgisc_exponential\u001b[0;34m(x)\u001b[0m\n\u001b[1;32m      2\u001b[0m \u001b[38;5;28;01mdef\u001b[39;00m \u001b[38;5;21mgisc_exponential\u001b[39m(x):\n\u001b[1;32m      3\u001b[0m     e\u001b[38;5;241m=\u001b[39m\u001b[38;5;241m2.71828\u001b[39m\u001b[38;5;241m*\u001b[39m\u001b[38;5;241m*\u001b[39mx\n\u001b[0;32m----> 4\u001b[0m     \u001b[38;5;28;01mif\u001b[39;00m (e\u001b[38;5;241m<\u001b[39m\u001b[38;5;241m0.1\u001b[39m):\n\u001b[1;32m      5\u001b[0m         e\u001b[38;5;241m=\u001b[39m\u001b[38;5;241m0\u001b[39m\n\u001b[1;32m      6\u001b[0m     \u001b[38;5;28;01melse\u001b[39;00m:\n",
      "\u001b[0;31mValueError\u001b[0m: The truth value of an array with more than one element is ambiguous. Use a.any() or a.all()"
     ]
    }
   ],
   "source": [
    "c=gisc_exponential(b)"
   ]
  },
  {
   "cell_type": "code",
   "execution_count": 72,
   "id": "2c4efe70-21af-4424-9370-e797ec089107",
   "metadata": {},
   "outputs": [],
   "source": [
    "E=np.exp(b)"
   ]
  },
  {
   "cell_type": "code",
   "execution_count": 73,
   "id": "3701c815-590c-4e75-852a-6c37062cdb00",
   "metadata": {},
   "outputs": [
    {
     "data": {
      "text/plain": [
       "(12, 2)"
      ]
     },
     "execution_count": 73,
     "metadata": {},
     "output_type": "execute_result"
    }
   ],
   "source": [
    "E.shape"
   ]
  },
  {
   "cell_type": "code",
   "execution_count": 68,
   "id": "91333e9e-a146-4cbc-9c8d-c6db0cf8de0b",
   "metadata": {},
   "outputs": [
    {
     "data": {
      "text/plain": [
       "array([[1.00000000e+00, 1.64872127e+00],\n",
       "       [2.71828183e+00, 4.48168907e+00],\n",
       "       [7.38905610e+00, 1.21824940e+01],\n",
       "       [2.00855369e+01, 3.31154520e+01],\n",
       "       [5.45981500e+01, 9.00171313e+01],\n",
       "       [1.48413159e+02, 2.44691932e+02],\n",
       "       [4.03428793e+02, 6.65141633e+02],\n",
       "       [1.09663316e+03, 1.80804241e+03],\n",
       "       [2.98095799e+03, 4.91476884e+03],\n",
       "       [8.10308393e+03, 1.33597268e+04],\n",
       "       [2.20264658e+04, 3.63155027e+04],\n",
       "       [5.98741417e+04, 9.87157710e+04]])"
      ]
     },
     "execution_count": 68,
     "metadata": {},
     "output_type": "execute_result"
    }
   ],
   "source": [
    "E"
   ]
  },
  {
   "cell_type": "code",
   "execution_count": 29,
   "id": "469d0dce-7c73-40a5-ac67-f91ff96ba6c7",
   "metadata": {},
   "outputs": [
    {
     "data": {
      "text/plain": [
       "array([[ True,  True],\n",
       "       [ True,  True],\n",
       "       [ True, False],\n",
       "       [False, False],\n",
       "       [False, False],\n",
       "       [False, False],\n",
       "       [False, False],\n",
       "       [False, False],\n",
       "       [False, False],\n",
       "       [False, False],\n",
       "       [False, False],\n",
       "       [False, False]])"
      ]
     },
     "execution_count": 29,
     "metadata": {},
     "output_type": "execute_result"
    }
   ],
   "source": [
    "E<10"
   ]
  },
  {
   "cell_type": "code",
   "execution_count": 30,
   "id": "133d2061-c56f-49f1-b55a-a199856c5f0a",
   "metadata": {},
   "outputs": [
    {
     "data": {
      "text/plain": [
       "array([[  0,   0],\n",
       "       [  0,   0],\n",
       "       [  0, 100],\n",
       "       [100, 100],\n",
       "       [100, 100],\n",
       "       [100, 100],\n",
       "       [100, 100],\n",
       "       [100, 100],\n",
       "       [100, 100],\n",
       "       [100, 100],\n",
       "       [100, 100],\n",
       "       [100, 100]])"
      ]
     },
     "execution_count": 30,
     "metadata": {},
     "output_type": "execute_result"
    }
   ],
   "source": [
    "np.where(E<10,0,100)"
   ]
  },
  {
   "cell_type": "code",
   "execution_count": 269,
   "id": "46ecb3b2-5393-4598-a91c-9f6226add287",
   "metadata": {},
   "outputs": [
    {
     "data": {
      "text/plain": [
       "array([[ 0. ,  0.5],\n",
       "       [ 1. ,  1.5],\n",
       "       [ 2. ,  2.5],\n",
       "       [ 3. ,  3.5],\n",
       "       [ 4. ,  4.5],\n",
       "       [ 5. ,  5.5],\n",
       "       [ 6. ,  6.5],\n",
       "       [ 7. ,  7.5],\n",
       "       [ 8. ,  8.5],\n",
       "       [ 9. ,  9.5],\n",
       "       [10. , 10.5],\n",
       "       [11. , 11.5]])"
      ]
     },
     "execution_count": 269,
     "metadata": {},
     "output_type": "execute_result"
    }
   ],
   "source": [
    "b"
   ]
  },
  {
   "cell_type": "markdown",
   "id": "62857660-f553-4187-96e6-45a841ed8e05",
   "metadata": {},
   "source": [
    "### Section 2.5. Task\n",
    "Rewrite the gisc_exponential function to work with arrays this time using the np.where and the np.exp function. Call your function gisc_exponential_V2"
   ]
  },
  {
   "cell_type": "code",
   "execution_count": 301,
   "id": "0b51523d-025c-4128-ad4a-df82fd1ec5a2",
   "metadata": {},
   "outputs": [],
   "source": []
  }
 ],
 "metadata": {
  "kernelspec": {
   "display_name": "Python (baseline)",
   "language": "python",
   "name": "baseline"
  },
  "language_info": {
   "codemirror_mode": {
    "name": "ipython",
    "version": 3
   },
   "file_extension": ".py",
   "mimetype": "text/x-python",
   "name": "python",
   "nbconvert_exporter": "python",
   "pygments_lexer": "ipython3",
   "version": "3.8.16"
  }
 },
 "nbformat": 4,
 "nbformat_minor": 5
}
