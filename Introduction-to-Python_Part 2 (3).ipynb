{
 "cells": [
  {
   "cell_type": "markdown",
   "id": "be2c052c-1aa9-4b7e-9050-f9b26834b4a5",
   "metadata": {},
   "source": [
    "# GEOG310, Lab 01, Introduction to JupyterLab, notebooks, and Python - Part 2"
   ]
  },
  {
   "cell_type": "markdown",
   "id": "6b8df261-544d-4b37-b73a-630c2570706e",
   "metadata": {},
   "source": [
    "This notebook introduces the basic environment of Jupyter, allows you to get familiar with some commands, and get you started on your independent exploration"
   ]
  },
  {
   "cell_type": "markdown",
   "id": "2f671b22-5a7c-486e-98d0-5e4de418cfb4",
   "metadata": {},
   "source": [
    "Logging into see-trx4001\n",
    "    \n",
    "Step 1: open a user account using powershell on windows or linux/mac terminal\n",
    "    \n",
    "Step 2: secure shell into see-trx4001 linux computer\n",
    "        ***ssh usr123@see-trx4001.canterbury.ac.nz*** then hit enter\n",
    "    \n",
    "Step 3: use your internet browser to log into the JupyterLab server\n",
    "        ***https://see-trx4001.canterbury.ac.nz:9552/***"
   ]
  },
  {
   "cell_type": "markdown",
   "id": "24701dcd-9b39-480a-a7f4-64f63a13de63",
   "metadata": {
    "jupyter": {
     "outputs_hidden": true
    },
    "tags": []
   },
   "source": [
    "**What is a JupyterLab?**\n",
    "From https://jupyter.org/try-jupyter/retro/notebooks/?path=notebooks/Intro.ipynb\n",
    "JupyterLab is a next-generation web-based user interface for Project Jupyter. It enables you to work with documents and activities such as Jupyter notebooks, text editors, terminals, and custom components in a flexible, integrated, and extensible manner. It is the interface that you're looking at right now.\n",
    "\n",
    "**What is a Jupyter Notebook?**\n",
    "From https://jupyter.org/try-jupyter/retro/notebooks/?path=notebooks/Intro.ipynb\n",
    "Jupyter Notebooks are a community standard for communicating and performing interactive computing. They are a document that blends computations, outputs, explanatory text, mathematics, images, and rich media representations of objects.\n",
    "\n",
    "**Jupyter Notebooks are notebooks that combine live runnable code with narrative text**\n",
    "\n",
    "For further documentation and help on JupyterLab\n",
    "https://jupyterlab.readthedocs.io/en/stable/user/index.html"
   ]
  },
  {
   "cell_type": "markdown",
   "id": "b9198b2b-0c1d-4093-aaec-acdad4a9487f",
   "metadata": {},
   "source": [
    "# Section 1. Array Manipulation\n",
    "Numpy is \"The fundamental package for scientific computing with Python\". (https://numpy.org)"
   ]
  },
  {
   "cell_type": "markdown",
   "id": "f7c0ca31-ba1c-4358-8fae-f77298b01033",
   "metadata": {},
   "source": [
    "### Section 1.1. Importing Libraries"
   ]
  },
  {
   "cell_type": "code",
   "execution_count": null,
   "id": "4bc31247-ba6d-4ba8-a114-305fb8fca21b",
   "metadata": {
    "tags": []
   },
   "outputs": [],
   "source": [
    "### Libraries are existing packages of functions/classes written by you or someone else. You can utilize the existing functions to speed up your work."
   ]
  },
  {
   "cell_type": "code",
   "execution_count": 34,
   "id": "28354dc2-b795-45c6-a0d9-f5ce46e47404",
   "metadata": {},
   "outputs": [],
   "source": [
    "import numpy as np # import all the library"
   ]
  },
  {
   "cell_type": "code",
   "execution_count": 35,
   "id": "fc12c67e-232b-4d9e-9a03-70630f150cb8",
   "metadata": {},
   "outputs": [],
   "source": [
    "from numpy import sqrt as npsqrt # import a specific operation"
   ]
  },
  {
   "cell_type": "code",
   "execution_count": 36,
   "id": "b95e55c5-b4eb-4c8b-bc84-92128d4f991b",
   "metadata": {},
   "outputs": [
    {
     "data": {
      "text/plain": [
       "4.47213595499958"
      ]
     },
     "execution_count": 36,
     "metadata": {},
     "output_type": "execute_result"
    }
   ],
   "source": [
    "np.sqrt(20) # This way is more flexible..."
   ]
  },
  {
   "cell_type": "code",
   "execution_count": 37,
   "id": "5c8cf9c4-57b4-4d33-bd46-4dc5d228cadd",
   "metadata": {},
   "outputs": [
    {
     "data": {
      "text/plain": [
       "7.0710678118654755"
      ]
     },
     "execution_count": 37,
     "metadata": {},
     "output_type": "execute_result"
    }
   ],
   "source": [
    "np.sqrt(50)"
   ]
  },
  {
   "cell_type": "code",
   "execution_count": 48,
   "id": "ee4a39ad-04cf-4a27-8399-e2b26bc6ce86",
   "metadata": {
    "collapsed": true,
    "jupyter": {
     "outputs_hidden": true
    },
    "tags": []
   },
   "outputs": [
    {
     "data": {
      "text/plain": [
       "['ALLOW_THREADS',\n",
       " 'AxisError',\n",
       " 'BUFSIZE',\n",
       " 'CLIP',\n",
       " 'ComplexWarning',\n",
       " 'DataSource',\n",
       " 'ERR_CALL',\n",
       " 'ERR_DEFAULT',\n",
       " 'ERR_IGNORE',\n",
       " 'ERR_LOG',\n",
       " 'ERR_PRINT',\n",
       " 'ERR_RAISE',\n",
       " 'ERR_WARN',\n",
       " 'FLOATING_POINT_SUPPORT',\n",
       " 'FPE_DIVIDEBYZERO',\n",
       " 'FPE_INVALID',\n",
       " 'FPE_OVERFLOW',\n",
       " 'FPE_UNDERFLOW',\n",
       " 'False_',\n",
       " 'Inf',\n",
       " 'Infinity',\n",
       " 'MAXDIMS',\n",
       " 'MAY_SHARE_BOUNDS',\n",
       " 'MAY_SHARE_EXACT',\n",
       " 'ModuleDeprecationWarning',\n",
       " 'NAN',\n",
       " 'NINF',\n",
       " 'NZERO',\n",
       " 'NaN',\n",
       " 'PINF',\n",
       " 'PZERO',\n",
       " 'RAISE',\n",
       " 'RankWarning',\n",
       " 'SHIFT_DIVIDEBYZERO',\n",
       " 'SHIFT_INVALID',\n",
       " 'SHIFT_OVERFLOW',\n",
       " 'SHIFT_UNDERFLOW',\n",
       " 'ScalarType',\n",
       " 'Tester',\n",
       " 'TooHardError',\n",
       " 'True_',\n",
       " 'UFUNC_BUFSIZE_DEFAULT',\n",
       " 'UFUNC_PYVALS_NAME',\n",
       " 'VisibleDeprecationWarning',\n",
       " 'WRAP',\n",
       " '_CopyMode',\n",
       " '_NoValue',\n",
       " '_UFUNC_API',\n",
       " '__NUMPY_SETUP__',\n",
       " '__all__',\n",
       " '__builtins__',\n",
       " '__cached__',\n",
       " '__config__',\n",
       " '__deprecated_attrs__',\n",
       " '__dir__',\n",
       " '__doc__',\n",
       " '__expired_functions__',\n",
       " '__file__',\n",
       " '__former_attrs__',\n",
       " '__future_scalars__',\n",
       " '__getattr__',\n",
       " '__git_version__',\n",
       " '__loader__',\n",
       " '__name__',\n",
       " '__package__',\n",
       " '__path__',\n",
       " '__spec__',\n",
       " '__version__',\n",
       " '_add_newdoc_ufunc',\n",
       " '_builtins',\n",
       " '_distributor_init',\n",
       " '_financial_names',\n",
       " '_get_promotion_state',\n",
       " '_globals',\n",
       " '_int_extended_msg',\n",
       " '_mat',\n",
       " '_no_nep50_warning',\n",
       " '_pyinstaller_hooks_dir',\n",
       " '_pytesttester',\n",
       " '_set_promotion_state',\n",
       " '_specific_msg',\n",
       " '_version',\n",
       " 'abs',\n",
       " 'absolute',\n",
       " 'add',\n",
       " 'add_docstring',\n",
       " 'add_newdoc',\n",
       " 'add_newdoc_ufunc',\n",
       " 'all',\n",
       " 'allclose',\n",
       " 'alltrue',\n",
       " 'amax',\n",
       " 'amin',\n",
       " 'angle',\n",
       " 'any',\n",
       " 'append',\n",
       " 'apply_along_axis',\n",
       " 'apply_over_axes',\n",
       " 'arange',\n",
       " 'arccos',\n",
       " 'arccosh',\n",
       " 'arcsin',\n",
       " 'arcsinh',\n",
       " 'arctan',\n",
       " 'arctan2',\n",
       " 'arctanh',\n",
       " 'argmax',\n",
       " 'argmin',\n",
       " 'argpartition',\n",
       " 'argsort',\n",
       " 'argwhere',\n",
       " 'around',\n",
       " 'array',\n",
       " 'array2string',\n",
       " 'array_equal',\n",
       " 'array_equiv',\n",
       " 'array_repr',\n",
       " 'array_split',\n",
       " 'array_str',\n",
       " 'asanyarray',\n",
       " 'asarray',\n",
       " 'asarray_chkfinite',\n",
       " 'ascontiguousarray',\n",
       " 'asfarray',\n",
       " 'asfortranarray',\n",
       " 'asmatrix',\n",
       " 'atleast_1d',\n",
       " 'atleast_2d',\n",
       " 'atleast_3d',\n",
       " 'average',\n",
       " 'bartlett',\n",
       " 'base_repr',\n",
       " 'binary_repr',\n",
       " 'bincount',\n",
       " 'bitwise_and',\n",
       " 'bitwise_not',\n",
       " 'bitwise_or',\n",
       " 'bitwise_xor',\n",
       " 'blackman',\n",
       " 'block',\n",
       " 'bmat',\n",
       " 'bool_',\n",
       " 'broadcast',\n",
       " 'broadcast_arrays',\n",
       " 'broadcast_shapes',\n",
       " 'broadcast_to',\n",
       " 'busday_count',\n",
       " 'busday_offset',\n",
       " 'busdaycalendar',\n",
       " 'byte',\n",
       " 'byte_bounds',\n",
       " 'bytes_',\n",
       " 'c_',\n",
       " 'can_cast',\n",
       " 'cast',\n",
       " 'cbrt',\n",
       " 'cdouble',\n",
       " 'ceil',\n",
       " 'cfloat',\n",
       " 'char',\n",
       " 'character',\n",
       " 'chararray',\n",
       " 'choose',\n",
       " 'clip',\n",
       " 'clongdouble',\n",
       " 'clongfloat',\n",
       " 'column_stack',\n",
       " 'common_type',\n",
       " 'compare_chararrays',\n",
       " 'compat',\n",
       " 'complex128',\n",
       " 'complex256',\n",
       " 'complex64',\n",
       " 'complex_',\n",
       " 'complexfloating',\n",
       " 'compress',\n",
       " 'concatenate',\n",
       " 'conj',\n",
       " 'conjugate',\n",
       " 'convolve',\n",
       " 'copy',\n",
       " 'copysign',\n",
       " 'copyto',\n",
       " 'corrcoef',\n",
       " 'correlate',\n",
       " 'cos',\n",
       " 'cosh',\n",
       " 'count_nonzero',\n",
       " 'cov',\n",
       " 'cross',\n",
       " 'csingle',\n",
       " 'ctypeslib',\n",
       " 'cumprod',\n",
       " 'cumproduct',\n",
       " 'cumsum',\n",
       " 'datetime64',\n",
       " 'datetime_as_string',\n",
       " 'datetime_data',\n",
       " 'deg2rad',\n",
       " 'degrees',\n",
       " 'delete',\n",
       " 'deprecate',\n",
       " 'deprecate_with_doc',\n",
       " 'diag',\n",
       " 'diag_indices',\n",
       " 'diag_indices_from',\n",
       " 'diagflat',\n",
       " 'diagonal',\n",
       " 'diff',\n",
       " 'digitize',\n",
       " 'disp',\n",
       " 'divide',\n",
       " 'divmod',\n",
       " 'dot',\n",
       " 'double',\n",
       " 'dsplit',\n",
       " 'dstack',\n",
       " 'dtype',\n",
       " 'e',\n",
       " 'ediff1d',\n",
       " 'einsum',\n",
       " 'einsum_path',\n",
       " 'emath',\n",
       " 'empty',\n",
       " 'empty_like',\n",
       " 'equal',\n",
       " 'errstate',\n",
       " 'euler_gamma',\n",
       " 'exp',\n",
       " 'exp2',\n",
       " 'expand_dims',\n",
       " 'expm1',\n",
       " 'extract',\n",
       " 'eye',\n",
       " 'fabs',\n",
       " 'fastCopyAndTranspose',\n",
       " 'fft',\n",
       " 'fill_diagonal',\n",
       " 'find_common_type',\n",
       " 'finfo',\n",
       " 'fix',\n",
       " 'flatiter',\n",
       " 'flatnonzero',\n",
       " 'flexible',\n",
       " 'flip',\n",
       " 'fliplr',\n",
       " 'flipud',\n",
       " 'float128',\n",
       " 'float16',\n",
       " 'float32',\n",
       " 'float64',\n",
       " 'float_',\n",
       " 'float_power',\n",
       " 'floating',\n",
       " 'floor',\n",
       " 'floor_divide',\n",
       " 'fmax',\n",
       " 'fmin',\n",
       " 'fmod',\n",
       " 'format_float_positional',\n",
       " 'format_float_scientific',\n",
       " 'format_parser',\n",
       " 'frexp',\n",
       " 'from_dlpack',\n",
       " 'frombuffer',\n",
       " 'fromfile',\n",
       " 'fromfunction',\n",
       " 'fromiter',\n",
       " 'frompyfunc',\n",
       " 'fromregex',\n",
       " 'fromstring',\n",
       " 'full',\n",
       " 'full_like',\n",
       " 'gcd',\n",
       " 'generic',\n",
       " 'genfromtxt',\n",
       " 'geomspace',\n",
       " 'get_array_wrap',\n",
       " 'get_include',\n",
       " 'get_printoptions',\n",
       " 'getbufsize',\n",
       " 'geterr',\n",
       " 'geterrcall',\n",
       " 'geterrobj',\n",
       " 'gradient',\n",
       " 'greater',\n",
       " 'greater_equal',\n",
       " 'half',\n",
       " 'hamming',\n",
       " 'hanning',\n",
       " 'heaviside',\n",
       " 'histogram',\n",
       " 'histogram2d',\n",
       " 'histogram_bin_edges',\n",
       " 'histogramdd',\n",
       " 'hsplit',\n",
       " 'hstack',\n",
       " 'hypot',\n",
       " 'i0',\n",
       " 'identity',\n",
       " 'iinfo',\n",
       " 'imag',\n",
       " 'in1d',\n",
       " 'index_exp',\n",
       " 'indices',\n",
       " 'inexact',\n",
       " 'inf',\n",
       " 'info',\n",
       " 'infty',\n",
       " 'inner',\n",
       " 'insert',\n",
       " 'int16',\n",
       " 'int32',\n",
       " 'int64',\n",
       " 'int8',\n",
       " 'int_',\n",
       " 'intc',\n",
       " 'integer',\n",
       " 'interp',\n",
       " 'intersect1d',\n",
       " 'intp',\n",
       " 'invert',\n",
       " 'is_busday',\n",
       " 'isclose',\n",
       " 'iscomplex',\n",
       " 'iscomplexobj',\n",
       " 'isfinite',\n",
       " 'isfortran',\n",
       " 'isin',\n",
       " 'isinf',\n",
       " 'isnan',\n",
       " 'isnat',\n",
       " 'isneginf',\n",
       " 'isposinf',\n",
       " 'isreal',\n",
       " 'isrealobj',\n",
       " 'isscalar',\n",
       " 'issctype',\n",
       " 'issubclass_',\n",
       " 'issubdtype',\n",
       " 'issubsctype',\n",
       " 'iterable',\n",
       " 'ix_',\n",
       " 'kaiser',\n",
       " 'kernel_version',\n",
       " 'kron',\n",
       " 'lcm',\n",
       " 'ldexp',\n",
       " 'left_shift',\n",
       " 'less',\n",
       " 'less_equal',\n",
       " 'lexsort',\n",
       " 'lib',\n",
       " 'linalg',\n",
       " 'linspace',\n",
       " 'little_endian',\n",
       " 'load',\n",
       " 'loadtxt',\n",
       " 'log',\n",
       " 'log10',\n",
       " 'log1p',\n",
       " 'log2',\n",
       " 'logaddexp',\n",
       " 'logaddexp2',\n",
       " 'logical_and',\n",
       " 'logical_not',\n",
       " 'logical_or',\n",
       " 'logical_xor',\n",
       " 'logspace',\n",
       " 'longcomplex',\n",
       " 'longdouble',\n",
       " 'longfloat',\n",
       " 'longlong',\n",
       " 'lookfor',\n",
       " 'ma',\n",
       " 'mask_indices',\n",
       " 'mat',\n",
       " 'math',\n",
       " 'matmul',\n",
       " 'matrix',\n",
       " 'max',\n",
       " 'maximum',\n",
       " 'maximum_sctype',\n",
       " 'may_share_memory',\n",
       " 'mean',\n",
       " 'median',\n",
       " 'memmap',\n",
       " 'meshgrid',\n",
       " 'mgrid',\n",
       " 'min',\n",
       " 'min_scalar_type',\n",
       " 'minimum',\n",
       " 'mintypecode',\n",
       " 'mod',\n",
       " 'modf',\n",
       " 'moveaxis',\n",
       " 'msort',\n",
       " 'multiply',\n",
       " 'nan',\n",
       " 'nan_to_num',\n",
       " 'nanargmax',\n",
       " 'nanargmin',\n",
       " 'nancumprod',\n",
       " 'nancumsum',\n",
       " 'nanmax',\n",
       " 'nanmean',\n",
       " 'nanmedian',\n",
       " 'nanmin',\n",
       " 'nanpercentile',\n",
       " 'nanprod',\n",
       " 'nanquantile',\n",
       " 'nanstd',\n",
       " 'nansum',\n",
       " 'nanvar',\n",
       " 'nbytes',\n",
       " 'ndarray',\n",
       " 'ndenumerate',\n",
       " 'ndim',\n",
       " 'ndindex',\n",
       " 'nditer',\n",
       " 'negative',\n",
       " 'nested_iters',\n",
       " 'newaxis',\n",
       " 'nextafter',\n",
       " 'nonzero',\n",
       " 'not_equal',\n",
       " 'numarray',\n",
       " 'number',\n",
       " 'obj2sctype',\n",
       " 'object_',\n",
       " 'ogrid',\n",
       " 'oldnumeric',\n",
       " 'ones',\n",
       " 'ones_like',\n",
       " 'outer',\n",
       " 'packbits',\n",
       " 'pad',\n",
       " 'partition',\n",
       " 'percentile',\n",
       " 'pi',\n",
       " 'piecewise',\n",
       " 'place',\n",
       " 'poly',\n",
       " 'poly1d',\n",
       " 'polyadd',\n",
       " 'polyder',\n",
       " 'polydiv',\n",
       " 'polyfit',\n",
       " 'polyint',\n",
       " 'polymul',\n",
       " 'polynomial',\n",
       " 'polysub',\n",
       " 'polyval',\n",
       " 'positive',\n",
       " 'power',\n",
       " 'printoptions',\n",
       " 'prod',\n",
       " 'product',\n",
       " 'promote_types',\n",
       " 'ptp',\n",
       " 'put',\n",
       " 'put_along_axis',\n",
       " 'putmask',\n",
       " 'quantile',\n",
       " 'r_',\n",
       " 'rad2deg',\n",
       " 'radians',\n",
       " 'random',\n",
       " 'ravel',\n",
       " 'ravel_multi_index',\n",
       " 'real',\n",
       " 'real_if_close',\n",
       " 'rec',\n",
       " 'recarray',\n",
       " 'recfromcsv',\n",
       " 'recfromtxt',\n",
       " 'reciprocal',\n",
       " 'record',\n",
       " 'remainder',\n",
       " 'repeat',\n",
       " 'require',\n",
       " 'reshape',\n",
       " 'resize',\n",
       " 'result_type',\n",
       " 'right_shift',\n",
       " 'rint',\n",
       " 'roll',\n",
       " 'rollaxis',\n",
       " 'roots',\n",
       " 'rot90',\n",
       " 'round',\n",
       " 'round_',\n",
       " 'row_stack',\n",
       " 's_',\n",
       " 'safe_eval',\n",
       " 'save',\n",
       " 'savetxt',\n",
       " 'savez',\n",
       " 'savez_compressed',\n",
       " 'sctype2char',\n",
       " 'sctypeDict',\n",
       " 'sctypes',\n",
       " 'searchsorted',\n",
       " 'select',\n",
       " 'set_numeric_ops',\n",
       " 'set_printoptions',\n",
       " 'set_string_function',\n",
       " 'setbufsize',\n",
       " 'setdiff1d',\n",
       " 'seterr',\n",
       " 'seterrcall',\n",
       " 'seterrobj',\n",
       " 'setxor1d',\n",
       " 'shape',\n",
       " 'shares_memory',\n",
       " 'short',\n",
       " 'show_config',\n",
       " 'show_runtime',\n",
       " 'sign',\n",
       " 'signbit',\n",
       " 'signedinteger',\n",
       " 'sin',\n",
       " 'sinc',\n",
       " 'single',\n",
       " 'singlecomplex',\n",
       " 'sinh',\n",
       " 'size',\n",
       " 'sometrue',\n",
       " 'sort',\n",
       " 'sort_complex',\n",
       " 'source',\n",
       " 'spacing',\n",
       " 'split',\n",
       " 'sqrt',\n",
       " 'square',\n",
       " 'squeeze',\n",
       " 'stack',\n",
       " 'std',\n",
       " 'str_',\n",
       " 'string_',\n",
       " 'subtract',\n",
       " 'sum',\n",
       " 'swapaxes',\n",
       " 'take',\n",
       " 'take_along_axis',\n",
       " 'tan',\n",
       " 'tanh',\n",
       " 'tensordot',\n",
       " 'test',\n",
       " 'testing',\n",
       " 'tile',\n",
       " 'timedelta64',\n",
       " 'trace',\n",
       " 'tracemalloc_domain',\n",
       " 'transpose',\n",
       " 'trapz',\n",
       " 'tri',\n",
       " 'tril',\n",
       " 'tril_indices',\n",
       " 'tril_indices_from',\n",
       " 'trim_zeros',\n",
       " 'triu',\n",
       " 'triu_indices',\n",
       " 'triu_indices_from',\n",
       " 'true_divide',\n",
       " 'trunc',\n",
       " 'typecodes',\n",
       " 'typename',\n",
       " 'ubyte',\n",
       " 'ufunc',\n",
       " 'uint',\n",
       " 'uint16',\n",
       " 'uint32',\n",
       " 'uint64',\n",
       " 'uint8',\n",
       " 'uintc',\n",
       " 'uintp',\n",
       " 'ulonglong',\n",
       " 'unicode_',\n",
       " 'union1d',\n",
       " 'unique',\n",
       " 'unpackbits',\n",
       " 'unravel_index',\n",
       " 'unsignedinteger',\n",
       " 'unwrap',\n",
       " 'use_hugepage',\n",
       " 'ushort',\n",
       " 'vander',\n",
       " 'var',\n",
       " 'vdot',\n",
       " 'vectorize',\n",
       " 'version',\n",
       " 'void',\n",
       " 'vsplit',\n",
       " 'vstack',\n",
       " 'where',\n",
       " 'who',\n",
       " 'zeros',\n",
       " 'zeros_like']"
      ]
     },
     "execution_count": 48,
     "metadata": {},
     "output_type": "execute_result"
    }
   ],
   "source": [
    "# dont forget that you list all functions in the library using:\n",
    "dir(np) # remember that numpy is imported as np now."
   ]
  },
  {
   "cell_type": "markdown",
   "id": "a6e368b7-a98e-465e-9f9d-29cf10b989fc",
   "metadata": {},
   "source": [
    "### Section 1.2. Creating an Array"
   ]
  },
  {
   "cell_type": "code",
   "execution_count": 49,
   "id": "c64f26b8-97b0-4ba4-b0fa-5a4d308c4ae8",
   "metadata": {},
   "outputs": [],
   "source": [
    "vector=np.array([0,1,2,3,4,5,6,7,8,9,10])"
   ]
  },
  {
   "cell_type": "code",
   "execution_count": 50,
   "id": "36cb3e9a-16f9-43f0-98b0-caa9a4ca0cde",
   "metadata": {},
   "outputs": [
    {
     "data": {
      "text/plain": [
       "array([ 0,  1,  2,  3,  4,  5,  6,  7,  8,  9, 10])"
      ]
     },
     "execution_count": 50,
     "metadata": {},
     "output_type": "execute_result"
    }
   ],
   "source": [
    "vector"
   ]
  },
  {
   "cell_type": "code",
   "execution_count": 32,
   "id": "202e0458-70d5-4dc5-9517-a78727096b5f",
   "metadata": {
    "tags": []
   },
   "outputs": [],
   "source": [
    "a = np.arange(0,11,1) #is a function used to create an array with regularly spaced values within a specified range.\n",
    "# np.arange(start,stop,step)"
   ]
  },
  {
   "cell_type": "code",
   "execution_count": 33,
   "id": "6cd95453-cee5-410f-8dcc-b51ec03bca34",
   "metadata": {
    "tags": []
   },
   "outputs": [
    {
     "data": {
      "text/plain": [
       "array([ 0,  1,  2,  3,  4,  5,  6,  7,  8,  9, 10])"
      ]
     },
     "execution_count": 33,
     "metadata": {},
     "output_type": "execute_result"
    }
   ],
   "source": [
    "a"
   ]
  },
  {
   "cell_type": "code",
   "execution_count": 53,
   "id": "8f637d3c-cbd6-4087-92df-957557afc88d",
   "metadata": {},
   "outputs": [],
   "source": [
    "#Task: Explore what the numpy function linspace does\n"
   ]
  },
  {
   "cell_type": "code",
   "execution_count": null,
   "id": "fb21a961-9c2e-4223-8d2d-9c450ad71d9c",
   "metadata": {},
   "outputs": [],
   "source": []
  },
  {
   "cell_type": "code",
   "execution_count": null,
   "id": "0f7f41f6-cc7e-4801-aee2-7c29ed987f09",
   "metadata": {},
   "outputs": [],
   "source": [
    "#Task: explore what the numpy functions ones and zeros do"
   ]
  },
  {
   "cell_type": "code",
   "execution_count": 67,
   "id": "09ea7d33-5cb1-4e67-9821-f8fb59ee4d13",
   "metadata": {},
   "outputs": [],
   "source": []
  },
  {
   "cell_type": "code",
   "execution_count": null,
   "id": "f3e2c7f6-f10a-4111-bad8-90371626f160",
   "metadata": {},
   "outputs": [],
   "source": [
    "# creating 2 dimensional arrays"
   ]
  },
  {
   "cell_type": "code",
   "execution_count": 9,
   "id": "7f99d091-afbb-4089-a8da-56d9a0f3bf20",
   "metadata": {},
   "outputs": [],
   "source": [
    "A=np.array([[5,10,15],[10,20,30]])"
   ]
  },
  {
   "cell_type": "code",
   "execution_count": 10,
   "id": "1b145bc0-76d3-4e53-baa5-aad791557ea5",
   "metadata": {},
   "outputs": [
    {
     "data": {
      "text/plain": [
       "array([[ 5, 10, 15],\n",
       "       [10, 20, 30]])"
      ]
     },
     "execution_count": 10,
     "metadata": {},
     "output_type": "execute_result"
    }
   ],
   "source": [
    "A"
   ]
  },
  {
   "cell_type": "code",
   "execution_count": 83,
   "id": "f7de6dde-f872-4139-8f27-a2924396f9a1",
   "metadata": {},
   "outputs": [],
   "source": [
    "a=np.array([[20,30,40],[50,60,70],[80,90,100],[200,300,400]])"
   ]
  },
  {
   "cell_type": "code",
   "execution_count": 84,
   "id": "15512e60-4406-444f-8bab-5f7d67ac35a4",
   "metadata": {},
   "outputs": [
    {
     "data": {
      "text/plain": [
       "array([[ 20,  30,  40],\n",
       "       [ 50,  60,  70],\n",
       "       [ 80,  90, 100],\n",
       "       [200, 300, 400]])"
      ]
     },
     "execution_count": 84,
     "metadata": {},
     "output_type": "execute_result"
    }
   ],
   "source": [
    "a"
   ]
  },
  {
   "cell_type": "code",
   "execution_count": 85,
   "id": "7567432c-e94a-4f5f-ac89-343dccbc5114",
   "metadata": {},
   "outputs": [
    {
     "name": "stdout",
     "output_type": "stream",
     "text": [
      "12\n",
      "(4, 3)\n",
      "2\n",
      "int64\n"
     ]
    }
   ],
   "source": [
    "# finding array attributes\n",
    "print(a.size)\n",
    "print(a.shape)\n",
    "print(a.ndim)\n",
    "print(a.dtype)"
   ]
  },
  {
   "cell_type": "code",
   "execution_count": 11,
   "id": "612d6a97-c236-4c3b-8078-e5027ad2fdf5",
   "metadata": {},
   "outputs": [
    {
     "name": "stdout",
     "output_type": "stream",
     "text": [
      "6\n",
      "(2, 3)\n",
      "2\n",
      "int64\n"
     ]
    }
   ],
   "source": [
    "print(A.size)\n",
    "print(A.shape)\n",
    "print(A.ndim)\n",
    "print(A.dtype)"
   ]
  },
  {
   "cell_type": "markdown",
   "id": "164e3cae-2f05-4196-963f-1f1641fe16ec",
   "metadata": {},
   "source": [
    "### Section 1.3. Array Operations"
   ]
  },
  {
   "cell_type": "code",
   "execution_count": null,
   "id": "12b5202a-2725-4a41-810d-e22a86b5e235",
   "metadata": {},
   "outputs": [],
   "source": [
    "# Reshaping arrays"
   ]
  },
  {
   "cell_type": "code",
   "execution_count": 86,
   "id": "8e07e7bd-9d2e-45ba-882b-5fa55ca284af",
   "metadata": {},
   "outputs": [
    {
     "data": {
      "text/plain": [
       "(4, 3)"
      ]
     },
     "execution_count": 86,
     "metadata": {},
     "output_type": "execute_result"
    }
   ],
   "source": [
    "a.shape"
   ]
  },
  {
   "cell_type": "code",
   "execution_count": 15,
   "id": "0ae3abd6-6669-4710-b85a-a225ab432f07",
   "metadata": {},
   "outputs": [],
   "source": [
    "Aa=np.reshape(A,(3,2))"
   ]
  },
  {
   "cell_type": "code",
   "execution_count": 16,
   "id": "83129bcd-3a9b-41f4-bf04-bab47db1c151",
   "metadata": {},
   "outputs": [
    {
     "data": {
      "text/plain": [
       "array([[ 5, 10],\n",
       "       [15, 10],\n",
       "       [20, 30]])"
      ]
     },
     "execution_count": 16,
     "metadata": {},
     "output_type": "execute_result"
    }
   ],
   "source": [
    "Aa"
   ]
  },
  {
   "cell_type": "code",
   "execution_count": 95,
   "id": "b1d3670e-dbfc-413d-865e-bedcd29d2b6f",
   "metadata": {},
   "outputs": [
    {
     "data": {
      "text/plain": [
       "array([[ 20,  30,  40,  50,  60,  70],\n",
       "       [ 80,  90, 100, 200, 300, 400]])"
      ]
     },
     "execution_count": 95,
     "metadata": {},
     "output_type": "execute_result"
    }
   ],
   "source": [
    "b=np.reshape(a,(2,6))\n",
    "b"
   ]
  },
  {
   "cell_type": "code",
   "execution_count": 97,
   "id": "f868972f-08b4-48b8-9107-f18ed3b2c984",
   "metadata": {},
   "outputs": [],
   "source": [
    "# What does this do?\n",
    "b=np.reshape(a,(2,-1))"
   ]
  },
  {
   "cell_type": "code",
   "execution_count": 104,
   "id": "f8d51a8f-a015-4a82-89e8-01962627b7b8",
   "metadata": {
    "tags": []
   },
   "outputs": [
    {
     "data": {
      "text/plain": [
       "(2, 6)"
      ]
     },
     "execution_count": 104,
     "metadata": {},
     "output_type": "execute_result"
    }
   ],
   "source": [
    "b.shape"
   ]
  },
  {
   "cell_type": "code",
   "execution_count": 99,
   "id": "18029e51-9c52-4a25-bfff-253a34522607",
   "metadata": {
    "tags": []
   },
   "outputs": [
    {
     "data": {
      "text/plain": [
       "array([[ 20,  30,  40,  50,  60,  70],\n",
       "       [ 80,  90, 100, 200, 300, 400]])"
      ]
     },
     "execution_count": 99,
     "metadata": {},
     "output_type": "execute_result"
    }
   ],
   "source": [
    "b"
   ]
  },
  {
   "cell_type": "code",
   "execution_count": 105,
   "id": "826c817d-6ce4-404d-942d-99e817c86b43",
   "metadata": {},
   "outputs": [],
   "source": [
    "# nesting operations in one line is common in this course\n",
    "d = np.arange(0.0, 1000.0, 1.0).reshape(10,-1) "
   ]
  },
  {
   "cell_type": "code",
   "execution_count": 106,
   "id": "5ccf4e6e-5325-4854-aa2b-f9937fc6860b",
   "metadata": {},
   "outputs": [
    {
     "data": {
      "text/plain": [
       "(10, 100)"
      ]
     },
     "execution_count": 106,
     "metadata": {},
     "output_type": "execute_result"
    }
   ],
   "source": [
    "d.shape"
   ]
  },
  {
   "cell_type": "code",
   "execution_count": 107,
   "id": "e3541d34-dc7b-4d77-9c4b-43c3e169f6b6",
   "metadata": {
    "collapsed": true,
    "jupyter": {
     "outputs_hidden": true,
     "source_hidden": true
    },
    "tags": []
   },
   "outputs": [
    {
     "data": {
      "text/plain": [
       "array([[  0.,   1.,   2.,   3.,   4.,   5.,   6.,   7.,   8.,   9.,  10.,\n",
       "         11.,  12.,  13.,  14.,  15.,  16.,  17.,  18.,  19.,  20.,  21.,\n",
       "         22.,  23.,  24.,  25.,  26.,  27.,  28.,  29.,  30.,  31.,  32.,\n",
       "         33.,  34.,  35.,  36.,  37.,  38.,  39.,  40.,  41.,  42.,  43.,\n",
       "         44.,  45.,  46.,  47.,  48.,  49.,  50.,  51.,  52.,  53.,  54.,\n",
       "         55.,  56.,  57.,  58.,  59.,  60.,  61.,  62.,  63.,  64.,  65.,\n",
       "         66.,  67.,  68.,  69.,  70.,  71.,  72.,  73.,  74.,  75.,  76.,\n",
       "         77.,  78.,  79.,  80.,  81.,  82.,  83.,  84.,  85.,  86.,  87.,\n",
       "         88.,  89.,  90.,  91.,  92.,  93.,  94.,  95.,  96.,  97.,  98.,\n",
       "         99.],\n",
       "       [100., 101., 102., 103., 104., 105., 106., 107., 108., 109., 110.,\n",
       "        111., 112., 113., 114., 115., 116., 117., 118., 119., 120., 121.,\n",
       "        122., 123., 124., 125., 126., 127., 128., 129., 130., 131., 132.,\n",
       "        133., 134., 135., 136., 137., 138., 139., 140., 141., 142., 143.,\n",
       "        144., 145., 146., 147., 148., 149., 150., 151., 152., 153., 154.,\n",
       "        155., 156., 157., 158., 159., 160., 161., 162., 163., 164., 165.,\n",
       "        166., 167., 168., 169., 170., 171., 172., 173., 174., 175., 176.,\n",
       "        177., 178., 179., 180., 181., 182., 183., 184., 185., 186., 187.,\n",
       "        188., 189., 190., 191., 192., 193., 194., 195., 196., 197., 198.,\n",
       "        199.],\n",
       "       [200., 201., 202., 203., 204., 205., 206., 207., 208., 209., 210.,\n",
       "        211., 212., 213., 214., 215., 216., 217., 218., 219., 220., 221.,\n",
       "        222., 223., 224., 225., 226., 227., 228., 229., 230., 231., 232.,\n",
       "        233., 234., 235., 236., 237., 238., 239., 240., 241., 242., 243.,\n",
       "        244., 245., 246., 247., 248., 249., 250., 251., 252., 253., 254.,\n",
       "        255., 256., 257., 258., 259., 260., 261., 262., 263., 264., 265.,\n",
       "        266., 267., 268., 269., 270., 271., 272., 273., 274., 275., 276.,\n",
       "        277., 278., 279., 280., 281., 282., 283., 284., 285., 286., 287.,\n",
       "        288., 289., 290., 291., 292., 293., 294., 295., 296., 297., 298.,\n",
       "        299.],\n",
       "       [300., 301., 302., 303., 304., 305., 306., 307., 308., 309., 310.,\n",
       "        311., 312., 313., 314., 315., 316., 317., 318., 319., 320., 321.,\n",
       "        322., 323., 324., 325., 326., 327., 328., 329., 330., 331., 332.,\n",
       "        333., 334., 335., 336., 337., 338., 339., 340., 341., 342., 343.,\n",
       "        344., 345., 346., 347., 348., 349., 350., 351., 352., 353., 354.,\n",
       "        355., 356., 357., 358., 359., 360., 361., 362., 363., 364., 365.,\n",
       "        366., 367., 368., 369., 370., 371., 372., 373., 374., 375., 376.,\n",
       "        377., 378., 379., 380., 381., 382., 383., 384., 385., 386., 387.,\n",
       "        388., 389., 390., 391., 392., 393., 394., 395., 396., 397., 398.,\n",
       "        399.],\n",
       "       [400., 401., 402., 403., 404., 405., 406., 407., 408., 409., 410.,\n",
       "        411., 412., 413., 414., 415., 416., 417., 418., 419., 420., 421.,\n",
       "        422., 423., 424., 425., 426., 427., 428., 429., 430., 431., 432.,\n",
       "        433., 434., 435., 436., 437., 438., 439., 440., 441., 442., 443.,\n",
       "        444., 445., 446., 447., 448., 449., 450., 451., 452., 453., 454.,\n",
       "        455., 456., 457., 458., 459., 460., 461., 462., 463., 464., 465.,\n",
       "        466., 467., 468., 469., 470., 471., 472., 473., 474., 475., 476.,\n",
       "        477., 478., 479., 480., 481., 482., 483., 484., 485., 486., 487.,\n",
       "        488., 489., 490., 491., 492., 493., 494., 495., 496., 497., 498.,\n",
       "        499.],\n",
       "       [500., 501., 502., 503., 504., 505., 506., 507., 508., 509., 510.,\n",
       "        511., 512., 513., 514., 515., 516., 517., 518., 519., 520., 521.,\n",
       "        522., 523., 524., 525., 526., 527., 528., 529., 530., 531., 532.,\n",
       "        533., 534., 535., 536., 537., 538., 539., 540., 541., 542., 543.,\n",
       "        544., 545., 546., 547., 548., 549., 550., 551., 552., 553., 554.,\n",
       "        555., 556., 557., 558., 559., 560., 561., 562., 563., 564., 565.,\n",
       "        566., 567., 568., 569., 570., 571., 572., 573., 574., 575., 576.,\n",
       "        577., 578., 579., 580., 581., 582., 583., 584., 585., 586., 587.,\n",
       "        588., 589., 590., 591., 592., 593., 594., 595., 596., 597., 598.,\n",
       "        599.],\n",
       "       [600., 601., 602., 603., 604., 605., 606., 607., 608., 609., 610.,\n",
       "        611., 612., 613., 614., 615., 616., 617., 618., 619., 620., 621.,\n",
       "        622., 623., 624., 625., 626., 627., 628., 629., 630., 631., 632.,\n",
       "        633., 634., 635., 636., 637., 638., 639., 640., 641., 642., 643.,\n",
       "        644., 645., 646., 647., 648., 649., 650., 651., 652., 653., 654.,\n",
       "        655., 656., 657., 658., 659., 660., 661., 662., 663., 664., 665.,\n",
       "        666., 667., 668., 669., 670., 671., 672., 673., 674., 675., 676.,\n",
       "        677., 678., 679., 680., 681., 682., 683., 684., 685., 686., 687.,\n",
       "        688., 689., 690., 691., 692., 693., 694., 695., 696., 697., 698.,\n",
       "        699.],\n",
       "       [700., 701., 702., 703., 704., 705., 706., 707., 708., 709., 710.,\n",
       "        711., 712., 713., 714., 715., 716., 717., 718., 719., 720., 721.,\n",
       "        722., 723., 724., 725., 726., 727., 728., 729., 730., 731., 732.,\n",
       "        733., 734., 735., 736., 737., 738., 739., 740., 741., 742., 743.,\n",
       "        744., 745., 746., 747., 748., 749., 750., 751., 752., 753., 754.,\n",
       "        755., 756., 757., 758., 759., 760., 761., 762., 763., 764., 765.,\n",
       "        766., 767., 768., 769., 770., 771., 772., 773., 774., 775., 776.,\n",
       "        777., 778., 779., 780., 781., 782., 783., 784., 785., 786., 787.,\n",
       "        788., 789., 790., 791., 792., 793., 794., 795., 796., 797., 798.,\n",
       "        799.],\n",
       "       [800., 801., 802., 803., 804., 805., 806., 807., 808., 809., 810.,\n",
       "        811., 812., 813., 814., 815., 816., 817., 818., 819., 820., 821.,\n",
       "        822., 823., 824., 825., 826., 827., 828., 829., 830., 831., 832.,\n",
       "        833., 834., 835., 836., 837., 838., 839., 840., 841., 842., 843.,\n",
       "        844., 845., 846., 847., 848., 849., 850., 851., 852., 853., 854.,\n",
       "        855., 856., 857., 858., 859., 860., 861., 862., 863., 864., 865.,\n",
       "        866., 867., 868., 869., 870., 871., 872., 873., 874., 875., 876.,\n",
       "        877., 878., 879., 880., 881., 882., 883., 884., 885., 886., 887.,\n",
       "        888., 889., 890., 891., 892., 893., 894., 895., 896., 897., 898.,\n",
       "        899.],\n",
       "       [900., 901., 902., 903., 904., 905., 906., 907., 908., 909., 910.,\n",
       "        911., 912., 913., 914., 915., 916., 917., 918., 919., 920., 921.,\n",
       "        922., 923., 924., 925., 926., 927., 928., 929., 930., 931., 932.,\n",
       "        933., 934., 935., 936., 937., 938., 939., 940., 941., 942., 943.,\n",
       "        944., 945., 946., 947., 948., 949., 950., 951., 952., 953., 954.,\n",
       "        955., 956., 957., 958., 959., 960., 961., 962., 963., 964., 965.,\n",
       "        966., 967., 968., 969., 970., 971., 972., 973., 974., 975., 976.,\n",
       "        977., 978., 979., 980., 981., 982., 983., 984., 985., 986., 987.,\n",
       "        988., 989., 990., 991., 992., 993., 994., 995., 996., 997., 998.,\n",
       "        999.]])"
      ]
     },
     "execution_count": 107,
     "metadata": {},
     "output_type": "execute_result"
    }
   ],
   "source": [
    "d"
   ]
  },
  {
   "cell_type": "markdown",
   "id": "85fb0a9a-d5fa-400f-b4eb-9cb62d211c31",
   "metadata": {},
   "source": [
    "## Self Learning 1: Take this online tutorial\n",
    "\n",
    "Try to develp your notebook likewise and experiment with various numpy functionalities\n",
    "https://cs231n.github.io/python-numpy-tutorial/#numpy\n"
   ]
  },
  {
   "cell_type": "code",
   "execution_count": null,
   "id": "56aa5ac4-660a-4d12-860b-ee86ab46d621",
   "metadata": {},
   "outputs": [],
   "source": []
  },
  {
   "cell_type": "markdown",
   "id": "aa162241-0d81-478f-8bbb-60c5a088aeff",
   "metadata": {},
   "source": [
    "## Self Learning 2: Watch and implemt this tutorial\n",
    "\n",
    "Watch up to time 10:30 in the video to cover the numpy basics\n",
    "https://www.youtube.com/watch?v=AAS8yoKuK7M"
   ]
  },
  {
   "cell_type": "code",
   "execution_count": null,
   "id": "5a9363c5-bb39-404b-abf9-6b54cf028956",
   "metadata": {},
   "outputs": [],
   "source": []
  }
 ],
 "metadata": {
  "kernelspec": {
   "display_name": "Python (baseline)",
   "language": "python",
   "name": "baseline"
  },
  "language_info": {
   "codemirror_mode": {
    "name": "ipython",
    "version": 3
   },
   "file_extension": ".py",
   "mimetype": "text/x-python",
   "name": "python",
   "nbconvert_exporter": "python",
   "pygments_lexer": "ipython3",
   "version": "3.8.16"
  }
 },
 "nbformat": 4,
 "nbformat_minor": 5
}
